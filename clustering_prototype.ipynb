{
  "cells": [
    {
      "cell_type": "markdown",
      "metadata": {
        "id": "OQljMrW6zX0s"
      },
      "source": [
        "# Clustering Prototype - Initial Version\n",
        "## Sentence embedding, dimensionality reduction, feature selection, clustering, and explaining clusters.\n",
        "\n",
        "---\n",
        "\n",
        "This file will allow you to set variables to run clustering and explainability on a dataset. In the next cell, you will be able to:\n",
        "\n",
        "1.   Specify a dataset\n",
        "     - [IMDB Movie Reviews](https://www.kaggle.com/datasets/lakshmi25npathi/imdb-dataset-of-50k-movie-reviews) for sentiment analysis\n",
        "     - [Customer Support Ticket Dataset](https://www.kaggle.com/datasets/suraj520/customer-support-ticket-dataset)\n",
        "2.   Specify an embedding method\n",
        "     - Sentence-BERT ([paper](https://arxiv.org/abs/1908.10084), [documentation](https://www.sbert.net/))\n",
        "     - LLM2Vec ([paper](https://arxiv.org/abs/2404.05961), [GitHub](https://github.com/McGill-NLP/llm2vec))\n",
        "2.   Flag if you would like dimensionality reduction (PCA) to occur\n",
        "3.   Flag if you would like feature selection (decision trees) to occur\n",
        "\n",
        "Based on these options, the file will run K-means clustering and labeling on the dataset.\n",
        "\n",
        "Finally, it will prompt an LLM to explain the cluster groupings.\n",
        "\n",
        "---\n"
      ]
    },
    {
      "cell_type": "markdown",
      "metadata": {
        "id": "ATLd6Ei23DsK"
      },
      "source": [
        "## Set options for clustering\n",
        "\n",
        "For each of the sections in the following cell, uncomment the option you wish to use for each section and ensure the rest are commented out.\n",
        "\n",
        "For embedding methods, the options are:\n",
        "1. Sentence BERT\n",
        "2. LLM2Vec\n",
        "\n",
        "For dimensionality reduction, there is the option to enable or disable PCA.\n",
        "\n",
        "For feature selection, there is the option to enable or disable decision trees.\n",
        "\n",
        "For cluster count, there are options for the method of scoring (WCSS Elbow or SIlhouette Score), and the number of clusters."
      ]
    },
    {
      "cell_type": "code",
      "execution_count": 2,
      "metadata": {
        "id": "sAJedakN2ZXn"
      },
      "outputs": [],
      "source": [
        "# Dataset --------------------------------------------\n",
        "dataset = \"Synthetic_Customer_Data.csv\"\n",
        "text_col = \"Conversation\"\n",
        "# dataset = \"IMDB.csv\"\n",
        "# text_col = \"review\"\n",
        "# label_col = \"sentiment\"\n",
        "# dataset = \"helpdesk_customer_tickets.csv\"\n",
        "# text_col =\n",
        "# label_col =\n",
        "\n",
        "# Embedding method -----------------------------------\n",
        "method = \"s_bert\"\n",
        "# method = \"llm2vec\"\n",
        "\n",
        "# Dimensionality reduction (PCA) ---------------------\n",
        "pca = True\n",
        "# pca = False\n",
        "\n",
        "# Feature selection (decision trees)  ----------------\n",
        "# decision_trees = True\n",
        "decision_trees = False\n",
        "\n",
        "# Cluster count selection ----------------------------\n",
        "cluster_count_method = \"WCSS Elbow\"\n",
        "# cluster_count_method = \"Silhouette Score\"\n",
        "# cluster_count = 10"
      ]
    },
    {
      "cell_type": "markdown",
      "metadata": {
        "id": "KXSvOxxy4fGr"
      },
      "source": [
        "## Imports and Requirements"
      ]
    },
    {
      "cell_type": "markdown",
      "metadata": {
        "id": "vOB_dE6OzX0u"
      },
      "source": [
        "This notebook was ran on a newly created venv through conda in order to gather the necessary requiremets. The venv was running Python 3.11.10.\n",
        "\n",
        "The following packages were present:\n",
        "\n",
        "\n",
        "| Name                     | Version        | Build                | Channel      |\n",
        "|--------------------------|----------------|----------------------|--------------|\n",
        "| appnope                  | 0.1.4          | pyhd8ed1ab_0         | conda-forge  |\n",
        "| asttokens                | 2.4.1          | pyhd8ed1ab_0         | conda-forge  |\n",
        "| bzip2                    | 1.0.8          | h6c40b1e_6           |              |\n",
        "| ca-certificates          | 2024.9.24      | hecd8cb5_0           |              |\n",
        "| certifi                  | 2024.8.30      | pypi_0               | pypi         |\n",
        "| charset-normalizer       | 3.4.0          | pypi_0               | pypi         |\n",
        "| comm                     | 0.2.2          | pyhd8ed1ab_0         | conda-forge  |\n",
        "| contourpy                | 1.3.1          | pypi_0               | pypi         |\n",
        "| cycler                   | 0.12.1         | pypi_0               | pypi         |\n",
        "| debugpy                  | 1.8.8          | py311hc356e98_0      | conda-forge  |\n",
        "| decorator                | 5.1.1          | pyhd8ed1ab_0         | conda-forge  |\n",
        "| exceptiongroup           | 1.2.2          | pyhd8ed1ab_0         | conda-forge  |\n",
        "| executing                | 2.1.0          | pyhd8ed1ab_0         | conda-forge  |\n",
        "| filelock                 | 3.16.1         | pypi_0               | pypi         |\n",
        "| fonttools                | 4.55.0         | pypi_0               | pypi         |\n",
        "| fsspec                   | 2024.10.0      | pypi_0               | pypi         |\n",
        "| huggingface-hub          | 0.26.2         | pypi_0               | pypi         |\n",
        "| idna                     | 3.10           | pypi_0               | pypi         |\n",
        "| importlib-metadata       | 8.5.0          | pyha770c72f_0        | conda-forge  |\n",
        "| ipykernel                | 6.29.5         | pyh57ce528_0         | conda-forge  |\n",
        "| ipython                  | 8.29.0         | pyh707e725_0         | conda-forge  |\n",
        "| jedi                     | 0.19.2         | pyhff2d567_0         | conda-forge  |\n",
        "| jinja2                   | 3.1.4          | pypi_0               | pypi         |\n",
        "| joblib                   | 1.4.2          | pypi_0               | pypi         |\n",
        "| jupyter_client           | 8.6.3          | pyhd8ed1ab_0         | conda-forge  |\n",
        "| jupyter_core             | 5.7.2          | pyh31011fe_1         | conda-forge  |\n",
        "| kiwisolver               | 1.4.7          | pypi_0               | pypi         |\n",
        "| krb5                     | 1.21.3         | h37d8d59_0           | conda-forge  |\n",
        "| libcxx                   | 19.1.3         | hf95d169_0           | conda-forge  |\n",
        "| libedit                  | 3.1.20191231   | h0678c8f_2           | conda-forge  |\n",
        "| libffi                   | 3.4.4          | hecd8cb5_1           |              |\n",
        "| libsodium                | 1.0.20         | hfdf4475_0           | conda-forge  |\n",
        "| markupsafe               | 3.0.2          | pypi_0               | pypi         |\n",
        "| matplotlib               | 3.9.2          | pypi_0               | pypi         |\n",
        "| matplotlib-inline        | 0.1.7          | pyhd8ed1ab_0         | conda-forge  |\n",
        "| mpmath                   | 1.3.0          | pypi_0               | pypi         |\n",
        "| ncurses                  | 6.4            | hcec6c5f_0           |              |\n",
        "| nest-asyncio             | 1.6.0          | pyhd8ed1ab_0         | conda-forge  |\n",
        "| networkx                 | 3.4.2          | pypi_0               | pypi         |\n",
        "| numpy                    | 1.26.0         | pypi_0               | pypi         |\n",
        "| openssl                  | 3.4.0          | hd471939_0           | conda-forge  |\n",
        "| packaging                | 24.2           | pyhd8ed1ab_0         | conda-forge  |\n",
        "| pandas                   | 2.2.3          | pypi_0               | pypi         |\n",
        "| parso                    | 0.8.4          | pyhd8ed1ab_0         | conda-forge  |\n",
        "| pexpect                  | 4.9.0          | pyhd8ed1ab_0         | conda-forge  |\n",
        "| pickleshare              | 0.7.5          | py_1003              | conda-forge  |\n",
        "| pillow                   | 11.0.0         | pypi_0               | pypi         |\n",
        "| pip                      | 24.2           | py311hecd8cb5_0      |              |\n",
        "| platformdirs             | 4.3.6          | pyhd8ed1ab_0         | conda-forge  |\n",
        "| prompt-toolkit           | 3.0.48         | pyha770c72_0         | conda-forge  |\n",
        "| psutil                   | 6.1.0          | py311h1314207_0      | conda-forge  |\n",
        "| ptyprocess               | 0.7.0          | pyhd3deb0d_0         | conda-forge  |\n",
        "| pure_eval                | 0.2.3          | pyhd8ed1ab_0         | conda-forge  |\n",
        "| pygments                 | 2.18.0         | pyhd8ed1ab_0         | conda-forge  |\n",
        "| pyparsing                | 3.2.0          | pypi_0               | pypi         |\n",
        "| python                   | 3.11.10        | h4d6d9e5_0           |              |\n",
        "| python-dateutil          | 2.9.0          | pyhd8ed1ab_0         | conda-forge  |\n",
        "| python_abi               | 3.11           | 2_cp311              | conda-forge  |\n",
        "| pytz                     | 2024.2         | pypi_0               | pypi         |\n",
        "| pyyaml                   | 6.0.2          | pypi_0               | pypi         |\n",
        "| pyzmq                    | 26.2.0         | py311h4d3da15_3      | conda-forge  |\n",
        "| readline                 | 8.2            | hca72f7f_0           |              |\n",
        "| regex                    | 2024.11.6      | pypi_0               | pypi         |\n",
        "| requests                 | 2.32.3         | pypi_0               | pypi         |\n",
        "| safetensors              | 0.4.5          | pypi_0               | pypi         |\n",
        "| scikit-learn             | 1.5.2          | pypi_0               | pypi         |\n",
        "| scipy                    | 1.14.1         | pypi_0               | pypi         |\n",
        "| sentence-transformers    | 3.3.0          | pypi_0               | pypi         |\n",
        "| setuptools               | 75.1.0         | py311hecd8cb5_0      |              |\n",
        "| six                      | 1.16.0         | pyh6c4a22f_0         | conda-forge  |\n",
        "| sqlite                   | 3.45.3         | h6c40b1e_0           |              |\n",
        "| stack_data               | 0.6.2          | pyhd8ed1ab_0         | conda-forge  |\n",
        "| sympy                    | 1.13.3         | pypi_0               | pypi         |\n",
        "| threadpoolctl            | 3.5.0          | pypi_0               | pypi         |\n",
        "| tk                       | 8.6.14         | h4d00af              |              |\n",
        "| tokenizers               | 0.20.3         | pypi_0               | pypi         |\n",
        "| torch                    | 2.2.2          | pypi_0               | pypi         |\n",
        "| tornado                  | 6.4.1          | py311h3336109_1      | conda-forge  |\n",
        "| tqdm                     | 4.67.0         | pypi_0               | pypi         |\n",
        "| traitlets                | 5.14.3         | pyhd8ed1ab_0         | conda-forge  |\n",
        "| transformers             | 4.46.2         | pypi_0               | pypi         |\n",
        "| typing_extensions        | 4.12.2         | pyha770c72_0         | conda-forge  |\n",
        "| tzdata                   | 2024.2         | pypi_0               | pypi         |\n",
        "| urllib3                  | 2.2.3          | pypi_0               | pypi         |\n",
        "| wcwidth                  | 0.2.13         | pyhd8ed1ab_0         | conda-forge  |\n",
        "| wheel                    | 0.44.0         | py311hecd8cb5_0      |              |\n",
        "| xz                       | 5.4.6          | h6c40b1e_1           |              |\n",
        "| zeromq                   | 4.3.5          | h7130eaa_7           | conda-forge  |\n",
        "| zipp                     | 3.21.0         | pyhd8ed1ab_0         | conda-forge  |\n",
        "| zlib                     | 1.2.13         | h4b97444_1           |              |\n",
        "\n",
        "\n",
        "\n",
        "---\n",
        "\n",
        "\n",
        "\n",
        "The necesary installs will be dependent on what is present in your environment, however, these installs will be necessary if you are running on a fresh environment:\n",
        "\n",
        "`!pip install transformers`\n",
        "\n",
        "`!pip install torch`\n",
        "\n",
        "`!pip install -U sentence-transformers`\n",
        "\n",
        "`!pip install matplotlib`\n",
        "\n",
        "`!pip install numpy==1.26`\n",
        "Note: Numpy versions above 2 cause issues with the notebook\n",
        "\n",
        "`!pip install pandas`\n",
        "\n",
        "`!pip install llm2vec`\n",
        "Note: This is only required if you intend on using LLM2Vec for embeddings."
      ]
    },
    {
      "cell_type": "code",
      "execution_count": 3,
      "metadata": {
        "id": "Jp7j_bG7zX0w",
        "colab": {
          "base_uri": "https://localhost:8080/"
        },
        "outputId": "728a7ac4-f599-4ea5-cab9-271306f94b37"
      },
      "outputs": [
        {
          "output_type": "stream",
          "name": "stderr",
          "text": [
            "/usr/local/lib/python3.10/dist-packages/sentence_transformers/cross_encoder/CrossEncoder.py:13: TqdmExperimentalWarning: Using `tqdm.autonotebook.tqdm` in notebook mode. Use `tqdm.tqdm` instead to force console mode (e.g. in jupyter console)\n",
            "  from tqdm.autonotebook import tqdm, trange\n"
          ]
        },
        {
          "output_type": "stream",
          "name": "stdout",
          "text": [
            "SHELL=/bin/bash\n",
            "NV_LIBCUBLAS_VERSION=12.2.5.6-1\n",
            "NVIDIA_VISIBLE_DEVICES=all\n",
            "COLAB_JUPYTER_TRANSPORT=ipc\n",
            "NV_NVML_DEV_VERSION=12.2.140-1\n",
            "NV_CUDNN_PACKAGE_NAME=libcudnn8\n",
            "CGROUP_MEMORY_EVENTS=/sys/fs/cgroup/memory.events /var/colab/cgroup/jupyter-children/memory.events\n",
            "NV_LIBNCCL_DEV_PACKAGE=libnccl-dev=2.19.3-1+cuda12.2\n",
            "NV_LIBNCCL_DEV_PACKAGE_VERSION=2.19.3-1\n",
            "VM_GCE_METADATA_HOST=169.254.169.253\n",
            "HOSTNAME=0f8d4dfe029f\n",
            "LANGUAGE=en_US\n",
            "TBE_RUNTIME_ADDR=172.28.0.1:8011\n",
            "COLAB_TPU_1VM=\n",
            "GCE_METADATA_TIMEOUT=3\n",
            "NVIDIA_REQUIRE_CUDA=cuda>=12.2 brand=tesla,driver>=470,driver<471 brand=unknown,driver>=470,driver<471 brand=nvidia,driver>=470,driver<471 brand=nvidiartx,driver>=470,driver<471 brand=geforce,driver>=470,driver<471 brand=geforcertx,driver>=470,driver<471 brand=quadro,driver>=470,driver<471 brand=quadrortx,driver>=470,driver<471 brand=titan,driver>=470,driver<471 brand=titanrtx,driver>=470,driver<471 brand=tesla,driver>=525,driver<526 brand=unknown,driver>=525,driver<526 brand=nvidia,driver>=525,driver<526 brand=nvidiartx,driver>=525,driver<526 brand=geforce,driver>=525,driver<526 brand=geforcertx,driver>=525,driver<526 brand=quadro,driver>=525,driver<526 brand=quadrortx,driver>=525,driver<526 brand=titan,driver>=525,driver<526 brand=titanrtx,driver>=525,driver<526\n",
            "NV_LIBCUBLAS_DEV_PACKAGE=libcublas-dev-12-2=12.2.5.6-1\n",
            "NV_NVTX_VERSION=12.2.140-1\n",
            "TF_CPP_MIN_LOG_LEVEL=1\n",
            "COLAB_JUPYTER_IP=172.28.0.12\n",
            "NV_CUDA_CUDART_DEV_VERSION=12.2.140-1\n",
            "NV_LIBCUSPARSE_VERSION=12.1.2.141-1\n",
            "COLAB_LANGUAGE_SERVER_PROXY_ROOT_URL=http://172.28.0.1:8013/\n",
            "NV_LIBNPP_VERSION=12.2.1.4-1\n",
            "NCCL_VERSION=2.19.3-1\n",
            "KMP_LISTEN_PORT=6000\n",
            "TF_FORCE_GPU_ALLOW_GROWTH=true\n",
            "ENV=/root/.bashrc\n",
            "PWD=/content\n",
            "TBE_EPHEM_CREDS_ADDR=172.28.0.1:8009\n",
            "COLAB_LANGUAGE_SERVER_PROXY_REQUEST_TIMEOUT=30s\n",
            "TBE_CREDS_ADDR=172.28.0.1:8008\n",
            "NV_CUDNN_PACKAGE=libcudnn8=8.9.6.50-1+cuda12.2\n",
            "NVIDIA_DRIVER_CAPABILITIES=compute,utility\n",
            "COLAB_JUPYTER_TOKEN=\n",
            "LAST_FORCED_REBUILD=20241028\n",
            "NV_NVPROF_DEV_PACKAGE=cuda-nvprof-12-2=12.2.142-1\n",
            "NV_LIBNPP_PACKAGE=libnpp-12-2=12.2.1.4-1\n",
            "NV_LIBNCCL_DEV_PACKAGE_NAME=libnccl-dev\n",
            "TCLLIBPATH=/usr/share/tcltk/tcllib1.20\n",
            "NV_LIBCUBLAS_DEV_VERSION=12.2.5.6-1\n",
            "COLAB_KERNEL_MANAGER_PROXY_HOST=172.28.0.12\n",
            "NVIDIA_PRODUCT_NAME=CUDA\n",
            "NV_LIBCUBLAS_DEV_PACKAGE_NAME=libcublas-dev-12-2\n",
            "USE_AUTH_EPHEM=1\n",
            "NV_CUDA_CUDART_VERSION=12.2.140-1\n",
            "COLAB_WARMUP_DEFAULTS=1\n",
            "HOME=/root\n",
            "LANG=en_US.UTF-8\n",
            "COLUMNS=100\n",
            "CUDA_VERSION=12.2.2\n",
            "CLOUDSDK_CONFIG=/content/.config\n",
            "NV_LIBCUBLAS_PACKAGE=libcublas-12-2=12.2.5.6-1\n",
            "NV_CUDA_NSIGHT_COMPUTE_DEV_PACKAGE=cuda-nsight-compute-12-2=12.2.2-1\n",
            "COLAB_RELEASE_TAG=release-colab_20241118-060136_RC00\n",
            "PYDEVD_USE_FRAME_EVAL=NO\n",
            "KMP_TARGET_PORT=9000\n",
            "CLICOLOR=1\n",
            "KMP_EXTRA_ARGS=--logtostderr --listen_host=172.28.0.12 --target_host=172.28.0.12 --tunnel_background_save_url=https://colab.research.google.com/tun/m/cc48301118ce562b961b3c22d803539adc1e0c19/gpu-t4-s-2yed0j95i1iyj --tunnel_background_save_delay=10s --tunnel_periodic_background_save_frequency=30m0s --enable_output_coalescing=true --output_coalescing_required=true\n",
            "NV_LIBNPP_DEV_PACKAGE=libnpp-dev-12-2=12.2.1.4-1\n",
            "COLAB_LANGUAGE_SERVER_PROXY_LSP_DIRS=/datalab/web/pyright/typeshed-fallback/stdlib,/usr/local/lib/python3.10/dist-packages\n",
            "NV_LIBCUBLAS_PACKAGE_NAME=libcublas-12-2\n",
            "COLAB_KERNEL_MANAGER_PROXY_PORT=6000\n",
            "CLOUDSDK_PYTHON=python3\n",
            "TF_USE_LEGACY_KERAS=1\n",
            "NV_LIBNPP_DEV_VERSION=12.2.1.4-1\n",
            "ENABLE_DIRECTORYPREFETCHER=1\n",
            "NO_GCE_CHECK=False\n",
            "JPY_PARENT_PID=113\n",
            "KMP_DUPLICATE_LIB_OK=True\n",
            "KMP_INIT_AT_FORK=FALSE\n",
            "PYTHONPATH=/env/python\n",
            "TERM=xterm-color\n",
            "NV_LIBCUSPARSE_DEV_VERSION=12.1.2.141-1\n",
            "GIT_PAGER=cat\n",
            "LIBRARY_PATH=/usr/local/cuda/lib64/stubs\n",
            "NV_CUDNN_VERSION=8.9.6.50\n",
            "TPU_ML_PLATFORM=Tensorflow\n",
            "SHLVL=0\n",
            "PAGER=cat\n",
            "COLAB_LANGUAGE_SERVER_PROXY=/usr/colab/bin/language_service\n",
            "NV_CUDA_LIB_VERSION=12.2.2-1\n",
            "NVARCH=x86_64\n",
            "TPU_ML_PLATFORM_VERSION=2.17.1\n",
            "NV_CUDNN_PACKAGE_DEV=libcudnn8-dev=8.9.6.50-1+cuda12.2\n",
            "NV_CUDA_COMPAT_PACKAGE=cuda-compat-12-2\n",
            "MPLBACKEND=module://ipykernel.pylab.backend_inline\n",
            "NV_LIBNCCL_PACKAGE=libnccl2=2.19.3-1+cuda12.2\n",
            "LD_LIBRARY_PATH=/usr/lib64-nvidia\n",
            "COLAB_GPU=1\n",
            "GCS_READ_CACHE_BLOCK_SIZE_MB=16\n",
            "NV_CUDA_NSIGHT_COMPUTE_VERSION=12.2.2-1\n",
            "NV_NVPROF_VERSION=12.2.142-1\n",
            "LC_ALL=en_US.UTF-8\n",
            "COLAB_FILE_HANDLER_ADDR=localhost:3453\n",
            "TF2_BEHAVIOR=1\n",
            "PATH=/opt/bin:/usr/local/nvidia/bin:/usr/local/cuda/bin:/usr/local/sbin:/usr/local/bin:/usr/sbin:/usr/bin:/sbin:/bin:/tools/node/bin:/tools/google-cloud-sdk/bin\n",
            "NV_LIBNCCL_PACKAGE_NAME=libnccl2\n",
            "COLAB_DEBUG_ADAPTER_MUX_PATH=/usr/local/bin/dap_multiplexer\n",
            "NV_LIBNCCL_PACKAGE_VERSION=2.19.3-1\n",
            "PYTHONWARNINGS=ignore:::pip._internal.cli.base_command\n",
            "DEBIAN_FRONTEND=noninteractive\n",
            "COLAB_BACKEND_VERSION=next\n",
            "OLDPWD=/\n",
            "_=/usr/bin/env\n",
            "PYTORCH_CUDA_ALLOC_CONF=expandable_segments:True\n"
          ]
        }
      ],
      "source": [
        "import matplotlib.pyplot as plt\n",
        "import numpy as np\n",
        "import pandas as pd\n",
        "from sentence_transformers import SentenceTransformer, util\n",
        "from sklearn.cluster import KMeans\n",
        "from sklearn.decomposition import PCA\n",
        "from sklearn.feature_selection import SelectFromModel\n",
        "from sklearn.metrics import accuracy_score\n",
        "from sklearn.metrics import silhouette_score\n",
        "from sklearn.model_selection import train_test_split\n",
        "from sklearn.preprocessing import StandardScaler\n",
        "from sklearn.tree import DecisionTreeClassifier\n",
        "\n",
        "!env PYTORCH_CUDA_ALLOC_CONF=expandable_segments:True # Allow torch to allocate memory more effectively"
      ]
    },
    {
      "cell_type": "markdown",
      "source": [
        "Note: There are some addition installs and imports that are only required if you intend on using LLM2Vec. The prerequisite to this is creating a HuggingFace account and [access token](https://huggingface.co/settings/tokens) (read-level token should suffice). In addition, you need to request gated repo access to the following:\n",
        "- [Mistral-7B-Instruct-v0.2](https://huggingface.co/mistralai/Mistral-7B-Instruct-v0.2)"
      ],
      "metadata": {
        "id": "6RE8IqATgahv"
      }
    },
    {
      "cell_type": "code",
      "source": [
        "if method == \"llm2vec\":\n",
        "  !pip install llm2vec -q\n",
        "  !huggingface-cli login\n",
        "\n",
        "  from llm2vec import LLM2Vec\n",
        "  import torch\n",
        "  from transformers import AutoTokenizer, AutoModel, AutoConfig\n",
        "  from peft import PeftModel"
      ],
      "metadata": {
        "id": "kMfFKOrNf6U0"
      },
      "execution_count": 4,
      "outputs": []
    },
    {
      "cell_type": "code",
      "source": [
        "# Uncomment if running from Colab\n",
        "from google.colab import files\n",
        "uploaded = files.upload() # Choose the desired dataset to upload"
      ],
      "metadata": {
        "colab": {
          "base_uri": "https://localhost:8080/",
          "height": 74
        },
        "id": "ABlyPw1AbC4R",
        "outputId": "3076fb51-9197-43b8-cb17-171b6a1767cb"
      },
      "execution_count": 5,
      "outputs": [
        {
          "output_type": "display_data",
          "data": {
            "text/plain": [
              "<IPython.core.display.HTML object>"
            ],
            "text/html": [
              "\n",
              "     <input type=\"file\" id=\"files-626f2839-ae94-4e81-b322-732587402328\" name=\"files[]\" multiple disabled\n",
              "        style=\"border:none\" />\n",
              "     <output id=\"result-626f2839-ae94-4e81-b322-732587402328\">\n",
              "      Upload widget is only available when the cell has been executed in the\n",
              "      current browser session. Please rerun this cell to enable.\n",
              "      </output>\n",
              "      <script>// Copyright 2017 Google LLC\n",
              "//\n",
              "// Licensed under the Apache License, Version 2.0 (the \"License\");\n",
              "// you may not use this file except in compliance with the License.\n",
              "// You may obtain a copy of the License at\n",
              "//\n",
              "//      http://www.apache.org/licenses/LICENSE-2.0\n",
              "//\n",
              "// Unless required by applicable law or agreed to in writing, software\n",
              "// distributed under the License is distributed on an \"AS IS\" BASIS,\n",
              "// WITHOUT WARRANTIES OR CONDITIONS OF ANY KIND, either express or implied.\n",
              "// See the License for the specific language governing permissions and\n",
              "// limitations under the License.\n",
              "\n",
              "/**\n",
              " * @fileoverview Helpers for google.colab Python module.\n",
              " */\n",
              "(function(scope) {\n",
              "function span(text, styleAttributes = {}) {\n",
              "  const element = document.createElement('span');\n",
              "  element.textContent = text;\n",
              "  for (const key of Object.keys(styleAttributes)) {\n",
              "    element.style[key] = styleAttributes[key];\n",
              "  }\n",
              "  return element;\n",
              "}\n",
              "\n",
              "// Max number of bytes which will be uploaded at a time.\n",
              "const MAX_PAYLOAD_SIZE = 100 * 1024;\n",
              "\n",
              "function _uploadFiles(inputId, outputId) {\n",
              "  const steps = uploadFilesStep(inputId, outputId);\n",
              "  const outputElement = document.getElementById(outputId);\n",
              "  // Cache steps on the outputElement to make it available for the next call\n",
              "  // to uploadFilesContinue from Python.\n",
              "  outputElement.steps = steps;\n",
              "\n",
              "  return _uploadFilesContinue(outputId);\n",
              "}\n",
              "\n",
              "// This is roughly an async generator (not supported in the browser yet),\n",
              "// where there are multiple asynchronous steps and the Python side is going\n",
              "// to poll for completion of each step.\n",
              "// This uses a Promise to block the python side on completion of each step,\n",
              "// then passes the result of the previous step as the input to the next step.\n",
              "function _uploadFilesContinue(outputId) {\n",
              "  const outputElement = document.getElementById(outputId);\n",
              "  const steps = outputElement.steps;\n",
              "\n",
              "  const next = steps.next(outputElement.lastPromiseValue);\n",
              "  return Promise.resolve(next.value.promise).then((value) => {\n",
              "    // Cache the last promise value to make it available to the next\n",
              "    // step of the generator.\n",
              "    outputElement.lastPromiseValue = value;\n",
              "    return next.value.response;\n",
              "  });\n",
              "}\n",
              "\n",
              "/**\n",
              " * Generator function which is called between each async step of the upload\n",
              " * process.\n",
              " * @param {string} inputId Element ID of the input file picker element.\n",
              " * @param {string} outputId Element ID of the output display.\n",
              " * @return {!Iterable<!Object>} Iterable of next steps.\n",
              " */\n",
              "function* uploadFilesStep(inputId, outputId) {\n",
              "  const inputElement = document.getElementById(inputId);\n",
              "  inputElement.disabled = false;\n",
              "\n",
              "  const outputElement = document.getElementById(outputId);\n",
              "  outputElement.innerHTML = '';\n",
              "\n",
              "  const pickedPromise = new Promise((resolve) => {\n",
              "    inputElement.addEventListener('change', (e) => {\n",
              "      resolve(e.target.files);\n",
              "    });\n",
              "  });\n",
              "\n",
              "  const cancel = document.createElement('button');\n",
              "  inputElement.parentElement.appendChild(cancel);\n",
              "  cancel.textContent = 'Cancel upload';\n",
              "  const cancelPromise = new Promise((resolve) => {\n",
              "    cancel.onclick = () => {\n",
              "      resolve(null);\n",
              "    };\n",
              "  });\n",
              "\n",
              "  // Wait for the user to pick the files.\n",
              "  const files = yield {\n",
              "    promise: Promise.race([pickedPromise, cancelPromise]),\n",
              "    response: {\n",
              "      action: 'starting',\n",
              "    }\n",
              "  };\n",
              "\n",
              "  cancel.remove();\n",
              "\n",
              "  // Disable the input element since further picks are not allowed.\n",
              "  inputElement.disabled = true;\n",
              "\n",
              "  if (!files) {\n",
              "    return {\n",
              "      response: {\n",
              "        action: 'complete',\n",
              "      }\n",
              "    };\n",
              "  }\n",
              "\n",
              "  for (const file of files) {\n",
              "    const li = document.createElement('li');\n",
              "    li.append(span(file.name, {fontWeight: 'bold'}));\n",
              "    li.append(span(\n",
              "        `(${file.type || 'n/a'}) - ${file.size} bytes, ` +\n",
              "        `last modified: ${\n",
              "            file.lastModifiedDate ? file.lastModifiedDate.toLocaleDateString() :\n",
              "                                    'n/a'} - `));\n",
              "    const percent = span('0% done');\n",
              "    li.appendChild(percent);\n",
              "\n",
              "    outputElement.appendChild(li);\n",
              "\n",
              "    const fileDataPromise = new Promise((resolve) => {\n",
              "      const reader = new FileReader();\n",
              "      reader.onload = (e) => {\n",
              "        resolve(e.target.result);\n",
              "      };\n",
              "      reader.readAsArrayBuffer(file);\n",
              "    });\n",
              "    // Wait for the data to be ready.\n",
              "    let fileData = yield {\n",
              "      promise: fileDataPromise,\n",
              "      response: {\n",
              "        action: 'continue',\n",
              "      }\n",
              "    };\n",
              "\n",
              "    // Use a chunked sending to avoid message size limits. See b/62115660.\n",
              "    let position = 0;\n",
              "    do {\n",
              "      const length = Math.min(fileData.byteLength - position, MAX_PAYLOAD_SIZE);\n",
              "      const chunk = new Uint8Array(fileData, position, length);\n",
              "      position += length;\n",
              "\n",
              "      const base64 = btoa(String.fromCharCode.apply(null, chunk));\n",
              "      yield {\n",
              "        response: {\n",
              "          action: 'append',\n",
              "          file: file.name,\n",
              "          data: base64,\n",
              "        },\n",
              "      };\n",
              "\n",
              "      let percentDone = fileData.byteLength === 0 ?\n",
              "          100 :\n",
              "          Math.round((position / fileData.byteLength) * 100);\n",
              "      percent.textContent = `${percentDone}% done`;\n",
              "\n",
              "    } while (position < fileData.byteLength);\n",
              "  }\n",
              "\n",
              "  // All done.\n",
              "  yield {\n",
              "    response: {\n",
              "      action: 'complete',\n",
              "    }\n",
              "  };\n",
              "}\n",
              "\n",
              "scope.google = scope.google || {};\n",
              "scope.google.colab = scope.google.colab || {};\n",
              "scope.google.colab._files = {\n",
              "  _uploadFiles,\n",
              "  _uploadFilesContinue,\n",
              "};\n",
              "})(self);\n",
              "</script> "
            ]
          },
          "metadata": {}
        },
        {
          "output_type": "stream",
          "name": "stdout",
          "text": [
            "Saving Synthetic_Customer_Data.csv to Synthetic_Customer_Data (4).csv\n"
          ]
        }
      ]
    },
    {
      "cell_type": "code",
      "execution_count": 6,
      "metadata": {
        "id": "eKhn6hNN4nsj"
      },
      "outputs": [],
      "source": [
        "# Read dataset --------------------------------------------------------------\n",
        "df = pd.read_csv(dataset)\n",
        "df = df.sample(frac=0.05)\n",
        "text = df[text_col]"
      ]
    },
    {
      "cell_type": "code",
      "source": [
        "# Calculate embeddings ------------------------------------------------------\n",
        "# Note: this is a time-consuming step (~7 min)\n",
        "if method == \"s_bert\":\n",
        "  embedding_model = SentenceTransformer(\"all-MiniLM-L6-v2\")\n",
        "  embeddings = embedding_model.encode(text.tolist(), convert_to_tensor=False)\n",
        "elif method == \"llm2vec\":\n",
        "  # Following code adapted from https://huggingface.co/McGill-NLP/LLM2Vec-Mistral-7B-Instruct-v2-mntp-supervised\n",
        "  tokenizer = AutoTokenizer.from_pretrained(\n",
        "      \"McGill-NLP/LLM2Vec-Mistral-7B-Instruct-v2-mntp\"\n",
        "  )\n",
        "  config = AutoConfig.from_pretrained(\n",
        "      \"McGill-NLP/LLM2Vec-Mistral-7B-Instruct-v2-mntp\", trust_remote_code=True\n",
        "  )\n",
        "  model = AutoModel.from_pretrained(\n",
        "      \"McGill-NLP/LLM2Vec-Mistral-7B-Instruct-v2-mntp\",\n",
        "      trust_remote_code=True,\n",
        "      config=config,\n",
        "      torch_dtype=torch.bfloat16,\n",
        "      device_map=\"cuda\" if torch.cuda.is_available() else \"cpu\",\n",
        "  )\n",
        "  model = PeftModel.from_pretrained(\n",
        "      model,\n",
        "      \"McGill-NLP/LLM2Vec-Mistral-7B-Instruct-v2-mntp\",\n",
        "  )\n",
        "  model = model.merge_and_unload()  # This can take several minutes on CPU\n",
        "\n",
        "  # Loading supervised model. This loads the trained LoRA weights on top of MNTP model. Hence the final weights are -- Base model + MNTP (LoRA) + supervised (LoRA).\n",
        "  model = PeftModel.from_pretrained(\n",
        "      model, \"McGill-NLP/LLM2Vec-Mistral-7B-Instruct-v2-mntp-supervised\"\n",
        "  )\n",
        "\n",
        "  # Wrapper for encoding and pooling operations\n",
        "  l2v = LLM2Vec(model, tokenizer, pooling_mode=\"mean\", max_length=512)\n",
        "\n",
        "  embeddings = l2v.encode(text.tolist())"
      ],
      "metadata": {
        "colab": {
          "base_uri": "https://localhost:8080/"
        },
        "id": "sx3lshCYbv3N",
        "outputId": "9fb7f5f4-685f-4b96-dd4f-be22b9964824"
      },
      "execution_count": 7,
      "outputs": [
        {
          "output_type": "stream",
          "name": "stderr",
          "text": [
            "/usr/local/lib/python3.10/dist-packages/huggingface_hub/utils/_auth.py:94: UserWarning: \n",
            "The secret `HF_TOKEN` does not exist in your Colab secrets.\n",
            "To authenticate with the Hugging Face Hub, create a token in your settings tab (https://huggingface.co/settings/tokens), set it as secret in your Google Colab and restart your session.\n",
            "You will be able to reuse this secret in all of your notebooks.\n",
            "Please note that authentication is recommended but still optional to access public models or datasets.\n",
            "  warnings.warn(\n"
          ]
        }
      ]
    },
    {
      "cell_type": "code",
      "execution_count": 8,
      "metadata": {
        "id": "Wm-yNKJKEO3_"
      },
      "outputs": [],
      "source": [
        "# Dimensionality Reduction (PCA) --------------------------------------------\n",
        "if pca:\n",
        "  pca_model = PCA(n_components=2)\n",
        "  embeddings = pca_model.fit_transform(embeddings)"
      ]
    },
    {
      "cell_type": "markdown",
      "metadata": {
        "id": "vlbm-B23IqrV"
      },
      "source": [
        "## Incorporate feature selection using decision trees\n",
        "\n",
        "\"Shrink\" or drop the non-important features with respect to the output class, and \"expand\" the features that are more important to determining the output class."
      ]
    },
    {
      "cell_type": "code",
      "execution_count": 9,
      "metadata": {
        "id": "gnU_M7U9GxWC"
      },
      "outputs": [],
      "source": [
        "# Feature Selection (Decision Trees) ----------------------------------------\n",
        "if decision_trees:\n",
        "  X_train, X_test, y_train, y_test = train_test_split(embeddings, df[label_col], random_state = 8, test_size = 0.3)\n",
        "\n",
        "  # Fit the decision tree model\n",
        "  decision_tree_model = DecisionTreeClassifier()\n",
        "  decision_tree_model.fit(X_train, y_train)\n",
        "\n",
        "  # Access feature importances\n",
        "  feature_importances = decision_tree_model.feature_importances_\n",
        "\n",
        "  # Delete low-importance features\n",
        "  low_importance_indices = np.where(feature_importances < 0.025)[0] # random sampling prob. -- 1/384 = 0.0026\n",
        "  embeddings_small = np.delete(embeddings, low_importance_indices, axis=1)\n",
        "  X_train_reduced = np.delete(X_train, low_importance_indices, axis=1)\n",
        "  X_test_reduced = np.delete(X_test, low_importance_indices, axis=1)\n",
        "  print(f\"Embeddings went from size {len(X_train[0])} to {len(X_train_reduced[0])}\")\n",
        "else:\n",
        "  embeddings_small = embeddings # because regardless of whether feature selection is performed the next section uses embeddings_small"
      ]
    },
    {
      "cell_type": "markdown",
      "metadata": {
        "id": "8Xih5Bg6JZ6e"
      },
      "source": [
        "## K-means clustering"
      ]
    },
    {
      "cell_type": "markdown",
      "metadata": {
        "id": "qOy6eAZGa-Hg"
      },
      "source": [
        "First determine optimal number of clusters through either WCSS elbow point selection or silhouette score maximization."
      ]
    },
    {
      "cell_type": "code",
      "execution_count": 10,
      "metadata": {
        "colab": {
          "base_uri": "https://localhost:8080/",
          "height": 927
        },
        "id": "ZfPRMn_4Jc3F",
        "outputId": "958f17a4-c85a-41a4-e503-16ebe46f99f0"
      },
      "outputs": [
        {
          "output_type": "display_data",
          "data": {
            "text/plain": [
              "<Figure size 640x480 with 1 Axes>"
            ],
            "image/png": "[encoded data removed]"
          },
          "metadata": {}
        },
        {
          "output_type": "display_data",
          "data": {
            "text/plain": [
              "<Figure size 640x480 with 1 Axes>"
            ],
            "image/png": "[encoded data removed]"
          },
          "metadata": {}
        }
      ],
      "source": [
        "wcss_list = []  # within-cluster sum of squares\n",
        "silhouette_scores_list = []\n",
        "\n",
        "# Calculate WCSS for each K\n",
        "upper_bound_k = 50\n",
        "for k in range(2, min(upper_bound_k, embeddings_small.shape[0])):  # Choosing range from 1 to 50 for demonstration\n",
        "    # wcss\n",
        "    kmeans_experiment = KMeans(n_clusters=k, random_state=0)\n",
        "    kmeans_experiment.fit(embeddings_small)\n",
        "    wcss_list.append(kmeans_experiment.inertia_)\n",
        "\n",
        "    labels = kmeans_experiment.fit_predict(embeddings_small)\n",
        "    score = silhouette_score(embeddings_small, labels)\n",
        "    silhouette_scores_list.append(score)\n",
        "\n",
        "# Plot the WCSS values\n",
        "plt.plot(range(2, min(upper_bound_k, embeddings_small.shape[0])), wcss_list, marker='o')\n",
        "plt.title('Elbow Method for Optimal K')\n",
        "plt.xlabel('Number of clusters (K)')\n",
        "plt.ylabel('WCSS')\n",
        "plt.show()\n",
        "\n",
        "# Plot silhouette scores to find optimal K\n",
        "plt.plot(range(2, min(upper_bound_k, embeddings_small.shape[0])), silhouette_scores_list, marker='o')\n",
        "plt.title('Silhouette Score vs. Number of Clusters (K)')\n",
        "plt.xlabel('Number of clusters (K)')\n",
        "plt.ylabel('Silhouette Score')\n",
        "plt.show()"
      ]
    },
    {
      "cell_type": "markdown",
      "metadata": {
        "id": "tZWiync3a-Hg"
      },
      "source": [
        "Determine optimal k. Either maximize Silhouette Score or estimate elbow point of WCSS chart."
      ]
    },
    {
      "cell_type": "code",
      "execution_count": 11,
      "metadata": {
        "colab": {
          "base_uri": "https://localhost:8080/"
        },
        "id": "GuDYb2v9a-Hh",
        "outputId": "14c62878-0b23-4e84-9c69-b2f09cdf4ca3"
      },
      "outputs": [
        {
          "output_type": "stream",
          "name": "stdout",
          "text": [
            "Chosen number of clusters: 5\n",
            "cluster_count_method: WCSS Elbow\n",
            "Within-Cluster Sum of Squares: 0.3149547576904297\n"
          ]
        }
      ],
      "source": [
        "if cluster_count_method == \"Silhouette Score\":\n",
        "    max_index = np.argmax(silhouette_scores_list)\n",
        "    num_clusters = max_index + 2 # index 0 corresponds to 2 clusters\n",
        "elif cluster_count_method == \"WCSS Elbow\":\n",
        "    # elbow point occurs when the difference of slopes of a point to its two neighbors is maximized\n",
        "    neighbor_range = 3 # how many counts out to determine slopes\n",
        "    neighbor_slope_difference = [abs(abs(wcss_list[i]-wcss_list[i+neighbor_range]) - abs(wcss_list[i-neighbor_range]-wcss_list[i]))\n",
        "                                 for i in range(neighbor_range,len(wcss_list)-neighbor_range)]\n",
        "    max_index = np.argmax(silhouette_scores_list)\n",
        "    num_clusters = max_index + neighbor_range + 1 # index 0 corresponds to neighbor_range + 1 clusters\n",
        "\n",
        "\n",
        "\n",
        "else:\n",
        "    if isinstance(cluster_count_method, int):\n",
        "        num_clusters = cluster_count_method\n",
        "    else:\n",
        "        print(\"ERROR: must choose valid cluster_count_method\")\n",
        "\n",
        "\n",
        "# Perform K-means clustering\n",
        "# num_clusters = 5  # Define the number of clusters you want\n",
        "print(f\"Chosen number of clusters: {num_clusters}\\ncluster_count_method: {cluster_count_method}\")\n",
        "kmeans = KMeans(n_clusters=num_clusters, random_state=42)\n",
        "df['cluster'] = kmeans.fit_predict(embeddings_small)\n",
        "\n",
        "# Print WCCS (within-cluster sum of squares) metric\n",
        "wcss = kmeans.inertia_\n",
        "print(\"Within-Cluster Sum of Squares:\", wcss)"
      ]
    },
    {
      "cell_type": "markdown",
      "metadata": {
        "id": "qbm667AsM6_r"
      },
      "source": [
        "## Find closest examples to cluster centroids\n",
        "\n",
        "Currently, we are using cosine similarity to find the data point closest to the cluster centroids as a proxy for explaining or representing that cluster. We can also explore other ways (e.g. using LLMs) to explain clusters."
      ]
    },
    {
      "cell_type": "code",
      "execution_count": 12,
      "metadata": {
        "colab": {
          "base_uri": "https://localhost:8080/"
        },
        "id": "OhEiFZGRzX06",
        "outputId": "f45353da-dfbf-4515-b5d8-c2e465e8da13"
      },
      "outputs": [
        {
          "output_type": "stream",
          "name": "stdout",
          "text": [
            "Centroid of cluster 0:\n",
            "-----\n",
            "bot: Hi Sarah, Welcome to FreshGrocery Assistance. How can I help you today? ::: customer: Hi, I received my delivery but some items were missing and I was charged incorrectly. ::: bot: I'm really sorry to hear that, Sarah. Let me look into this for you. Could you please provide the order number? ::: customer: It's #FG123456. ::: bot: Thank you, Sarah. I'll look into your order now. ::: bot: I see the issue with the missing items and incorrect charges. I apologize for the inconvenience caused. ::: bot: I've credited your account for the missing items and corrected the charges on your bill. You should see the updates shortly. ::: customer: Thank you. That was fast. Will I get my missing items delivered or just refunded? ::: bot: You will be refunded for the missing items. However, if you still need them, I'd be happy to assist you in placing a new order with free express delivery. ::: customer: Ok, I’ll place the order again. Thanks for the quick help. ::: bot: You're welcome, Sarah! Is there anything else I can assist you with today? ::: customer: Nope, that's all. Thanks again. ::: bot: Great! I'm glad I could help. Have a wonderful day, Sarah!\n",
            "-----\n",
            "\n",
            "\n",
            "Centroid of cluster 1:\n",
            "-----\n",
            "bot: Hi Emily, welcome to StreamWave support. How can I assist you today? ::: customer: Hi, I'm having alot of buffering and bad video quality when streaming, even tho I have a high-speed internet. ::: bot: I'm sorry to hear that. Let's see how we can fix this. Have you tried restarting your router and device? ::: customer: Yes, I have tried that already. Still having the issue. ::: bot: Thank you for that information. Please wait a moment while I escalate your issue to one of our agents. ::: agent: Hi Emily, I'm here to assist you further. Can you please confirm the speed of your internet connection? ::: customer: It's 100 Mbps, so it's pretty fast. ::: agent: Thank you for confirming that. Let's try changing the streaming quality settings. Could you go to Settings -> Video Quality and set it to \"Auto\" if it's not already? ::: customer: Ok, I just did that. ::: agent: Great. Now, please make sure that no other devices are using a significant amount of bandwidth on your network. ::: customer: Ok, I disconnected other devices. ::: agent: Please try streaming a video now and let me know if the issue persists. ::: customer: The video is much better now, bufferings gone! ::: agent: I'm glad to hear that! Is there anything else I can assist you with today? ::: customer: Nope, that fixed it. Thanks! ::: agent: You're welcome, Emily. Have a great day!\n",
            "-----\n",
            "\n",
            "\n",
            "Centroid of cluster 2:\n",
            "-----\n",
            "bot: Hi Emily, welcome to RadiantEnergy support. How can I assist you today? ::: customer: Hi, I noticed my latest bill is super high even tho we've been using less power. ::: bot: I understand your concern. Can you please provide your account number so I can look into this for you? ::: customer: It's 12345678. I really hope this can be fixed quickly. ::: bot: Thank you for the information. Let me check your account details. ::: bot: I see there is an unusually high charge on your latest bill. I'll need to escalate this to an agent for further investigation. Please hold on. ::: agent: Hi Emily, this is Sarah from RadiantEnergy. I'm sorry to hear about the issue with your bill. Could you confirm your address for verification purposes? ::: customer: Sure, it's 789 Elm Street. ::: agent: Thank you, Emily. After reviewing your usage, I see an anomaly that might be due to a meter reading error. I'll initiate a meter re-read and apply a provisional credit to your account. ::: customer: Thank you, that sounds helpful. Will this affect my service? ::: agent: No, this will not affect your service. You'll see the provisional credit reflected in your next billing cycle while we correct the meter reading. ::: customer: Okay, that works. Appreciate your help! ::: agent: You're welcome, Emily. Is there anything else I can assist you with today? ::: customer: No, that's all. Thanks again! ::: agent: Happy to help! Have a great day!\n",
            "-----\n",
            "\n",
            "\n",
            "Centroid of cluster 3:\n",
            "-----\n",
            "bot: Hi Sarah, welcome to EcoEnergy Solutions. How may I assist you today? ::: customer: Hi, I was charged twice for my last bill, and I need a refund for the duplicate payment. ::: bot: I'm sorry to hear that. Can you please provide your account number so I can check the details for you? ::: customer: Sure, it's 123456789. ::: bot: Thank you. I see there is a duplicate charge for your last bill. Unfortunately, I am unable to process refunds directly. I will transfer you to a live agent who can assist you further. ::: agent: Hi Sarah, this is Jamie. I'm here to help with your duplicate charge issue. ::: customer: Hi Jamie, thanks. I need that refund asap. ::: agent: I understand, Sarah. I have verified the duplicate charge. I'll process a refund to your account, which should reflect within 3-5 business days. ::: customer: Alright, thank you. How can I be sure this won't happen again? ::: agent: We will also review your billing setup to ensure it doesn't recur. Additionally, you will receive a confirmation email regarding this refund shortly. ::: customer: Thanks, Jamie. That helps a lot. ::: agent: You're welcome, Sarah. Is there anything else I can assist you with today? ::: customer: No, that's all. Thanks again! ::: agent: Thank you for contacting EcoEnergy Solutions. Have a great day!\n",
            "-----\n",
            "\n",
            "\n",
            "Centroid of cluster 4:\n",
            "-----\n",
            "bot: Hi Emma, Welcome to FreshConserve. How can I assist you today? ::: customer: Hi, my order arrived with wrong items an some products were damaged ::: bot: I'm very sorry to hear that! Can you please provide me with your order number? ::: customer: Sure, it's 123456 ::: bot: Thank you. Let me quickly check the details of your order. ::: customer: Ok ::: bot: I see the items that were supposed to be delivered. Can you please tell me which items were incorrect and which were damaged? ::: customer: I got apples insted of oranges, and the bread and milk are damaged ::: bot: I apologize for this inconvenience, Emma. I will arrange for the correct items and replacements for the damaged products to be delivered to you immediately. ::: customer: That wud be great ::: bot: Thank you for your understanding. Your replacement order should arrive within the next 2 hours. Is there anything else I can assist you with? ::: customer: No, thats all. Thanks ::: bot: You're welcome, Emma! Once again, I apologize for the inconvenience. Have a great day!\n",
            "-----\n",
            "\n",
            "\n"
          ]
        }
      ],
      "source": [
        "# For each cluster centroid, print the closest data point\n",
        "corpus = list(df[text_col])\n",
        "centroid_embeddings = kmeans.cluster_centers_\n",
        "for i, centroid_vec in enumerate(centroid_embeddings):\n",
        "    similarity_scores = util.cos_sim(centroid_vec, embeddings_small)\n",
        "    closest_data_point = corpus[int(similarity_scores.argmax())]\n",
        "    print(f\"Centroid of cluster {i}:\\n-----\\n{closest_data_point}\\n-----\\n\\n\")"
      ]
    },
    {
      "cell_type": "code",
      "execution_count": 13,
      "metadata": {
        "colab": {
          "base_uri": "https://localhost:8080/"
        },
        "id": "gEyDHnjvUoa_",
        "outputId": "f79d87ee-4d87-4d1b-a0b3-9bd2aa96b73e"
      },
      "outputs": [
        {
          "output_type": "stream",
          "name": "stdout",
          "text": [
            "\n",
            "\n",
            "\n",
            "Cluster 0:\n",
            "--\n",
            "bot: Hi Sarah, Welcome to FreshGrocery Assistance. How can I help you today? ::: customer: Hi, I received my delivery but some items were missing and I was charged incorrectly. ::: bot: I'm really sorry to hear that, Sarah. Let me look into this for you. Could you please provide the order number? ::: customer: It's #FG123456. ::: bot: Thank you, Sarah. I'll look into your order now. ::: bot: I see the issue with the missing items and incorrect charges. I apologize for the inconvenience caused. ::: bot: I've credited your account for the missing items and corrected the charges on your bill. You should see the updates shortly. ::: customer: Thank you. That was fast. Will I get my missing items delivered or just refunded? ::: bot: You will be refunded for the missing items. However, if you still need them, I'd be happy to assist you in placing a new order with free express delivery. ::: customer: Ok, I’ll place the order again. Thanks for the quick help. ::: bot: You're welcome, Sarah! Is there anything else I can assist you with today? ::: customer: Nope, that's all. Thanks again. ::: bot: Great! I'm glad I could help. Have a wonderful day, Sarah!\n",
            "--\n",
            "\n",
            "\n",
            "\n",
            "Cluster 1:\n",
            "--\n",
            "bot: Hi Jane, welcome to SkyNetConnect! How can I assist you today? ::: customer: Hi, my internet speed has been really slow, like way below the advertised rate for the past month. ::: bot: I'm sorry to hear that, Jane. Let me run a quick diagnostic test on your connection. This will only take a moment. ::: customer: Ok, thanks. ::: bot: Thank you for your patience. Our test indicates that there are no outages in your area, but your connection is running slower than it should be. I’ll reset your connection from our end. This will disconnect your internet for a moment. Is that okay? ::: customer: Yes, go ahead and do it. ::: bot: All done! Could you please check your internet speed now? ::: customer: Wow, it's much better now! ::: bot: That's great to hear, Jane! Is there anything else I can assist you with today? ::: customer: No, that was it. Thanks for the quick help! ::: bot: You're welcome! Have a great day!\n",
            "--\n",
            "bot: Hi Emily, welcome to StreamWave support. How can I assist you today? ::: customer: Hi, I'm having alot of buffering and bad video quality when streaming, even tho I have a high-speed internet. ::: bot: I'm sorry to hear that. Let's see how we can fix this. Have you tried restarting your router and device? ::: customer: Yes, I have tried that already. Still having the issue. ::: bot: Thank you for that information. Please wait a moment while I escalate your issue to one of our agents. ::: agent: Hi Emily, I'm here to assist you further. Can you please confirm the speed of your internet connection? ::: customer: It's 100 Mbps, so it's pretty fast. ::: agent: Thank you for confirming that. Let's try changing the streaming quality settings. Could you go to Settings -> Video Quality and set it to \"Auto\" if it's not already? ::: customer: Ok, I just did that. ::: agent: Great. Now, please make sure that no other devices are using a significant amount of bandwidth on your network. ::: customer: Ok, I disconnected other devices. ::: agent: Please try streaming a video now and let me know if the issue persists. ::: customer: The video is much better now, bufferings gone! ::: agent: I'm glad to hear that! Is there anything else I can assist you with today? ::: customer: Nope, that fixed it. Thanks! ::: agent: You're welcome, Emily. Have a great day!\n",
            "--\n",
            "bot: Hi Emily, welcome to FreshStream! How can I assist you today? ::: customer: Hi. My videos keep buffering and the quality drops during peak hours. ::: bot: I'm sorry to hear that, Emily. Let's resolve this for you. Could you please provide your account email and the device you're streaming on? ::: customer: Sure, my email is emily.watson@email.com and I'm using a Smart TV. ::: bot: Thank you, Emily. Have you tried restarting the Smart TV and resetting your internet router? ::: customer: Yes, I've done that but it didn't help. ::: bot: Understood. Could you please check your internet speed at fast.com and tell me the result? ::: customer: It shows 12 Mbps. ::: bot: Thank you for that information. Ideally, we recommend a minimum speed of 25 Mbps for HD streaming. Do you experience buffering on any other devices? ::: customer: Sometimes on my phone too, but it's mainly the TV. ::: bot: To improve your experience, please try connecting your TV directly to the router using an ethernet cable. Does this help reduce buffering? ::: customer: I can't do that because my TV is too far from the router. ::: bot: I see. Have you tried changing the streaming quality settings to a lower resolution temporarily to see if that helps with buffering? ::: customer: No, I haven't. How do I do that? ::: bot: On your Smart TV, please go to the FreshStream app settings, select Video Quality, and choose a lower resolution option. Let me know if that helps. ::: customer: Okay, I've done that and it seems to be working better now. ::: bot: Great to hear! Additionally, you may consider upgrading your internet plan for a more consistent streaming experience. Is there anything else I can assist you with today? ::: customer: No, that's all, thanks. ::: bot: You're welcome, Emily! I'm glad we could resolve your issue. Have a wonderful day!\n",
            "--\n",
            "bot: Hi Sarah, Welcome to QualityStream. How can I assist you today? ::: customer: Hey, I'm having a problem with the video buffering too much while watching a movie. It's super annoying. ::: bot: I'm sorry to hear that, Sarah. Let's see if we can fix it. Could you please check your internet connection speed? It should ideally be at least 5 Mbps. ::: customer: My internet is fine. It's like 50 Mbps. ::: bot: Thank you for confirming that. Sometimes clearing the cache can help. Have you tried clearing the cache on your QualityStream app? ::: customer: No, how do I do that? ::: bot: Go to the settings menu in the app, then tap on 'Storage' and select 'Clear Cache'. ::: customer: Okay, I did that. ::: bot: Great! Please try playing the movie again to see if the issue is resolved. ::: customer: It's still buffering. ::: bot: I apologize for the inconvenience. Let's try reducing the video quality. Go to 'Settings' > 'Playback' > 'Video Quality' and choose a lower quality option. ::: customer: Fine, I've changed it to medium. ::: bot: Thank you. Please test the movie again and let me know if the buffering issue persists. ::: customer: It seems better, but still not perfect. ::: bot: I'm glad to hear there has been some improvement. For a more stable experience, you might consider moving closer to your Wi-Fi router or using an Ethernet connection if possible. ::: customer: Alright, I'll try moving closer. Thanks for the help. ::: bot: You're welcome, Sarah. I apologize for any inconvenience caused. If you experience any more issues, please reach out again. Have a great day!\n",
            "--\n",
            "bot: Hi Lisa, welcome to EcoStream support! How can I help you today? ::: customer: Hi, my streamings keeps buffering nd lowering in quality during peak hours. It's so frustrating! ::: bot: I apologize for the inconvenience, Lisa. Let's get this fixed for you. Are you experiencing this issue on all devices or just a specific one? ::: customer: Mostly on my TV, but it happens on my laptop too ::: bot: Thank you for letting me know. Can you please try clearing the cache on your TV and laptop? If you need help with this, I can guide you. ::: customer: How do I do that on my TV? ::: bot: Sure, Lisa. On most smart TVs, you can go to Settings -> Apps -> EcoStream -> Clear Cache. Could you please try that? ::: customer: Okay, I've done that. ::: bot: Great! Now let's try restarting your TV and your router. This often helps resolve buffering issues. ::: customer: All right, give me a sec. ::: bot: No problem, Lisa. Take your time. ::: customer: Restarted both. What now? ::: bot: Perfect. Let’s run a speed test to check your internet connection. You can do this by visiting speedtest.net on your laptop. What results do you get? ::: customer: Download speed is 25 Mbps. Upload is around 5 Mbps. ::: bot: Thanks for sharing, Lisa. Your download speed seems a bit low for streaming in high quality. Is there heavy internet usage in your household during peak hours? ::: customer: Yes, my kids are on their tablets too. ::: bot: That could be affecting your streaming quality. I recommend limiting the number of devices using the internet when you are watching TV or upgrading to a higher speed internet plan. ::: customer: Okay, that makes sense. I'll talk to my provider about it. ::: bot: Excellent, Lisa. In the meantime, reducing the video quality setting in the EcoStream app can help minimize buffering. ::: customer: Got it. Thanks for your help! ::: bot: You're welcome, Lisa! We're here to help. If you have any other issues, don't hesitate to reach out. Have a great day! ::: customer: Thanks, you too!\n",
            "--\n",
            "\n",
            "\n",
            "\n",
            "Cluster 2:\n",
            "--\n",
            "bot: Hello Jane, welcome to EcoBright Energy's support. How can I assist you today? ::: customer: hi i keep getting wrong bills for last 3 months, even tho i send my meter readings ::: bot: I'm sorry to hear that. Let's get this sorted out for you. Could you please provide your account number and the meter readings you submitted for the past three months? ::: customer: sure, its 567890. readings r: Jan - 4500, Feb - 4578, Mar - 4643 ::: bot: Thank you for the details, Jane. I will check your account and compare it with the readings you provided. Please hold on a moment. ::: customer: ok ::: bot: I've reviewed your account, and it seems the readings were not correctly updated. I have now corrected them. You should see the adjusted bills in your account within 24 hours. ::: customer: finally! but why was it wrong in the first place? this is so frustrating ::: bot: I apologize for the inconvenience, Jane. There was a system error that prevented your readings from being applied correctly. We are working to ensure this does not happen again. ::: customer: i hope so. anything else i need to do? ::: bot: No, you don’t need to do anything else. Your bills will be corrected, and the new amounts should reflect soon. Is there anything else I can help you with today? ::: customer: no, just hope it gets fixed right. thanks ::: bot: You're welcome, Jane. If you have any further issues, please don't hesitate to reach out. Have a great day!\n",
            "--\n",
            "bot: Hi Emily, welcome to RadiantEnergy support. How can I assist you today? ::: customer: Hi, I noticed my latest bill is super high even tho we've been using less power. ::: bot: I understand your concern. Can you please provide your account number so I can look into this for you? ::: customer: It's 12345678. I really hope this can be fixed quickly. ::: bot: Thank you for the information. Let me check your account details. ::: bot: I see there is an unusually high charge on your latest bill. I'll need to escalate this to an agent for further investigation. Please hold on. ::: agent: Hi Emily, this is Sarah from RadiantEnergy. I'm sorry to hear about the issue with your bill. Could you confirm your address for verification purposes? ::: customer: Sure, it's 789 Elm Street. ::: agent: Thank you, Emily. After reviewing your usage, I see an anomaly that might be due to a meter reading error. I'll initiate a meter re-read and apply a provisional credit to your account. ::: customer: Thank you, that sounds helpful. Will this affect my service? ::: agent: No, this will not affect your service. You'll see the provisional credit reflected in your next billing cycle while we correct the meter reading. ::: customer: Okay, that works. Appreciate your help! ::: agent: You're welcome, Emily. Is there anything else I can assist you with today? ::: customer: No, that's all. Thanks again! ::: agent: Happy to help! Have a great day!\n",
            "--\n",
            "bot: Hi Jane, Welcome to EcoEnergy Solutions! How can I assist you today? ::: customer: Hi, I recived an unusually high bill for last month. Can you explain the charges plz? ::: bot: I’m sorry to hear about the high bill, Jane. Let me take a closer look at your account. Can you please provide your account number? ::: customer: Sure, it's 547839201. ::: bot: Thank you, Jane. One moment please while I access your account. ::: bot: I’ve reviewed your account and see that the higher bill was due to increased energy usage last month. Could there have been any changes in your household that might explain the higher usage? ::: customer: No, nothing has changed. We use the same amount of electricity every month. ::: bot: I understand. To provide more details, I see an increase in usage during peak hours. This can lead to higher charges. Would you like tips on how to manage peak usage times? ::: customer: Yes please, any tips would be helpful. ::: bot: You can reduce energy consumption by using high-energy appliances during off-peak hours and ensuring all lights and electronics are off when not in use. Also, consider a smart thermostat to manage heating/cooling more efficiently. ::: customer: Thanks, that’s helpful. Can you also check if the meter reading is correct? ::: bot: Of course, Jane. I’ll verify the meter readings for you. ::: bot: I’ve compared the meter readings, and they match the energy usage recorded. There doesn’t appear to be an error in the readings. ::: customer: Oh, okay. Thanks for checking. I’ll be more careful with the peak usage times. ::: bot: You’re welcome, Jane! If you need any further assistance or have more questions, feel free to reach out. ::: customer: Thanks again for your help! ::: bot: Anytime, Jane. Have a great day!\n",
            "--\n",
            "bot: Hi Sarah, Welcome to EcoPure Water support! How can I help you today? ::: customer: Hi, I got a massive bill this month for water. It's way higher than normal. I think there's a meter error. ::: bot: I apologize for the inconvenience, Sarah! Let me help you with this. Can you please provide your account number so I can look into your usage details? ::: customer: Sure, it's 12345678. It just doesn't make sense how much the bill is. ::: bot: Thank you, Sarah. I'll check your recent usage. Please bear with me for a moment. ::: customer: Ok ::: bot: I see that your water usage has indeed spiked significantly this month. Have there been any leaks or unusual activities in your home recently? ::: customer: No, everything's been normal. That's why I'm so confused. ::: bot: I understand. I'm initiating a meter test request, which usually takes 3-5 business days to complete. We'll also adjust your bill if we find any discrepancies. ::: customer: 3-5 days? That's a bit long, but ok, I guess. ::: bot: I apologize for the wait time, Sarah. We strive to resolve issues as quickly as possible. You'll receive an update via email once the test is done. ::: customer: Alright, thanks. Will I need to do anything else? ::: bot: No, there's nothing more you need to do at this moment. We'll keep you informed of any updates. Is there anything else I can assist you with today? ::: customer: No, that's all. ::: bot: Thank you for contacting EcoPure Water. Have a great day, Sarah!\n",
            "--\n",
            "bot: Hi Jessica, welcome to HydroFlow support! How can I assist you today? ::: customer: hi, I got a really high water bill this month, but we barely used any water. ::: bot: I'm sorry to hear that, Jessica. Let's look into that together. Can you please provide your account number to get started? ::: customer: sure, it's 12345678 ::: bot: Thank you. I'm pulling up your account details now. ::: customer: ok thanks ::: bot: I see your recent bill is indeed quite high. Have you checked for any leaks or unusual usage in or around your home? ::: customer: yes, we checked, no leaks and no extra usage that we can think of. ::: bot: Understood. Sometimes, billing errors can occur. Let me review your usage data for the past month. ::: customer: ok please do ::: bot: I have reviewed your usage data, and it looks consistent with your historical usage. However, I'd like to estimate if there's been a miscalculation. ::: customer: that would be helpful ::: bot: It may take a moment to calculate. Thank you for your patience. ::: customer: no problem ::: bot: After reviewing the data, I see a discrepancy in the meter reading. There appears to have been an incorrect entry. ::: customer: can that be fixed? ::: bot: Yes, I have submitted a request to correct the reading. You should see a revised bill within 48 hours. ::: customer: great, thanks! ::: bot: I'm sorry for any inconvenience caused. Is there anything else I can assist you with today? ::: customer: no that's all, thanks again. ::: bot: You're welcome, Jessica! Have a great day!\n",
            "--\n",
            "\n",
            "\n",
            "\n",
            "Cluster 3:\n",
            "--\n",
            "bot: Hi Emily, welcome to GlimmerGadgets support. How can I assist you today? ::: customer: HI, my smartwatch is defective and your customer service was unresponsive ::: bot: I'm really sorry to hear that, Emily. Let's resolve this for you. Can you describe the issue with your smartwatch? ::: customer: it doesnt charge at all. I've tried different cables and plugs. ::: bot: Understood. That sounds frustrating. Let's get this sorted. Can you please provide your order number? ::: customer: hold on, let me check ::: bot: Sure, take your time. ::: customer: found it, its #GG123456 ::: bot: Thank you for that information, Emily. I'll check the status of your previous request. ::: customer: ok ::: bot: It seems your initial request was not processed correctly. I apologize for this oversight. ::: customer: yeah, it was really annoying. ::: bot: I completely understand. We'll get a replacement sent to you right away. Could you confirm your shipping address? ::: customer: it's 123 Elm Street, Springfield. ::: bot: Thank you, Emily. A new smartwatch will be shipped to 123 Elm Street, Springfield. You'll receive it within 3-5 business days. ::: customer: ok, thanks for helping ::: bot: You're welcome, Emily. I'm sorry for the inconvenience, and thank you for your patience. Is there anything else I can assist you with today? ::: customer: no, that's it. ::: bot: Alright. Have a great day, Emily! If you need anything else, feel free to reach out.\n",
            "--\n",
            "bot: Hi John, Welcome to EcoEnergy. How can I assist you today? ::: customer: Hi, I was overcharged on my last bill. I'm on a fixed-rate plan and dont understand why this happened. ::: bot: I’m sorry to hear that, John. Let me take a look at your account details. Can you please provide your account number? ::: customer: Sure, it's 12345678. ::: bot: Thank you, John. I see that you are indeed on a fixed-rate plan. I will need to escalate this issue to one of our agents to resolve this for you. Please hold for a moment. ::: agent: Hi John, this is Lisa from EcoEnergy. I'm here to help with your billing issue. Can you confirm the amount you were overcharged? ::: customer: It was $50 more than usual. My bill should be $120, but I was charged $170. ::: agent: I understand your concern, John. Firstly, I apologize for the inconvenience. I will review your billing history and fixed-rate plan details. This will take a minute. ::: customer: Okay, thank you. ::: agent: Thank you for your patience, John. Upon reviewing your account, I see that there was an error in the billing system. I have corrected it, and your next bill will reflect the appropriate fixed rate. Additionally, the $50 overcharge will be credited back to your account. ::: customer: Oh, that's a relief. Thank you for fixing it. ::: agent: You’re welcome, John. Is there anything else I can assist you with today? ::: customer: No, that's all. Thanks again. ::: agent: Great! Have a wonderful day, John. If you have any other questions, feel free to reach out to us.\n",
            "--\n",
            "bot: Hi Emily, welcome to EcoEnergy's support. How can I help you today? ::: customer: Hi, ive been overcharged on last months bill. ::: bot: I'm really sorry to hear that! Let me look into your account for you. Can you please provide your account number? ::: customer: Sure, its 123456789. ::: bot: Thank you. Please give me a moment to review your account details. ::: customer: ok ::: bot: I've reviewed your account, and it appears there was an error in the billing. You were indeed overcharged. I will process a refund of the overcharged amount. ::: customer: Great, how long will that take? ::: bot: The refund should appear in your account within 5-7 business days. ::: customer: Thx. I hope this doesnt hapen again. ::: bot: I understand your concern. We’re taking steps to make sure it won’t happen in the future. ::: customer: Alright, thank u. ::: bot: You're welcome, Emily. Is there anything else I can help you with today? ::: customer: No, thats all. Bye. ::: bot: Have a great day!\n",
            "--\n",
            "bot: Hi Emily, Welcome to EcoHome Solutions. How can I assist you today? ::: customer: Hi, I've been charged twice for the same purchase and couldnt reach anyone on the phone line. ::: bot: I apologize for the inconvenience. Could you please provide me with your order number and the date of the purchase? ::: customer: Sure, the order number is 12345 and the purchase was made on Oct 10th. ::: bot: Thank you. I will look into this for you. ::: customer: Ok, please hurry. It's annoying I can't get through by phone. ::: bot: I understand your frustration. It looks like there was a mistake in the billing system. I have issued a refund for the duplicate charge, and you should see it in your account within 3-5 business days. ::: customer: Alright, thanks. Just wish this could have been faster. ::: bot: I'm sorry for any inconvenience caused. Is there anything else I can help you with? ::: customer: No, that's all. Thanks. ::: bot: Thank you for reaching out to EcoHome Solutions. Have a great day!\n",
            "--\n",
            "bot: Hi Sarah, welcome to EcoEnergy Solutions. How may I assist you today? ::: customer: Hi, I was charged twice for my last bill, and I need a refund for the duplicate payment. ::: bot: I'm sorry to hear that. Can you please provide your account number so I can check the details for you? ::: customer: Sure, it's 123456789. ::: bot: Thank you. I see there is a duplicate charge for your last bill. Unfortunately, I am unable to process refunds directly. I will transfer you to a live agent who can assist you further. ::: agent: Hi Sarah, this is Jamie. I'm here to help with your duplicate charge issue. ::: customer: Hi Jamie, thanks. I need that refund asap. ::: agent: I understand, Sarah. I have verified the duplicate charge. I'll process a refund to your account, which should reflect within 3-5 business days. ::: customer: Alright, thank you. How can I be sure this won't happen again? ::: agent: We will also review your billing setup to ensure it doesn't recur. Additionally, you will receive a confirmation email regarding this refund shortly. ::: customer: Thanks, Jamie. That helps a lot. ::: agent: You're welcome, Sarah. Is there anything else I can assist you with today? ::: customer: No, that's all. Thanks again! ::: agent: Thank you for contacting EcoEnergy Solutions. Have a great day!\n",
            "--\n",
            "\n",
            "\n",
            "\n",
            "Cluster 4:\n",
            "--\n",
            "bot: Hi Emily, Welcome to FreshWave Groceries customer service. How can I assist you today? ::: customer: Hi, my delivery arrived with several damaged and missing items. What do I do? ::: bot: I'm sorry to hear that! Could you please provide me with your order number? ::: customer: Sure, it's #FW123456. This is really frustrating. ::: bot: Thank you for the information. I will now transfer you to an agent who can assist further with this issue. ::: agent: Hi Emily, I'm very sorry to hear about the damaged and missing items in your order. Can you please list the items that were damaged and the ones that are missing? ::: customer: The eggs were broken, the bread was crushed, and I'm missing a gallon of milk and a pack of strawberries. ::: agent: I apologize for the inconvenience. For the damaged items, we can either issue a refund or send replacements. Which would you prefer? ::: customer: I'd like the replacements, please. ::: agent: Sure, I will arrange for the replacements to be sent out to you. You should receive them within the next 24-48 hours. As for the missing items, I will also arrange for those to be sent with the replacements. Is there anything else I can assist you with? ::: customer: No, that's all. Thanks. ::: agent: You're welcome, Emily. We apologize again for the inconvenience. Thank you for your patience and understanding. Have a great day!\n",
            "--\n",
            "bot: Hi Emma, Welcome to FreshConserve. How can I assist you today? ::: customer: Hi, my order arrived with wrong items an some products were damaged ::: bot: I'm very sorry to hear that! Can you please provide me with your order number? ::: customer: Sure, it's 123456 ::: bot: Thank you. Let me quickly check the details of your order. ::: customer: Ok ::: bot: I see the items that were supposed to be delivered. Can you please tell me which items were incorrect and which were damaged? ::: customer: I got apples insted of oranges, and the bread and milk are damaged ::: bot: I apologize for this inconvenience, Emma. I will arrange for the correct items and replacements for the damaged products to be delivered to you immediately. ::: customer: That wud be great ::: bot: Thank you for your understanding. Your replacement order should arrive within the next 2 hours. Is there anything else I can assist you with? ::: customer: No, thats all. Thanks ::: bot: You're welcome, Emma! Once again, I apologize for the inconvenience. Have a great day!\n",
            "--\n",
            "bot: Hi Emily, welcome to FreshCart support! How can I assist you today? ::: customer: Hi, the fruits and vegetables delivered were not fresh and started spoiling the next day. ::: bot: I’m very sorry to hear that. We strive to deliver the freshest produce. Can I have your order number to look into this for you? ::: customer: Sure, it's #FC12345. ::: bot: Thank you, Emily. I see that was delivered yesterday. I apologize for the inconvenience. Would you prefer a refund or a replacement for the spoiled items? ::: customer: A replacement would be great. ::: bot: Certainly, I will arrange for a replacement of those items to be delivered tomorrow. Does that work for you? ::: customer: Yes, that works. Thank you for resolving this so quickly. ::: bot: You’re welcome, Emily. Is there anything else I can assist you with today? ::: customer: No, that’s all. Thanks again. ::: bot: Thank you for contacting FreshCart support. Have a wonderful day!\n",
            "--\n",
            "bot: Hi Sarah, Welcome to EcoHome Solutions. How can I assist you today? ::: customer: Our fridge arrived with huge dent on side and missing user manual. ::: bot: I'm very sorry to hear about the damage and missing manual. Let me gather some information before I transfer you to an agent. May I know your order number, please? ::: customer: Order# 12345EL ::: bot: Thank you, Sarah. I will now transfer you to an agent who can assist further. ::: agent: Hi Sarah, I'm truly sorry for the inconvenience with your refrigerator. Firstly, we will arrange for a replacement unit to be sent to you as soon as possible. Can I confirm the delivery address is the same as the original? ::: customer: yes, same address pls, also need the manual ::: agent: Great. We will expedite a new refrigerator to your address within the next 2-3 days. The delivery team will also bring the user manual. Our driver will collect the damaged unit at the same time. Does this solution work for you? ::: customer: yes thats good, thank you! ::: agent: You're welcome, Sarah. I'm glad we could resolve this for you. Is there anything else I can assist you with today? ::: customer: No, thats all, thanks again! ::: agent: My pleasure! Have a great day ahead, Sarah.\n",
            "--\n",
            "bot: Hi Jordan, welcome to EcoBright Cleaners! How can I assist you today? ::: customer: Hi, I hav a issue. some of my clothes are missing from my last delivery. ::: bot: I'm really sorry to hear that, Jordan. Can you provide me with the order number for the last delivery? ::: customer: Sure, it's #78945. ::: bot: Thank you for that. Let me check the details of your order. ::: bot: It appears that there were 10 items in your order. How many are missing? ::: customer: I got only 7 items back. Three are missing. ::: bot: I apologize for this inconvenience, Jordan. Can you please list the missing items? ::: customer: Yes, a white shirt, a blue dress, and a pair of black pants. ::: bot: Thank you for the information. I will expedite an investigation into this. Please allow me a moment to look into this further. ::: customer: Ok, but I need these items urgently for an event. ::: bot: I understand the urgency, and I apologize again for the inconvenience. I have escalated this issue to our delivery team for immediate action. ::: bot: I can assure you, Jordan, that we will either locate the missing items promptly or provide compensation for the inconvenience. ::: customer: when can I expect to hear back? I really need it solved fast. ::: bot: You should hear back from us within the next 2 hours. I apologize for the delay, but we are working as quickly as possible to resolve this for you. ::: customer: Alright, thanks for the help. ::: bot: You're welcome, Jordan. We sincerely apologize again for the inconvenience. If you have any other questions or need further assistance, please feel free to reach out.\n",
            "--\n"
          ]
        }
      ],
      "source": [
        "# Print a few data points from each cluster to also help with explainability\n",
        "for i in range(num_clusters):\n",
        "    print(f\"\\n\\n\\nCluster {i}:\")\n",
        "    samples = df[df['cluster'] == i][text_col].tolist()[:5]\n",
        "    for s in samples:\n",
        "        print(\"--\")\n",
        "        print(s)\n",
        "    print(\"--\")"
      ]
    }
  ],
  "metadata": {
    "colab": {
      "provenance": [],
      "gpuType": "T4"
    },
    "kernelspec": {
      "display_name": "Python 3",
      "name": "python3"
    },
    "language_info": {
      "codemirror_mode": {
        "name": "ipython",
        "version": 3
      },
      "file_extension": ".py",
      "mimetype": "text/x-python",
      "name": "python",
      "nbconvert_exporter": "python",
      "pygments_lexer": "ipython3",
      "version": "3.11.10"
    },
    "accelerator": "GPU"
  },
  "nbformat": 4,
  "nbformat_minor": 0
}