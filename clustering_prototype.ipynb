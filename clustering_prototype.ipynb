{
 "cells": [
  {
   "cell_type": "markdown",
   "metadata": {
    "id": "OQljMrW6zX0s"
   },
   "source": [
    "# Clustering Prototype - Initial Version\n",
    "## Sentence embedding, dimensionality reduction, feature selection, clustering, and explaining clusters.\n",
    "\n",
    "\n",
    "This file will allow you to set variables to run clustering and explainability on a dataset. In the next cell, you will be able to:\n",
    "\n",
    "1.   Specify a dataset\n",
    "     - [IMDB Movie Reviews](https://www.kaggle.com/datasets/lakshmi25npathi/imdb-dataset-of-50k-movie-reviews) for sentiment analysis\n",
    "     - [Customer Support Ticket Dataset](https://www.kaggle.com/datasets/suraj520/customer-support-ticket-dataset)\n",
    "2.   Specify an embedding method\n",
    "     - Sentence-BERT ([paper](https://arxiv.org/abs/1908.10084), [documentation](https://www.sbert.net/))\n",
    "     - LLM2Vec ([paper](https://arxiv.org/abs/2404.05961), [GitHub](https://github.com/McGill-NLP/llm2vec))\n",
    "2.   Flag if you would like dimensionality reduction (PCA) to occur\n",
    "3.   Flag if you would like feature selection (decision trees) to occur\n",
    "\n",
    "Based on these options, the file will run K-means clustering and labeling on the dataset.\n",
    "\n",
    "Finally, it will prompt an LLM to explain the cluster groupings.\n"
   ]
  },
  {
   "cell_type": "markdown",
   "metadata": {
    "id": "ATLd6Ei23DsK"
   },
   "source": [
    "## Set options for clustering\n",
    "\n",
    "For each of the sections in the following cell, uncomment the option you wish to use for each section and ensure the rest are commented out."
   ]
  },
  {
   "cell_type": "code",
   "execution_count": 2,
   "metadata": {
    "id": "sAJedakN2ZXn"
   },
   "outputs": [],
   "source": [
    "# Dataset --------------------------------------------\n",
    "dataset = \"IMDB.csv\"\n",
    "text_col = \"review\"\n",
    "label_col = \"sentiment\"\n",
    "# dataset = \"helpdesk_customer_tickets.csv\"\n",
    "# text_col =\n",
    "# label_col =\n",
    "\n",
    "# Embedding method -----------------------------------\n",
    "method = \"s_bert\"\n",
    "# method = \"llm2vec\"\n",
    "\n",
    "# Dimensionality reduction (PCA) ---------------------\n",
    "pca = True\n",
    "# pca = False\n",
    "\n",
    "# Feature selection (decision trees)  ----------------\n",
    "decision_trees = True\n",
    "# decision_trees = False\n",
    "\n",
    "# Cluster count selection ----------------------------\n",
    "cluster_count_method = \"WCSS Elbow\" \n",
    "# cluster_count_method = \"Silhouette Score\"\n",
    "# cluster_count = 10"
   ]
  },
  {
   "cell_type": "markdown",
   "metadata": {
    "id": "KXSvOxxy4fGr"
   },
   "source": [
    "## Imports"
   ]
  },
  {
   "cell_type": "markdown",
   "metadata": {
    "id": "vOB_dE6OzX0u"
   },
   "source": [
    "Shivani note to venv/docker people: I didn't have to do these pip installs on Colab, but Kerria did for it to work on her PC:\n",
    "\n",
    "!pip install transformers torch\n",
    "\n",
    "!pip install -U sentence-transformers\n",
    "\n",
    "(Disclaimer: only these were really needed to work on my (Kerria's) PC, but it'll probably vary from env to env.)\n"
   ]
  },
  {
   "cell_type": "code",
   "execution_count": 5,
   "metadata": {
    "id": "Jp7j_bG7zX0w"
   },
   "outputs": [
    {
     "name": "stderr",
     "output_type": "stream",
     "text": [
      "/Users/kerria/Library/Python/3.8/lib/python/site-packages/sentence_transformers/cross_encoder/CrossEncoder.py:13: TqdmExperimentalWarning: Using `tqdm.autonotebook.tqdm` in notebook mode. Use `tqdm.tqdm` instead to force console mode (e.g. in jupyter console)\n",
      "  from tqdm.autonotebook import tqdm, trange\n"
     ]
    }
   ],
   "source": [
    "import matplotlib.pyplot as plt\n",
    "import numpy as np\n",
    "import pandas as pd\n",
    "from sentence_transformers import SentenceTransformer, util\n",
    "from sklearn.cluster import KMeans\n",
    "from sklearn.decomposition import PCA\n",
    "from sklearn.feature_selection import SelectFromModel\n",
    "from sklearn.metrics import accuracy_score\n",
    "from sklearn.metrics import silhouette_score\n",
    "from sklearn.model_selection import train_test_split\n",
    "from sklearn.preprocessing import StandardScaler\n",
    "from sklearn.tree import DecisionTreeClassifier"
   ]
  },
  {
   "cell_type": "code",
   "execution_count": 6,
   "metadata": {
    "id": "eKhn6hNN4nsj"
   },
   "outputs": [
    {
     "data": {
      "application/vnd.jupyter.widget-view+json": {
       "model_id": "564c4e46f8004ce4ae633c83725083f4",
       "version_major": 2,
       "version_minor": 0
      },
      "text/plain": [
       "modules.json:   0%|          | 0.00/349 [00:00<?, ?B/s]"
      ]
     },
     "metadata": {},
     "output_type": "display_data"
    },
    {
     "data": {
      "application/vnd.jupyter.widget-view+json": {
       "model_id": "e7b1111f75a64f0299320d803430e0bb",
       "version_major": 2,
       "version_minor": 0
      },
      "text/plain": [
       "config_sentence_transformers.json:   0%|          | 0.00/116 [00:00<?, ?B/s]"
      ]
     },
     "metadata": {},
     "output_type": "display_data"
    },
    {
     "data": {
      "application/vnd.jupyter.widget-view+json": {
       "model_id": "4ae0f4b9c5464238a7467ded31fee78b",
       "version_major": 2,
       "version_minor": 0
      },
      "text/plain": [
       "README.md:   0%|          | 0.00/10.7k [00:00<?, ?B/s]"
      ]
     },
     "metadata": {},
     "output_type": "display_data"
    },
    {
     "data": {
      "application/vnd.jupyter.widget-view+json": {
       "model_id": "8740249883b14e20b3edc524d24a96ec",
       "version_major": 2,
       "version_minor": 0
      },
      "text/plain": [
       "sentence_bert_config.json:   0%|          | 0.00/53.0 [00:00<?, ?B/s]"
      ]
     },
     "metadata": {},
     "output_type": "display_data"
    },
    {
     "data": {
      "application/vnd.jupyter.widget-view+json": {
       "model_id": "732324fd6c074806b3caef9200044d64",
       "version_major": 2,
       "version_minor": 0
      },
      "text/plain": [
       "config.json:   0%|          | 0.00/612 [00:00<?, ?B/s]"
      ]
     },
     "metadata": {},
     "output_type": "display_data"
    },
    {
     "data": {
      "application/vnd.jupyter.widget-view+json": {
       "model_id": "402a2d33331543dabac08ccbfb2fd1e5",
       "version_major": 2,
       "version_minor": 0
      },
      "text/plain": [
       "model.safetensors:   0%|          | 0.00/90.9M [00:00<?, ?B/s]"
      ]
     },
     "metadata": {},
     "output_type": "display_data"
    },
    {
     "data": {
      "application/vnd.jupyter.widget-view+json": {
       "model_id": "13ed7858d5cf489bbd90e74fc48f9fdf",
       "version_major": 2,
       "version_minor": 0
      },
      "text/plain": [
       "tokenizer_config.json:   0%|          | 0.00/350 [00:00<?, ?B/s]"
      ]
     },
     "metadata": {},
     "output_type": "display_data"
    },
    {
     "data": {
      "application/vnd.jupyter.widget-view+json": {
       "model_id": "5b4e0ee533884fff94984eaf5d747d3d",
       "version_major": 2,
       "version_minor": 0
      },
      "text/plain": [
       "vocab.txt:   0%|          | 0.00/232k [00:00<?, ?B/s]"
      ]
     },
     "metadata": {},
     "output_type": "display_data"
    },
    {
     "data": {
      "application/vnd.jupyter.widget-view+json": {
       "model_id": "45a3f73c1ee8400fba1ad6c4f0bcd55b",
       "version_major": 2,
       "version_minor": 0
      },
      "text/plain": [
       "tokenizer.json:   0%|          | 0.00/466k [00:00<?, ?B/s]"
      ]
     },
     "metadata": {},
     "output_type": "display_data"
    },
    {
     "data": {
      "application/vnd.jupyter.widget-view+json": {
       "model_id": "c4cd46f988d04841acc3ace25982520c",
       "version_major": 2,
       "version_minor": 0
      },
      "text/plain": [
       "special_tokens_map.json:   0%|          | 0.00/112 [00:00<?, ?B/s]"
      ]
     },
     "metadata": {},
     "output_type": "display_data"
    },
    {
     "data": {
      "application/vnd.jupyter.widget-view+json": {
       "model_id": "66f99f02fc5d4d798a00365cf237d68f",
       "version_major": 2,
       "version_minor": 0
      },
      "text/plain": [
       "1_Pooling/config.json:   0%|          | 0.00/190 [00:00<?, ?B/s]"
      ]
     },
     "metadata": {},
     "output_type": "display_data"
    }
   ],
   "source": [
    "# Read dataset --------------------------------------------------------------\n",
    "df = pd.read_csv(dataset)\n",
    "df = df.sample(frac=0.05)\n",
    "text = df[text_col]\n",
    "\n",
    "# Calculate embeddings ------------------------------------------------------\n",
    "# Note: this is a time-consuming step (~7 min)\n",
    "embedding_model = SentenceTransformer(\"all-MiniLM-L6-v2\")\n",
    "embeddings = embedding_model.encode(text.tolist(), convert_to_tensor=False)"
   ]
  },
  {
   "cell_type": "code",
   "execution_count": 7,
   "metadata": {
    "id": "Wm-yNKJKEO3_"
   },
   "outputs": [],
   "source": [
    "# Dimensionality Reduction (PCA) --------------------------------------------\n",
    "if pca:\n",
    "  pca_model = PCA(n_components=2)\n",
    "  embeddings_2d = pca_model.fit_transform(embeddings)"
   ]
  },
  {
   "cell_type": "markdown",
   "metadata": {
    "id": "vlbm-B23IqrV"
   },
   "source": [
    "## Incorporate feature selection using decision trees\n",
    "\n",
    "\"Shrink\" or drop the non-important features with respect to the output class, and \"expand\" the features that are more important to determining the output class."
   ]
  },
  {
   "cell_type": "code",
   "execution_count": 9,
   "metadata": {
    "colab": {
     "base_uri": "https://localhost:8080/"
    },
    "id": "gnU_M7U9GxWC",
    "outputId": "969385d2-61a2-438e-a730-d82858390fcc"
   },
   "outputs": [
    {
     "name": "stdout",
     "output_type": "stream",
     "text": [
      "Embeddings went from size 384 to 4\n"
     ]
    }
   ],
   "source": [
    "# Feature Selection (Decision Trees) ----------------------------------------\n",
    "if decision_trees:\n",
    "  X_train, X_test, y_train, y_test = train_test_split(embeddings, df[label_col], random_state = 8, test_size = 0.3)\n",
    "\n",
    "  # Fit the decision tree model\n",
    "  decision_tree_model = DecisionTreeClassifier()\n",
    "  decision_tree_model.fit(X_train, y_train)\n",
    "\n",
    "  # Access feature importances\n",
    "  feature_importances = decision_tree_model.feature_importances_\n",
    "\n",
    "  # Delete low-importance features\n",
    "  low_importance_indices = np.where(feature_importances < 0.025)[0] # random sampling prob. -- 1/384 = 0.0026\n",
    "  embeddings_small = np.delete(embeddings, low_importance_indices, axis=1)\n",
    "  X_train_reduced = np.delete(X_train, low_importance_indices, axis=1)\n",
    "  X_test_reduced = np.delete(X_test, low_importance_indices, axis=1)\n",
    "  print(f\"Embeddings went from size {len(X_train[0])} to {len(X_train_reduced[0])}\")"
   ]
  },
  {
   "cell_type": "markdown",
   "metadata": {
    "id": "8Xih5Bg6JZ6e"
   },
   "source": [
    "## K-means clustering"
   ]
  },
  {
   "cell_type": "markdown",
   "metadata": {},
   "source": [
    "First determine optimal number of clusters through either WCSS elbow point selection or silhouette score maximization."
   ]
  },
  {
   "cell_type": "code",
   "execution_count": 10,
   "metadata": {
    "colab": {
     "base_uri": "https://localhost:8080/",
     "height": 944
    },
    "id": "ZfPRMn_4Jc3F",
    "outputId": "39aa0893-b80c-48ff-f7aa-d374c81dce6c"
   },
   "outputs": [
    {
     "name": "stderr",
     "output_type": "stream",
     "text": [
      "/Users/kerria/Library/Python/3.8/lib/python/site-packages/sklearn/cluster/_kmeans.py:1416: FutureWarning: The default value of `n_init` will change from 10 to 'auto' in 1.4. Set the value of `n_init` explicitly to suppress the warning\n",
      "  super()._check_params_vs_input(X, default_n_init=10)\n",
      "huggingface/tokenizers: The current process just got forked, after parallelism has already been used. Disabling parallelism to avoid deadlocks...\n",
      "To disable this warning, you can either:\n",
      "\t- Avoid using `tokenizers` before the fork if possible\n",
      "\t- Explicitly set the environment variable TOKENIZERS_PARALLELISM=(true | false)\n",
      "/Users/kerria/Library/Python/3.8/lib/python/site-packages/sklearn/cluster/_kmeans.py:1416: FutureWarning: The default value of `n_init` will change from 10 to 'auto' in 1.4. Set the value of `n_init` explicitly to suppress the warning\n",
      "  super()._check_params_vs_input(X, default_n_init=10)\n",
      "/Users/kerria/Library/Python/3.8/lib/python/site-packages/sklearn/cluster/_kmeans.py:1416: FutureWarning: The default value of `n_init` will change from 10 to 'auto' in 1.4. Set the value of `n_init` explicitly to suppress the warning\n",
      "  super()._check_params_vs_input(X, default_n_init=10)\n",
      "/Users/kerria/Library/Python/3.8/lib/python/site-packages/sklearn/cluster/_kmeans.py:1416: FutureWarning: The default value of `n_init` will change from 10 to 'auto' in 1.4. Set the value of `n_init` explicitly to suppress the warning\n",
      "  super()._check_params_vs_input(X, default_n_init=10)\n",
      "/Users/kerria/Library/Python/3.8/lib/python/site-packages/sklearn/cluster/_kmeans.py:1416: FutureWarning: The default value of `n_init` will change from 10 to 'auto' in 1.4. Set the value of `n_init` explicitly to suppress the warning\n",
      "  super()._check_params_vs_input(X, default_n_init=10)\n",
      "/Users/kerria/Library/Python/3.8/lib/python/site-packages/sklearn/cluster/_kmeans.py:1416: FutureWarning: The default value of `n_init` will change from 10 to 'auto' in 1.4. Set the value of `n_init` explicitly to suppress the warning\n",
      "  super()._check_params_vs_input(X, default_n_init=10)\n",
      "/Users/kerria/Library/Python/3.8/lib/python/site-packages/sklearn/cluster/_kmeans.py:1416: FutureWarning: The default value of `n_init` will change from 10 to 'auto' in 1.4. Set the value of `n_init` explicitly to suppress the warning\n",
      "  super()._check_params_vs_input(X, default_n_init=10)\n",
      "/Users/kerria/Library/Python/3.8/lib/python/site-packages/sklearn/cluster/_kmeans.py:1416: FutureWarning: The default value of `n_init` will change from 10 to 'auto' in 1.4. Set the value of `n_init` explicitly to suppress the warning\n",
      "  super()._check_params_vs_input(X, default_n_init=10)\n",
      "/Users/kerria/Library/Python/3.8/lib/python/site-packages/sklearn/cluster/_kmeans.py:1416: FutureWarning: The default value of `n_init` will change from 10 to 'auto' in 1.4. Set the value of `n_init` explicitly to suppress the warning\n",
      "  super()._check_params_vs_input(X, default_n_init=10)\n",
      "/Users/kerria/Library/Python/3.8/lib/python/site-packages/sklearn/cluster/_kmeans.py:1416: FutureWarning: The default value of `n_init` will change from 10 to 'auto' in 1.4. Set the value of `n_init` explicitly to suppress the warning\n",
      "  super()._check_params_vs_input(X, default_n_init=10)\n",
      "/Users/kerria/Library/Python/3.8/lib/python/site-packages/sklearn/cluster/_kmeans.py:1416: FutureWarning: The default value of `n_init` will change from 10 to 'auto' in 1.4. Set the value of `n_init` explicitly to suppress the warning\n",
      "  super()._check_params_vs_input(X, default_n_init=10)\n",
      "/Users/kerria/Library/Python/3.8/lib/python/site-packages/sklearn/cluster/_kmeans.py:1416: FutureWarning: The default value of `n_init` will change from 10 to 'auto' in 1.4. Set the value of `n_init` explicitly to suppress the warning\n",
      "  super()._check_params_vs_input(X, default_n_init=10)\n",
      "/Users/kerria/Library/Python/3.8/lib/python/site-packages/sklearn/cluster/_kmeans.py:1416: FutureWarning: The default value of `n_init` will change from 10 to 'auto' in 1.4. Set the value of `n_init` explicitly to suppress the warning\n",
      "  super()._check_params_vs_input(X, default_n_init=10)\n",
      "/Users/kerria/Library/Python/3.8/lib/python/site-packages/sklearn/cluster/_kmeans.py:1416: FutureWarning: The default value of `n_init` will change from 10 to 'auto' in 1.4. Set the value of `n_init` explicitly to suppress the warning\n",
      "  super()._check_params_vs_input(X, default_n_init=10)\n",
      "/Users/kerria/Library/Python/3.8/lib/python/site-packages/sklearn/cluster/_kmeans.py:1416: FutureWarning: The default value of `n_init` will change from 10 to 'auto' in 1.4. Set the value of `n_init` explicitly to suppress the warning\n",
      "  super()._check_params_vs_input(X, default_n_init=10)\n",
      "/Users/kerria/Library/Python/3.8/lib/python/site-packages/sklearn/cluster/_kmeans.py:1416: FutureWarning: The default value of `n_init` will change from 10 to 'auto' in 1.4. Set the value of `n_init` explicitly to suppress the warning\n",
      "  super()._check_params_vs_input(X, default_n_init=10)\n",
      "/Users/kerria/Library/Python/3.8/lib/python/site-packages/sklearn/cluster/_kmeans.py:1416: FutureWarning: The default value of `n_init` will change from 10 to 'auto' in 1.4. Set the value of `n_init` explicitly to suppress the warning\n",
      "  super()._check_params_vs_input(X, default_n_init=10)\n",
      "/Users/kerria/Library/Python/3.8/lib/python/site-packages/sklearn/cluster/_kmeans.py:1416: FutureWarning: The default value of `n_init` will change from 10 to 'auto' in 1.4. Set the value of `n_init` explicitly to suppress the warning\n",
      "  super()._check_params_vs_input(X, default_n_init=10)\n",
      "/Users/kerria/Library/Python/3.8/lib/python/site-packages/sklearn/cluster/_kmeans.py:1416: FutureWarning: The default value of `n_init` will change from 10 to 'auto' in 1.4. Set the value of `n_init` explicitly to suppress the warning\n",
      "  super()._check_params_vs_input(X, default_n_init=10)\n",
      "/Users/kerria/Library/Python/3.8/lib/python/site-packages/sklearn/cluster/_kmeans.py:1416: FutureWarning: The default value of `n_init` will change from 10 to 'auto' in 1.4. Set the value of `n_init` explicitly to suppress the warning\n",
      "  super()._check_params_vs_input(X, default_n_init=10)\n",
      "/Users/kerria/Library/Python/3.8/lib/python/site-packages/sklearn/cluster/_kmeans.py:1416: FutureWarning: The default value of `n_init` will change from 10 to 'auto' in 1.4. Set the value of `n_init` explicitly to suppress the warning\n",
      "  super()._check_params_vs_input(X, default_n_init=10)\n",
      "/Users/kerria/Library/Python/3.8/lib/python/site-packages/sklearn/cluster/_kmeans.py:1416: FutureWarning: The default value of `n_init` will change from 10 to 'auto' in 1.4. Set the value of `n_init` explicitly to suppress the warning\n",
      "  super()._check_params_vs_input(X, default_n_init=10)\n",
      "/Users/kerria/Library/Python/3.8/lib/python/site-packages/sklearn/cluster/_kmeans.py:1416: FutureWarning: The default value of `n_init` will change from 10 to 'auto' in 1.4. Set the value of `n_init` explicitly to suppress the warning\n",
      "  super()._check_params_vs_input(X, default_n_init=10)\n",
      "/Users/kerria/Library/Python/3.8/lib/python/site-packages/sklearn/cluster/_kmeans.py:1416: FutureWarning: The default value of `n_init` will change from 10 to 'auto' in 1.4. Set the value of `n_init` explicitly to suppress the warning\n",
      "  super()._check_params_vs_input(X, default_n_init=10)\n",
      "/Users/kerria/Library/Python/3.8/lib/python/site-packages/sklearn/cluster/_kmeans.py:1416: FutureWarning: The default value of `n_init` will change from 10 to 'auto' in 1.4. Set the value of `n_init` explicitly to suppress the warning\n",
      "  super()._check_params_vs_input(X, default_n_init=10)\n",
      "/Users/kerria/Library/Python/3.8/lib/python/site-packages/sklearn/cluster/_kmeans.py:1416: FutureWarning: The default value of `n_init` will change from 10 to 'auto' in 1.4. Set the value of `n_init` explicitly to suppress the warning\n",
      "  super()._check_params_vs_input(X, default_n_init=10)\n",
      "/Users/kerria/Library/Python/3.8/lib/python/site-packages/sklearn/cluster/_kmeans.py:1416: FutureWarning: The default value of `n_init` will change from 10 to 'auto' in 1.4. Set the value of `n_init` explicitly to suppress the warning\n",
      "  super()._check_params_vs_input(X, default_n_init=10)\n",
      "/Users/kerria/Library/Python/3.8/lib/python/site-packages/sklearn/cluster/_kmeans.py:1416: FutureWarning: The default value of `n_init` will change from 10 to 'auto' in 1.4. Set the value of `n_init` explicitly to suppress the warning\n",
      "  super()._check_params_vs_input(X, default_n_init=10)\n",
      "/Users/kerria/Library/Python/3.8/lib/python/site-packages/sklearn/cluster/_kmeans.py:1416: FutureWarning: The default value of `n_init` will change from 10 to 'auto' in 1.4. Set the value of `n_init` explicitly to suppress the warning\n",
      "  super()._check_params_vs_input(X, default_n_init=10)\n",
      "/Users/kerria/Library/Python/3.8/lib/python/site-packages/sklearn/cluster/_kmeans.py:1416: FutureWarning: The default value of `n_init` will change from 10 to 'auto' in 1.4. Set the value of `n_init` explicitly to suppress the warning\n",
      "  super()._check_params_vs_input(X, default_n_init=10)\n",
      "/Users/kerria/Library/Python/3.8/lib/python/site-packages/sklearn/cluster/_kmeans.py:1416: FutureWarning: The default value of `n_init` will change from 10 to 'auto' in 1.4. Set the value of `n_init` explicitly to suppress the warning\n",
      "  super()._check_params_vs_input(X, default_n_init=10)\n",
      "/Users/kerria/Library/Python/3.8/lib/python/site-packages/sklearn/cluster/_kmeans.py:1416: FutureWarning: The default value of `n_init` will change from 10 to 'auto' in 1.4. Set the value of `n_init` explicitly to suppress the warning\n",
      "  super()._check_params_vs_input(X, default_n_init=10)\n",
      "/Users/kerria/Library/Python/3.8/lib/python/site-packages/sklearn/cluster/_kmeans.py:1416: FutureWarning: The default value of `n_init` will change from 10 to 'auto' in 1.4. Set the value of `n_init` explicitly to suppress the warning\n",
      "  super()._check_params_vs_input(X, default_n_init=10)\n",
      "/Users/kerria/Library/Python/3.8/lib/python/site-packages/sklearn/cluster/_kmeans.py:1416: FutureWarning: The default value of `n_init` will change from 10 to 'auto' in 1.4. Set the value of `n_init` explicitly to suppress the warning\n",
      "  super()._check_params_vs_input(X, default_n_init=10)\n",
      "/Users/kerria/Library/Python/3.8/lib/python/site-packages/sklearn/cluster/_kmeans.py:1416: FutureWarning: The default value of `n_init` will change from 10 to 'auto' in 1.4. Set the value of `n_init` explicitly to suppress the warning\n",
      "  super()._check_params_vs_input(X, default_n_init=10)\n",
      "/Users/kerria/Library/Python/3.8/lib/python/site-packages/sklearn/cluster/_kmeans.py:1416: FutureWarning: The default value of `n_init` will change from 10 to 'auto' in 1.4. Set the value of `n_init` explicitly to suppress the warning\n",
      "  super()._check_params_vs_input(X, default_n_init=10)\n",
      "/Users/kerria/Library/Python/3.8/lib/python/site-packages/sklearn/cluster/_kmeans.py:1416: FutureWarning: The default value of `n_init` will change from 10 to 'auto' in 1.4. Set the value of `n_init` explicitly to suppress the warning\n",
      "  super()._check_params_vs_input(X, default_n_init=10)\n",
      "/Users/kerria/Library/Python/3.8/lib/python/site-packages/sklearn/cluster/_kmeans.py:1416: FutureWarning: The default value of `n_init` will change from 10 to 'auto' in 1.4. Set the value of `n_init` explicitly to suppress the warning\n",
      "  super()._check_params_vs_input(X, default_n_init=10)\n",
      "/Users/kerria/Library/Python/3.8/lib/python/site-packages/sklearn/cluster/_kmeans.py:1416: FutureWarning: The default value of `n_init` will change from 10 to 'auto' in 1.4. Set the value of `n_init` explicitly to suppress the warning\n",
      "  super()._check_params_vs_input(X, default_n_init=10)\n",
      "/Users/kerria/Library/Python/3.8/lib/python/site-packages/sklearn/cluster/_kmeans.py:1416: FutureWarning: The default value of `n_init` will change from 10 to 'auto' in 1.4. Set the value of `n_init` explicitly to suppress the warning\n",
      "  super()._check_params_vs_input(X, default_n_init=10)\n",
      "/Users/kerria/Library/Python/3.8/lib/python/site-packages/sklearn/cluster/_kmeans.py:1416: FutureWarning: The default value of `n_init` will change from 10 to 'auto' in 1.4. Set the value of `n_init` explicitly to suppress the warning\n",
      "  super()._check_params_vs_input(X, default_n_init=10)\n",
      "/Users/kerria/Library/Python/3.8/lib/python/site-packages/sklearn/cluster/_kmeans.py:1416: FutureWarning: The default value of `n_init` will change from 10 to 'auto' in 1.4. Set the value of `n_init` explicitly to suppress the warning\n",
      "  super()._check_params_vs_input(X, default_n_init=10)\n",
      "/Users/kerria/Library/Python/3.8/lib/python/site-packages/sklearn/cluster/_kmeans.py:1416: FutureWarning: The default value of `n_init` will change from 10 to 'auto' in 1.4. Set the value of `n_init` explicitly to suppress the warning\n",
      "  super()._check_params_vs_input(X, default_n_init=10)\n",
      "/Users/kerria/Library/Python/3.8/lib/python/site-packages/sklearn/cluster/_kmeans.py:1416: FutureWarning: The default value of `n_init` will change from 10 to 'auto' in 1.4. Set the value of `n_init` explicitly to suppress the warning\n",
      "  super()._check_params_vs_input(X, default_n_init=10)\n",
      "/Users/kerria/Library/Python/3.8/lib/python/site-packages/sklearn/cluster/_kmeans.py:1416: FutureWarning: The default value of `n_init` will change from 10 to 'auto' in 1.4. Set the value of `n_init` explicitly to suppress the warning\n",
      "  super()._check_params_vs_input(X, default_n_init=10)\n",
      "/Users/kerria/Library/Python/3.8/lib/python/site-packages/sklearn/cluster/_kmeans.py:1416: FutureWarning: The default value of `n_init` will change from 10 to 'auto' in 1.4. Set the value of `n_init` explicitly to suppress the warning\n",
      "  super()._check_params_vs_input(X, default_n_init=10)\n",
      "/Users/kerria/Library/Python/3.8/lib/python/site-packages/sklearn/cluster/_kmeans.py:1416: FutureWarning: The default value of `n_init` will change from 10 to 'auto' in 1.4. Set the value of `n_init` explicitly to suppress the warning\n",
      "  super()._check_params_vs_input(X, default_n_init=10)\n",
      "/Users/kerria/Library/Python/3.8/lib/python/site-packages/sklearn/cluster/_kmeans.py:1416: FutureWarning: The default value of `n_init` will change from 10 to 'auto' in 1.4. Set the value of `n_init` explicitly to suppress the warning\n",
      "  super()._check_params_vs_input(X, default_n_init=10)\n",
      "/Users/kerria/Library/Python/3.8/lib/python/site-packages/sklearn/cluster/_kmeans.py:1416: FutureWarning: The default value of `n_init` will change from 10 to 'auto' in 1.4. Set the value of `n_init` explicitly to suppress the warning\n",
      "  super()._check_params_vs_input(X, default_n_init=10)\n",
      "/Users/kerria/Library/Python/3.8/lib/python/site-packages/sklearn/cluster/_kmeans.py:1416: FutureWarning: The default value of `n_init` will change from 10 to 'auto' in 1.4. Set the value of `n_init` explicitly to suppress the warning\n",
      "  super()._check_params_vs_input(X, default_n_init=10)\n",
      "/Users/kerria/Library/Python/3.8/lib/python/site-packages/sklearn/cluster/_kmeans.py:1416: FutureWarning: The default value of `n_init` will change from 10 to 'auto' in 1.4. Set the value of `n_init` explicitly to suppress the warning\n",
      "  super()._check_params_vs_input(X, default_n_init=10)\n",
      "/Users/kerria/Library/Python/3.8/lib/python/site-packages/sklearn/cluster/_kmeans.py:1416: FutureWarning: The default value of `n_init` will change from 10 to 'auto' in 1.4. Set the value of `n_init` explicitly to suppress the warning\n",
      "  super()._check_params_vs_input(X, default_n_init=10)\n",
      "/Users/kerria/Library/Python/3.8/lib/python/site-packages/sklearn/cluster/_kmeans.py:1416: FutureWarning: The default value of `n_init` will change from 10 to 'auto' in 1.4. Set the value of `n_init` explicitly to suppress the warning\n",
      "  super()._check_params_vs_input(X, default_n_init=10)\n",
      "/Users/kerria/Library/Python/3.8/lib/python/site-packages/sklearn/cluster/_kmeans.py:1416: FutureWarning: The default value of `n_init` will change from 10 to 'auto' in 1.4. Set the value of `n_init` explicitly to suppress the warning\n",
      "  super()._check_params_vs_input(X, default_n_init=10)\n",
      "/Users/kerria/Library/Python/3.8/lib/python/site-packages/sklearn/cluster/_kmeans.py:1416: FutureWarning: The default value of `n_init` will change from 10 to 'auto' in 1.4. Set the value of `n_init` explicitly to suppress the warning\n",
      "  super()._check_params_vs_input(X, default_n_init=10)\n",
      "/Users/kerria/Library/Python/3.8/lib/python/site-packages/sklearn/cluster/_kmeans.py:1416: FutureWarning: The default value of `n_init` will change from 10 to 'auto' in 1.4. Set the value of `n_init` explicitly to suppress the warning\n",
      "  super()._check_params_vs_input(X, default_n_init=10)\n",
      "/Users/kerria/Library/Python/3.8/lib/python/site-packages/sklearn/cluster/_kmeans.py:1416: FutureWarning: The default value of `n_init` will change from 10 to 'auto' in 1.4. Set the value of `n_init` explicitly to suppress the warning\n",
      "  super()._check_params_vs_input(X, default_n_init=10)\n",
      "/Users/kerria/Library/Python/3.8/lib/python/site-packages/sklearn/cluster/_kmeans.py:1416: FutureWarning: The default value of `n_init` will change from 10 to 'auto' in 1.4. Set the value of `n_init` explicitly to suppress the warning\n",
      "  super()._check_params_vs_input(X, default_n_init=10)\n",
      "/Users/kerria/Library/Python/3.8/lib/python/site-packages/sklearn/cluster/_kmeans.py:1416: FutureWarning: The default value of `n_init` will change from 10 to 'auto' in 1.4. Set the value of `n_init` explicitly to suppress the warning\n",
      "  super()._check_params_vs_input(X, default_n_init=10)\n",
      "/Users/kerria/Library/Python/3.8/lib/python/site-packages/sklearn/cluster/_kmeans.py:1416: FutureWarning: The default value of `n_init` will change from 10 to 'auto' in 1.4. Set the value of `n_init` explicitly to suppress the warning\n",
      "  super()._check_params_vs_input(X, default_n_init=10)\n",
      "/Users/kerria/Library/Python/3.8/lib/python/site-packages/sklearn/cluster/_kmeans.py:1416: FutureWarning: The default value of `n_init` will change from 10 to 'auto' in 1.4. Set the value of `n_init` explicitly to suppress the warning\n",
      "  super()._check_params_vs_input(X, default_n_init=10)\n",
      "/Users/kerria/Library/Python/3.8/lib/python/site-packages/sklearn/cluster/_kmeans.py:1416: FutureWarning: The default value of `n_init` will change from 10 to 'auto' in 1.4. Set the value of `n_init` explicitly to suppress the warning\n",
      "  super()._check_params_vs_input(X, default_n_init=10)\n",
      "/Users/kerria/Library/Python/3.8/lib/python/site-packages/sklearn/cluster/_kmeans.py:1416: FutureWarning: The default value of `n_init` will change from 10 to 'auto' in 1.4. Set the value of `n_init` explicitly to suppress the warning\n",
      "  super()._check_params_vs_input(X, default_n_init=10)\n",
      "/Users/kerria/Library/Python/3.8/lib/python/site-packages/sklearn/cluster/_kmeans.py:1416: FutureWarning: The default value of `n_init` will change from 10 to 'auto' in 1.4. Set the value of `n_init` explicitly to suppress the warning\n",
      "  super()._check_params_vs_input(X, default_n_init=10)\n",
      "/Users/kerria/Library/Python/3.8/lib/python/site-packages/sklearn/cluster/_kmeans.py:1416: FutureWarning: The default value of `n_init` will change from 10 to 'auto' in 1.4. Set the value of `n_init` explicitly to suppress the warning\n",
      "  super()._check_params_vs_input(X, default_n_init=10)\n",
      "/Users/kerria/Library/Python/3.8/lib/python/site-packages/sklearn/cluster/_kmeans.py:1416: FutureWarning: The default value of `n_init` will change from 10 to 'auto' in 1.4. Set the value of `n_init` explicitly to suppress the warning\n",
      "  super()._check_params_vs_input(X, default_n_init=10)\n",
      "/Users/kerria/Library/Python/3.8/lib/python/site-packages/sklearn/cluster/_kmeans.py:1416: FutureWarning: The default value of `n_init` will change from 10 to 'auto' in 1.4. Set the value of `n_init` explicitly to suppress the warning\n",
      "  super()._check_params_vs_input(X, default_n_init=10)\n",
      "/Users/kerria/Library/Python/3.8/lib/python/site-packages/sklearn/cluster/_kmeans.py:1416: FutureWarning: The default value of `n_init` will change from 10 to 'auto' in 1.4. Set the value of `n_init` explicitly to suppress the warning\n",
      "  super()._check_params_vs_input(X, default_n_init=10)\n",
      "/Users/kerria/Library/Python/3.8/lib/python/site-packages/sklearn/cluster/_kmeans.py:1416: FutureWarning: The default value of `n_init` will change from 10 to 'auto' in 1.4. Set the value of `n_init` explicitly to suppress the warning\n",
      "  super()._check_params_vs_input(X, default_n_init=10)\n",
      "/Users/kerria/Library/Python/3.8/lib/python/site-packages/sklearn/cluster/_kmeans.py:1416: FutureWarning: The default value of `n_init` will change from 10 to 'auto' in 1.4. Set the value of `n_init` explicitly to suppress the warning\n",
      "  super()._check_params_vs_input(X, default_n_init=10)\n",
      "/Users/kerria/Library/Python/3.8/lib/python/site-packages/sklearn/cluster/_kmeans.py:1416: FutureWarning: The default value of `n_init` will change from 10 to 'auto' in 1.4. Set the value of `n_init` explicitly to suppress the warning\n",
      "  super()._check_params_vs_input(X, default_n_init=10)\n",
      "/Users/kerria/Library/Python/3.8/lib/python/site-packages/sklearn/cluster/_kmeans.py:1416: FutureWarning: The default value of `n_init` will change from 10 to 'auto' in 1.4. Set the value of `n_init` explicitly to suppress the warning\n",
      "  super()._check_params_vs_input(X, default_n_init=10)\n",
      "/Users/kerria/Library/Python/3.8/lib/python/site-packages/sklearn/cluster/_kmeans.py:1416: FutureWarning: The default value of `n_init` will change from 10 to 'auto' in 1.4. Set the value of `n_init` explicitly to suppress the warning\n",
      "  super()._check_params_vs_input(X, default_n_init=10)\n",
      "/Users/kerria/Library/Python/3.8/lib/python/site-packages/sklearn/cluster/_kmeans.py:1416: FutureWarning: The default value of `n_init` will change from 10 to 'auto' in 1.4. Set the value of `n_init` explicitly to suppress the warning\n",
      "  super()._check_params_vs_input(X, default_n_init=10)\n",
      "/Users/kerria/Library/Python/3.8/lib/python/site-packages/sklearn/cluster/_kmeans.py:1416: FutureWarning: The default value of `n_init` will change from 10 to 'auto' in 1.4. Set the value of `n_init` explicitly to suppress the warning\n",
      "  super()._check_params_vs_input(X, default_n_init=10)\n",
      "/Users/kerria/Library/Python/3.8/lib/python/site-packages/sklearn/cluster/_kmeans.py:1416: FutureWarning: The default value of `n_init` will change from 10 to 'auto' in 1.4. Set the value of `n_init` explicitly to suppress the warning\n",
      "  super()._check_params_vs_input(X, default_n_init=10)\n",
      "/Users/kerria/Library/Python/3.8/lib/python/site-packages/sklearn/cluster/_kmeans.py:1416: FutureWarning: The default value of `n_init` will change from 10 to 'auto' in 1.4. Set the value of `n_init` explicitly to suppress the warning\n",
      "  super()._check_params_vs_input(X, default_n_init=10)\n",
      "/Users/kerria/Library/Python/3.8/lib/python/site-packages/sklearn/cluster/_kmeans.py:1416: FutureWarning: The default value of `n_init` will change from 10 to 'auto' in 1.4. Set the value of `n_init` explicitly to suppress the warning\n",
      "  super()._check_params_vs_input(X, default_n_init=10)\n",
      "/Users/kerria/Library/Python/3.8/lib/python/site-packages/sklearn/cluster/_kmeans.py:1416: FutureWarning: The default value of `n_init` will change from 10 to 'auto' in 1.4. Set the value of `n_init` explicitly to suppress the warning\n",
      "  super()._check_params_vs_input(X, default_n_init=10)\n",
      "/Users/kerria/Library/Python/3.8/lib/python/site-packages/sklearn/cluster/_kmeans.py:1416: FutureWarning: The default value of `n_init` will change from 10 to 'auto' in 1.4. Set the value of `n_init` explicitly to suppress the warning\n",
      "  super()._check_params_vs_input(X, default_n_init=10)\n",
      "/Users/kerria/Library/Python/3.8/lib/python/site-packages/sklearn/cluster/_kmeans.py:1416: FutureWarning: The default value of `n_init` will change from 10 to 'auto' in 1.4. Set the value of `n_init` explicitly to suppress the warning\n",
      "  super()._check_params_vs_input(X, default_n_init=10)\n",
      "/Users/kerria/Library/Python/3.8/lib/python/site-packages/sklearn/cluster/_kmeans.py:1416: FutureWarning: The default value of `n_init` will change from 10 to 'auto' in 1.4. Set the value of `n_init` explicitly to suppress the warning\n",
      "  super()._check_params_vs_input(X, default_n_init=10)\n",
      "/Users/kerria/Library/Python/3.8/lib/python/site-packages/sklearn/cluster/_kmeans.py:1416: FutureWarning: The default value of `n_init` will change from 10 to 'auto' in 1.4. Set the value of `n_init` explicitly to suppress the warning\n",
      "  super()._check_params_vs_input(X, default_n_init=10)\n",
      "/Users/kerria/Library/Python/3.8/lib/python/site-packages/sklearn/cluster/_kmeans.py:1416: FutureWarning: The default value of `n_init` will change from 10 to 'auto' in 1.4. Set the value of `n_init` explicitly to suppress the warning\n",
      "  super()._check_params_vs_input(X, default_n_init=10)\n",
      "/Users/kerria/Library/Python/3.8/lib/python/site-packages/sklearn/cluster/_kmeans.py:1416: FutureWarning: The default value of `n_init` will change from 10 to 'auto' in 1.4. Set the value of `n_init` explicitly to suppress the warning\n",
      "  super()._check_params_vs_input(X, default_n_init=10)\n",
      "/Users/kerria/Library/Python/3.8/lib/python/site-packages/sklearn/cluster/_kmeans.py:1416: FutureWarning: The default value of `n_init` will change from 10 to 'auto' in 1.4. Set the value of `n_init` explicitly to suppress the warning\n",
      "  super()._check_params_vs_input(X, default_n_init=10)\n",
      "/Users/kerria/Library/Python/3.8/lib/python/site-packages/sklearn/cluster/_kmeans.py:1416: FutureWarning: The default value of `n_init` will change from 10 to 'auto' in 1.4. Set the value of `n_init` explicitly to suppress the warning\n",
      "  super()._check_params_vs_input(X, default_n_init=10)\n",
      "/Users/kerria/Library/Python/3.8/lib/python/site-packages/sklearn/cluster/_kmeans.py:1416: FutureWarning: The default value of `n_init` will change from 10 to 'auto' in 1.4. Set the value of `n_init` explicitly to suppress the warning\n",
      "  super()._check_params_vs_input(X, default_n_init=10)\n",
      "/Users/kerria/Library/Python/3.8/lib/python/site-packages/sklearn/cluster/_kmeans.py:1416: FutureWarning: The default value of `n_init` will change from 10 to 'auto' in 1.4. Set the value of `n_init` explicitly to suppress the warning\n",
      "  super()._check_params_vs_input(X, default_n_init=10)\n",
      "/Users/kerria/Library/Python/3.8/lib/python/site-packages/sklearn/cluster/_kmeans.py:1416: FutureWarning: The default value of `n_init` will change from 10 to 'auto' in 1.4. Set the value of `n_init` explicitly to suppress the warning\n",
      "  super()._check_params_vs_input(X, default_n_init=10)\n",
      "/Users/kerria/Library/Python/3.8/lib/python/site-packages/sklearn/cluster/_kmeans.py:1416: FutureWarning: The default value of `n_init` will change from 10 to 'auto' in 1.4. Set the value of `n_init` explicitly to suppress the warning\n",
      "  super()._check_params_vs_input(X, default_n_init=10)\n",
      "/Users/kerria/Library/Python/3.8/lib/python/site-packages/sklearn/cluster/_kmeans.py:1416: FutureWarning: The default value of `n_init` will change from 10 to 'auto' in 1.4. Set the value of `n_init` explicitly to suppress the warning\n",
      "  super()._check_params_vs_input(X, default_n_init=10)\n",
      "/Users/kerria/Library/Python/3.8/lib/python/site-packages/sklearn/cluster/_kmeans.py:1416: FutureWarning: The default value of `n_init` will change from 10 to 'auto' in 1.4. Set the value of `n_init` explicitly to suppress the warning\n",
      "  super()._check_params_vs_input(X, default_n_init=10)\n",
      "/Users/kerria/Library/Python/3.8/lib/python/site-packages/sklearn/cluster/_kmeans.py:1416: FutureWarning: The default value of `n_init` will change from 10 to 'auto' in 1.4. Set the value of `n_init` explicitly to suppress the warning\n",
      "  super()._check_params_vs_input(X, default_n_init=10)\n",
      "/Users/kerria/Library/Python/3.8/lib/python/site-packages/sklearn/cluster/_kmeans.py:1416: FutureWarning: The default value of `n_init` will change from 10 to 'auto' in 1.4. Set the value of `n_init` explicitly to suppress the warning\n",
      "  super()._check_params_vs_input(X, default_n_init=10)\n",
      "/Users/kerria/Library/Python/3.8/lib/python/site-packages/sklearn/cluster/_kmeans.py:1416: FutureWarning: The default value of `n_init` will change from 10 to 'auto' in 1.4. Set the value of `n_init` explicitly to suppress the warning\n",
      "  super()._check_params_vs_input(X, default_n_init=10)\n"
     ]
    },
    {
     "data": {
      "image/png": "[encoded data removed]",
      "text/plain": [
       "<Figure size 432x288 with 1 Axes>"
      ]
     },
     "metadata": {
      "needs_background": "light"
     },
     "output_type": "display_data"
    },
    {
     "data": {
      "image/png": "[encoded data removed]",
      "text/plain": [
       "<Figure size 432x288 with 1 Axes>"
      ]
     },
     "metadata": {
      "needs_background": "light"
     },
     "output_type": "display_data"
    }
   ],
   "source": [
    "\n",
    "wcss_list = []  # within-cluster sum of squares\n",
    "silhouette_scores_list = []\n",
    "\n",
    "# Calculate WCSS for each K\n",
    "upper_bound_k = 50\n",
    "for k in range(2, upper_bound_k):  # Choosing range from 1 to 50 for demonstration\n",
    "    # wcss\n",
    "    kmeans_experiment = KMeans(n_clusters=k, random_state=0)\n",
    "    kmeans_experiment.fit(embeddings_small)\n",
    "    wcss_list.append(kmeans_experiment.inertia_)\n",
    "\n",
    "    labels = kmeans_experiment.fit_predict(embeddings_small)\n",
    "    score = silhouette_score(embeddings_small, labels)\n",
    "    silhouette_scores_list.append(score)\n",
    "\n",
    "# Plot the WCSS values\n",
    "plt.plot(range(2, upper_bound_k), wcss_list, marker='o')\n",
    "plt.title('Elbow Method for Optimal K')\n",
    "plt.xlabel('Number of clusters (K)')\n",
    "plt.ylabel('WCSS')\n",
    "plt.show()\n",
    "\n",
    "# Plot silhouette scores to find optimal K\n",
    "plt.plot(range(2, upper_bound_k), silhouette_scores_list, marker='o')\n",
    "plt.title('Silhouette Score vs. Number of Clusters (K)')\n",
    "plt.xlabel('Number of clusters (K)')\n",
    "plt.ylabel('Silhouette Score')\n",
    "plt.show()"
   ]
  },
  {
   "cell_type": "markdown",
   "metadata": {},
   "source": [
    "Determine optimal k. Either maximize Silhouette Score or estimate elbow point of WCSS chart."
   ]
  },
  {
   "cell_type": "code",
   "execution_count": null,
   "metadata": {},
   "outputs": [
    {
     "name": "stdout",
     "output_type": "stream",
     "text": [
      "Chosen number of clusters: 2\n",
      "cluster_count_method: Silhouette Score\n",
      "Within-Cluster Sum of Squares: 15.582612991333008\n"
     ]
    },
    {
     "name": "stderr",
     "output_type": "stream",
     "text": [
      "/Users/kerria/Library/Python/3.8/lib/python/site-packages/sklearn/cluster/_kmeans.py:1416: FutureWarning: The default value of `n_init` will change from 10 to 'auto' in 1.4. Set the value of `n_init` explicitly to suppress the warning\n",
      "  super()._check_params_vs_input(X, default_n_init=10)\n"
     ]
    }
   ],
   "source": [
    "if cluster_count_method == \"Silhouette Score\":\n",
    "    max_index = np.argmax(silhouette_scores_list)\n",
    "    num_clusters = max_index + 2 # index 0 corresponds to 2 clusters\n",
    "elif cluster_count_method == \"WCSS Elbow\":\n",
    "    # elbow point occurs when the difference of slopes of a point to its two neighbors is maximized\n",
    "    neighbor_range = 3 # how many counts out to determine slopes\n",
    "    neighbor_slope_difference = [abs(abs(wcss_list[i]-wcss_list[i+neighbor_range]) - abs(wcss_list[i-neighbor_range]-wcss_list[i])) \n",
    "                                 for i in range(neighbor_range,len(wcss_list)-neighbor_range)]\n",
    "    max_index = np.argmax(silhouette_scores_list)\n",
    "    num_clusters = max_index + neighbor_range + 1# index 0 corresponds to neighbor_range + 1 clusters\n",
    "\n",
    "\n",
    "\n",
    "else: \n",
    "    if isinstance(cluster_count_method, int):\n",
    "        num_clusters = cluster_count_method\n",
    "    else:\n",
    "        print(\"ERROR: must choose valid cluster_count_method\")\n",
    "\n",
    "\n",
    "# Perform K-means clustering\n",
    "# num_clusters = 5  # Define the number of clusters you want\n",
    "print(f\"Chosen number of clusters: {num_clusters}\\ncluster_count_method: {cluster_count_method}\")\n",
    "kmeans = KMeans(n_clusters=num_clusters, random_state=42)\n",
    "df['cluster'] = kmeans.fit_predict(embeddings_small)\n",
    "\n",
    "# Print WCCS (within-cluster sum of squares) metric\n",
    "wcss = kmeans.inertia_\n",
    "print(\"Within-Cluster Sum of Squares:\", wcss)\n",
    "\n",
    "# NOTE: not sure what to do about this piece below (plotting to determine ideal num clusters)"
   ]
  },
  {
   "cell_type": "markdown",
   "metadata": {
    "id": "qbm667AsM6_r"
   },
   "source": [
    "## Find closest examples to cluster centroids\n",
    "\n",
    "Currently, we are using cosine similarity to find the data point closest to the cluster centroids as a proxy for explaining or representing that cluster. We can also explore other ways (e.g. using LLMs) to explain clusters."
   ]
  },
  {
   "cell_type": "code",
   "execution_count": 25,
   "metadata": {
    "colab": {
     "base_uri": "https://localhost:8080/"
    },
    "id": "OhEiFZGRzX06",
    "outputId": "bd361e67-17df-476e-b1ca-a36c035fed14"
   },
   "outputs": [
    {
     "name": "stdout",
     "output_type": "stream",
     "text": [
      "Centroid of cluster 0:\n",
      "-----\n",
      "The sound in this movie is a nightmare. That is the best I can say for this movie. Any chance of a good story is lost once this films starts. The premise of the film sounds good. A playboy who comes to terms with the people around him. The plot is predictable and very dull. The wet T-Shirt contest may be the worst scene I've ever watched and is almost worth watching in a Mystery Science type of deal. The sound is at times hard to hear and the main actor seems to not know how to speak clearly. His accent makes him very hard to understand. The only bright sport is the acting of Penelope Ann Miller. Her role is underdeveloped but she plays it well. In short, do not waste your time.\n",
      "-----\n",
      "\n",
      "\n",
      "Centroid of cluster 1:\n",
      "-----\n",
      "It must say something about the state of our nation that this programme is one of the most popular currently screened. <br /><br />The 'square' is peopled by such a miserable, untrustworthy, amoral, spiteful, unrelentingly dour group of characters as can be imagined. Everyone is stabbing someone in the back, everyone is attempting to commit adultery, everyone is trying to cheat someone. That, or they are being stabbed, cuckolded or swindled. Nobody is cheerful. Nobody laughs. Nobody has a blinding stroke of luck or a really nice day. It's hell, with cockney accents.<br /><br />I suspect this programme must be sponsored by The Samaritans. It's perfect viewing for the depressed. It doesn't cheer them up; what it does do is present a whole community of such terminally despondent sad-arses that viewers are moved to believe their lot really could be worse - they might be living in 'Albert Square'.<br /><br />Apart from the above; as a representation of London's east end, it is pure hokum. The programme-makers have evidently never been across town. The first thing you encounter on the Mile End Road is a colossal mosque. And this pretty-well defines the racial majority of the population. White British Londoners are a dispersed and rapidly diminishing minority. A large advertisement hoarding presently near the Bow Road flyover, and sponsored by Tower Hamlets Health Care boasts that 'Eight out of ten members of the community can now see their doctor more quickly'. Ten healthy, smiling faces beam down at the observer in confirmation. Eight of them are dark-skinned... <br /><br />What's more, I used to work with a bunch of Anglo-Saxon - dare I say 'pukka' - cockneys a few years ago. And I can tell you that a more obnoxiously racist experience I've never had. Each day was like an Oswald Moseley rally. They couldn't pass 5 minutes without denigrating some other race or nationality than their own, and in terms that were repulsive and obscene. 'Fackin' Pakis' and 'fackin' Maceroons' were the small change of conversation. In fact their entire (and extremely limited) stock of adjectives fixated upon sex-organs and their application. Alf Garnett was a paragon of liberal virtue in comparison.<br /><br />Any programme that purported to represent London's native east-end Caucasians in their true nature would be completely unfit for broadcast - even after the 9 o-clock watershed. Imagine a Ku Klux Klan script written by Quentin Tarantino and you'd be somewhere near the mark. But when they weren't being inveterate bigots they were at least extremely cheerful.<br /><br />I don't know how such a soap-opera came to be. This imaginary castaway island of white misery has absolutely no bearing upon real culture whatsoever. And if you're of a comparatively sanguine disposition, it will quickly reduce you to tears of grief. Comparatively ordinary actors pretending to be comparatively ordinary chronic-depressives with cockney accents - what's the point of that?<br /><br />Dull, dreary, unrelentingly disillusional, and ethnically preposterous. The most popular programme of an apparently diseased and dying nation.<br /><br />Avoid it like the plague.\n",
      "-----\n",
      "\n",
      "\n"
     ]
    }
   ],
   "source": [
    "# For each cluster centroid, print the closest data point\n",
    "corpus = list(df[text_col])\n",
    "centroid_embeddings = kmeans.cluster_centers_\n",
    "for i, centroid_vec in enumerate(centroid_embeddings):\n",
    "    similarity_scores = util.cos_sim(centroid_vec, embeddings_small)\n",
    "    closest_data_point = corpus[int(similarity_scores.argmax())]\n",
    "    print(f\"Centroid of cluster {i}:\\n-----\\n{closest_data_point}\\n-----\\n\\n\")"
   ]
  },
  {
   "cell_type": "code",
   "execution_count": 27,
   "metadata": {
    "colab": {
     "base_uri": "https://localhost:8080/"
    },
    "id": "gEyDHnjvUoa_",
    "outputId": "1a6097af-4d11-4309-c5b7-46792ea91cbd"
   },
   "outputs": [
    {
     "name": "stdout",
     "output_type": "stream",
     "text": [
      "\n",
      "\n",
      "\n",
      "Cluster 0:\n",
      "--\n",
      "Latter Days for me was a very moving film, it showed just how hard and disrespected the gay community really is. The film etherizes true passion and really explores the feelings of these two characters, the film holds a real depth of compassion for the gay community, as it really speaks out for the gay man/woman. Personally i think it's about high time that the homosexual community of all religions should no longer hold there head in shame, just for being there beautiful self. The film was very much of a eye opener for me as I could not believe how anti homosexual this world really is. Even at schools if a kid dislikes something they will refer to it as being \"gay\". I real hope that more film like this one are made, and that they are not just labelled as a \"Gay\" film but as a love story, as I believe that gay directors should stick up for themselves and tell their story through their eyes.\n",
      "--\n",
      "Irwin Allen's first venture into all star spectacle was one all star disaster. The Story of Mankind contains some of the most incredible casting decisions of all time. Virginia Mayo as the blond Cleopatra, Dennis Hopper chewing the scenery with Napoleon, Peter Lorre dining on the scenery for weeks as Nero, Marie Wilson as Marie Antoinette as a roadshow Marilyn Monroe, that's just some of them.<br /><br />The film also is known for being the last film which featured all three of the Marx Brothers though they all have different roles. Chico plays a monk who is Christopher Columbus's confidante, Groucho euchres the Indians out of Manhattan island as Peter Minuit, and most astonishing of all, Harpo Marx as Sir Isaac Newton who discovers gravity when an apple conks him on the bean. <br /><br />Holding all these portrayals together is a story where mankind itself is being judged. A super H Bomb is about to be discovered and let loose will do in the world's population. It's Judgement Day a coming.<br /><br />But mankind has its advocates and detractors. Speaking for the prosecution is Old Scratch who's been bringing the worst out in man for centuries in the form of Vincent Price. But man has his good side as well and who better than Ronald Colman to demonstrate man at his most civilized best. Colman and Price plead their case before The Judge played by Cedric Hardwicke. <br /><br />In those three individuals you have some of the finest speaking voices the English language ever knew. When the film is on them as they each bring out the exhibits for their case it's a pleasure to listen to. Then when the focus is on the individual stories, you want to scream in agony.<br /><br />What was Irwin Allen driving at, I'm still trying to figure it out. Was he deliberately camping it up with some of these casting decisions? If it was satire, it just doesn't get off the ground.<br /><br />This was Ronald Colman's farewell film and while it's hardly something I'd like to go out on, I can't think of any man who could have stated the case for civilization any better. <br /><br />So when you see The Story of Mankind, fast forward through some of the exhibits and treasure every moment the advocates are before the judge.\n",
      "--\n",
      "A new creative team emerged in 1950 when brilliant actor James Stewart teamed with the equally-brilliant director Anthony Mann to make a series of westerns that helped define that genre for the future. Until that time Stewart was mainly noted for an aw..aw..aw approach to family oriented comedies, dramas, and romances. Not that he wasn't already a multi-talented Hollywood star. One of his best screen performances ever and one of the best for anyone on celluloid was as Macaulay 'Mike' Connor, a sarcastic writer for a scandal rag in \"The Philadelphia Story.\" He had even done westerns before. His portrayal of gun shy yet expert shot Thomas Jefferson Destry Jr. in the comedy western \"Destry Rides Again\" helped make that film a classic. But to most movie goers he was the all-American boyscout type Mr. Smith or George Bailey. Seldom was there a dark side to any of the characters he played. <br /><br />Anthony Mann was associated with B flicks in the film noir mode. \"Raw Deal,\" \"Side Street,\" and \"T-Men\" caught the eye of James Stewart. So the two gifted men combined their resources to produce some of the greatest Hollywood westerns ever made. \"Winchester '73\" and \"The Man from Laramie\" were the best but the others were almost as effective. Mann became a successful director of A films as a result going on to direct what some critics believe to be the greatest western of them all Gary Cooper's \"Man of the West.\" Stewart became fabulously wealthy as a result of the partnership because he signed for part of the royalties in return for a fraction of the salary he was usually paid, a wise move indeed followed by many other actors from then on.<br /><br />Winchester '73 was also one of the first films, maybe the first, to tell a story from the standpoint of a traveling gun. Each owner is part of the tale being told and it all comes together in the exciting showdown at the end of the movie, which also holds a surprise for the viewer. Based on a story by Stuart Lake, the tale centers on revenge and the ownership of the Winchester '73. The year is 1876. Custer and his 7th cavalry have been annihilated by the Sioux and Cheyenne at Little Big Horn. The whites want revenge. The native Americans want their land and their way of life back. This conflict leads to a confrontation between native Americas led by Young Bull (young Rock Hudson showing his potential as an actor) and a small cavalry group pinned down in a canyon and joined by civilians Lin McAdam (Stewart), his partner and life-long pal High Spade ( the underrated actor Millard Mitchell), and a couple trying to find themselves, Steve Miller (Charles Drake) and Lola Manners (Shelley Winters), a soiled dove with a kind heart. Among the horse soldiers are newcomers Tony Curtis and James Best (late of the \"Dukes of Hazzard\"), whose part is cut short by a bullet.<br /><br />Wyatt Earp was in Dodge City in 1876. The movie has him as head marshal. The fine actor Will Geer (later of the Waltons) looks like an older Earp. In reality Wyatt was assistant Marshal in Dodge at the time just cutting his teeth on being a lawman. Lin McAdam wins the Winchester in a shooting contest, but has it taken from him not long afterward by outlaw Dutch Henry Brown (Stephen McNally) and his henchmen. McAdam and High Spade are after both Dutch Henry and the Winchester for the remainder of the movie. An even more sinister character emerges along the way, Waco Johnnie Dean, played as evil personified by Dan Duryea who threatens to steal the show from the other members of a stellar cast.<br /><br />The Winchester passes through several hands during the course of the film, each time the transfer is intense. One involves a gunrunner played to perfection by John McIntire. Other swaps are intermingled with the scenario above. All this plus the action keeps the viewer glued to the seat throughout the entire show.<br /><br />As noted above, the cast is first rate down to the smallest role. Look for other familiar faces in uncredited parts, including the future sheriff of \"Bonanza\" Ray Teal and B western reliable Panhandle Perkins (Guy Wilkerson).\n",
      "--\n",
      "I first saw \"Signs of Life\" on PBS as an American Playhouse presentation. It's a wonderfully written, ensemble production with terrific performances by Michael Lewis as Joey and Vincent D'Onofrio as his brother, Daryl. Arthur Kennedy, in one of his last roles, is also excellent as an aging shipbuilder whose family business is about to close. The rest of the cast which includes Beau Bridges, Kathy Bates and Mary-Louise Parker give remarkable clarity and substance to their characters.<br /><br />The direction is subtle and effective. I've watched this movie several times over the years and would very much recommend it. A beautiful piece of filmmaking.\n",
      "--\n",
      "Most of the comments so far have nailed this one right on the head. Viewers under \"a certain age\" and with IQ's of three digits should avoid \"Chance of a Lifetime\" like a George W.Bush appointee facing a Congressional grilling.<br /><br />The cast is composed largely of veterans who know their way around a well-written script. Is the premise wildly original? No, but the movie stands out like a lighthouse at midnight in the current and non-ending glut of movies/TV geared to the most-desirable audience demographic of teenagers and \"young adults\"<br /><br />In addition to Betty White and Leslie Neilsen in the leads, the cast also has ever-reliable veterans like Elaine Stritch and William Windom. The sharp dialog is effortlessly and effectively delivered by these pros.<br /><br />\"Chance of a Lifetime\" is definitely not a movie for the Will Ferrell/Adam Sandler/\"Saw\" slasher gore-fests, \"American Eye Dull,\" and ninety percent of the rest of the sludge ground out by Hollywood and TV.\n",
      "--\n",
      "\n",
      "\n",
      "\n",
      "Cluster 1:\n",
      "--\n",
      "I was dying to see this once I saw the ridiculous MEATBALLS poster and divined that it had to be the best satire ever. What a brilliant idea for a satire--the genre is rife. Unfortunately, the finished product (as I think all involved probably realize) is a catalogue of missed opportunities, not-quite-there performances and (thankfully!) a few extremely hilarious, inspired bits. Janeane Garafolo, who is very striking, looks really bad here, probably because she is uncomfortably struggling to make her flat role funny. David Hyde Pierce is just sad to watch, trying to hard to be funny and looking like a Castro nerd. Molly Shannon is so funny just SEEING her makes you laugh, but somehow her segment fails to snowball into something hysterical. Paul Rudd had great teen mannerisms and was sexy as hell, the other guys are also really funny (the nerdier ones). I think the problem is the director just doesn't move things along at the right pace. He starts out very deadpan, and that sets the monotone. But when he lets things get really outrageous (the drug sequence is the second funniest moment I've had all year in movies, the first also coming in a lame movie: Andrea Martin in ALL OVER THE GUY complaining about the movie IN & OUT), it's just plain funny. I wanted this movie to work so badly, but it just didn't. The clothes and styling for 1981 are 99.9% PERFECT, and the very few songs used are also perfect. This ends up as a medium-bad MAD TV episode, complete with frustratingly overlong sketches.\n",
      "--\n",
      "Based on its current IMDb rating as well as several plot summaries, I didn't expect much from 'Two Hands'. But how wrong I was. <br /><br />From start to finish, you're kept deeply engrossed in a genre which has been continuously unoriginal for quite a while. Even in terms of mise-en-scene and cinematography, the director excels and creates a film consisting of great imagination. If you're looking for a film which is not only entertaining, but also provocative, compelling, and genuinely extraordinary, then make this the next film you watch. <br /><br />I'm hoping Heath Ledger's tragic death will have lead to more people picking up this film. He was an incredible talent, and his performance in this is one not to be missed. Don't make the mistake of judging and discarding this amazing film before you've seen it.\n",
      "--\n",
      "Poor Whoopi Goldberg. Imagine her at a friend's dinner party, and she adds a comment to the in-depth political discussion going on. People just look at her and say, \"Oh what would YOU know, you were the star of 'Theodore Rex'\". How could anyone take her seriously after she lowered herself to be the star of this appalling piece of crap? Even little kids would be cringing in horror at this Thing. It reminded me of a particularly bad episode of 'Sigmund And The Sea Monsters'. Actually, come to think of it, 'Sigmund' was vastly superior to this.<br /><br />And however did it get made? By plying the producer with an illegal substance before telling him about it? Watch this hideous abomination at your own peril.\n",
      "--\n",
      "This movie is directed by Renny Harlin the finnish miracle. Stallone is Gabe Walker. Cat and Mouse on the mountains with ruthless terrorists. Renny Harlin knows how to direct actionmovie. Stallone needed this role to get back on track. Snowy mountain is very good place for action movie and who is better to direct movie where is snow, ice, cold and bad weather than finnish man. Action is good! Music in the film is spectacular. The bad guy is John Litghow, other stars Micheal Rooker ( The portrait of serialkiller), Janine Turner ( Strong Medicine). The is placed in beautiful place and it is very exciting movie. Overall good movie ****/*****<br /><br />Remember Extreme ääliöt: special collectors edition, with good extras. Comig soon in Finland straight to video.\n",
      "--\n",
      "My brother-in-law and his wife brought the movie over one night to watch on video. This should have given me the first clue that it would be horrible. It was. From the very first frame to the last this movie is terrible. It does not even quite register as a \"B\" movie. Maybe an N or a P. One of the worst 5 movies I've ever seen. From the rubber raptor-on-a-stick to the still-breathing corpses in the car to the beyond horrible closing lines, this movie isn't worth watching if you've received it for free.<br /><br />Skip this one altogether--unless you want to play Mystery Science Theatre with your friends, it will provide good ammunition.\n",
      "--\n"
     ]
    }
   ],
   "source": [
    "# Print a few data points from each cluster to also help with explainability\n",
    "for i in range(num_clusters):\n",
    "    print(f\"\\n\\n\\nCluster {i}:\")\n",
    "    samples = df[df['cluster'] == i][text_col].tolist()[:5]\n",
    "    for s in samples:\n",
    "        print(\"--\")\n",
    "        print(s)\n",
    "    print(\"--\")"
   ]
  }
 ],
 "metadata": {
  "colab": {
   "provenance": []
  },
  "kernelspec": {
   "display_name": "Python 3",
   "language": "python",
   "name": "python3"
  },
  "language_info": {
   "codemirror_mode": {
    "name": "ipython",
    "version": 3
   },
   "file_extension": ".py",
   "mimetype": "text/x-python",
   "name": "python",
   "nbconvert_exporter": "python",
   "pygments_lexer": "ipython3",
   "version": "3.8.9"
  }
 },
 "nbformat": 4,
 "nbformat_minor": 0
}
