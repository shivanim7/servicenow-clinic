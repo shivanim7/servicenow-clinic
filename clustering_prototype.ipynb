{
  "cells": [
    {
      "cell_type": "markdown",
      "metadata": {
        "id": "OQljMrW6zX0s"
      },
      "source": [
        "# Clustering Prototype - Initial Version\n",
        "## Sentence embedding, dimensionality reduction, feature selection, clustering, and explaining clusters.\n",
        "\n",
        "---\n",
        "\n",
        "This file will allow you to set variables to run clustering and explainability on a dataset. In the next cell, you will be able to:\n",
        "\n",
        "1.   Specify a dataset\n",
        "     - [IMDB Movie Reviews](https://www.kaggle.com/datasets/lakshmi25npathi/imdb-dataset-of-50k-movie-reviews) for sentiment analysis\n",
        "     - [Customer Support Ticket Dataset](https://www.kaggle.com/datasets/suraj520/customer-support-ticket-dataset)\n",
        "2.   Specify an embedding method\n",
        "     - Sentence-BERT ([paper](https://arxiv.org/abs/1908.10084), [documentation](https://www.sbert.net/))\n",
        "     - LLM2Vec ([paper](https://arxiv.org/abs/2404.05961), [GitHub](https://github.com/McGill-NLP/llm2vec))\n",
        "2.   Flag if you would like dimensionality reduction (PCA) to occur\n",
        "3.   Flag if you would like feature selection (decision trees) to occur\n",
        "\n",
        "Based on these options, the file will run K-means clustering and labeling on the dataset.\n",
        "\n",
        "Finally, it will prompt an LLM to explain the cluster groupings.\n",
        "\n",
        "---\n"
      ]
    },
    {
      "cell_type": "markdown",
      "metadata": {
        "id": "ATLd6Ei23DsK"
      },
      "source": [
        "## Set options for clustering\n",
        "\n",
        "For each of the sections in the following cell, uncomment the option you wish to use for each section and ensure the rest are commented out.\n",
        "\n",
        "For embedding methods, the options are:\n",
        "1. Sentence BERT\n",
        "2. LLM2Vec\n",
        "\n",
        "For dimensionality reduction, there is the option to enable or disable PCA.\n",
        "\n",
        "For feature selection, there is the option to enable or disable decision trees.\n",
        "\n",
        "For cluster count, there are options for the method of scoring (WCSS Elbow or SIlhouette Score), and the number of clusters."
      ]
    },
    {
      "cell_type": "code",
      "execution_count": 1,
      "metadata": {
        "id": "sAJedakN2ZXn"
      },
      "outputs": [],
      "source": [
        "# Dataset --------------------------------------------\n",
        "dataset = \"Synthetic_Customer_Data.csv\"\n",
        "text_col = \"Conversation\"\n",
        "# dataset = \"IMDB.csv\"\n",
        "# text_col = \"review\"\n",
        "# label_col = \"sentiment\"\n",
        "# dataset = \"helpdesk_customer_tickets.csv\"\n",
        "# text_col =\n",
        "# label_col =\n",
        "\n",
        "# Embedding method -----------------------------------\n",
        "method = \"s_bert\"\n",
        "# method = \"llm2vec\"\n",
        "\n",
        "# Dimensionality reduction (PCA) ---------------------\n",
        "pca = True\n",
        "# pca = False\n",
        "\n",
        "# Feature selection (decision trees)  ----------------\n",
        "# decision_trees = True\n",
        "decision_trees = False\n",
        "\n",
        "# Cluster count selection ----------------------------\n",
        "cluster_count_method = \"WCSS Elbow\"\n",
        "# cluster_count_method = \"Silhouette Score\"\n",
        "# cluster_count = 10"
      ]
    },
    {
      "cell_type": "markdown",
      "metadata": {
        "id": "KXSvOxxy4fGr"
      },
      "source": [
        "## Imports and Requirements"
      ]
    },
    {
      "cell_type": "markdown",
      "metadata": {
        "id": "vOB_dE6OzX0u"
      },
      "source": [
        "This notebook was ran on a newly created venv through conda in order to gather the necessary requiremets. The venv was running Python 3.11.10.\n",
        "\n",
        "The following packages were present:\n",
        "\n",
        "\n",
        "| Name                     | Version        | Build                | Channel      |\n",
        "|--------------------------|----------------|----------------------|--------------|\n",
        "| appnope                  | 0.1.4          | pyhd8ed1ab_0         | conda-forge  |\n",
        "| asttokens                | 2.4.1          | pyhd8ed1ab_0         | conda-forge  |\n",
        "| bzip2                    | 1.0.8          | h6c40b1e_6           |              |\n",
        "| ca-certificates          | 2024.9.24      | hecd8cb5_0           |              |\n",
        "| certifi                  | 2024.8.30      | pypi_0               | pypi         |\n",
        "| charset-normalizer       | 3.4.0          | pypi_0               | pypi         |\n",
        "| comm                     | 0.2.2          | pyhd8ed1ab_0         | conda-forge  |\n",
        "| contourpy                | 1.3.1          | pypi_0               | pypi         |\n",
        "| cycler                   | 0.12.1         | pypi_0               | pypi         |\n",
        "| debugpy                  | 1.8.8          | py311hc356e98_0      | conda-forge  |\n",
        "| decorator                | 5.1.1          | pyhd8ed1ab_0         | conda-forge  |\n",
        "| exceptiongroup           | 1.2.2          | pyhd8ed1ab_0         | conda-forge  |\n",
        "| executing                | 2.1.0          | pyhd8ed1ab_0         | conda-forge  |\n",
        "| filelock                 | 3.16.1         | pypi_0               | pypi         |\n",
        "| fonttools                | 4.55.0         | pypi_0               | pypi         |\n",
        "| fsspec                   | 2024.10.0      | pypi_0               | pypi         |\n",
        "| huggingface-hub          | 0.26.2         | pypi_0               | pypi         |\n",
        "| idna                     | 3.10           | pypi_0               | pypi         |\n",
        "| importlib-metadata       | 8.5.0          | pyha770c72f_0        | conda-forge  |\n",
        "| ipykernel                | 6.29.5         | pyh57ce528_0         | conda-forge  |\n",
        "| ipython                  | 8.29.0         | pyh707e725_0         | conda-forge  |\n",
        "| jedi                     | 0.19.2         | pyhff2d567_0         | conda-forge  |\n",
        "| jinja2                   | 3.1.4          | pypi_0               | pypi         |\n",
        "| joblib                   | 1.4.2          | pypi_0               | pypi         |\n",
        "| jupyter_client           | 8.6.3          | pyhd8ed1ab_0         | conda-forge  |\n",
        "| jupyter_core             | 5.7.2          | pyh31011fe_1         | conda-forge  |\n",
        "| kiwisolver               | 1.4.7          | pypi_0               | pypi         |\n",
        "| krb5                     | 1.21.3         | h37d8d59_0           | conda-forge  |\n",
        "| libcxx                   | 19.1.3         | hf95d169_0           | conda-forge  |\n",
        "| libedit                  | 3.1.20191231   | h0678c8f_2           | conda-forge  |\n",
        "| libffi                   | 3.4.4          | hecd8cb5_1           |              |\n",
        "| libsodium                | 1.0.20         | hfdf4475_0           | conda-forge  |\n",
        "| markupsafe               | 3.0.2          | pypi_0               | pypi         |\n",
        "| matplotlib               | 3.9.2          | pypi_0               | pypi         |\n",
        "| matplotlib-inline        | 0.1.7          | pyhd8ed1ab_0         | conda-forge  |\n",
        "| mpmath                   | 1.3.0          | pypi_0               | pypi         |\n",
        "| ncurses                  | 6.4            | hcec6c5f_0           |              |\n",
        "| nest-asyncio             | 1.6.0          | pyhd8ed1ab_0         | conda-forge  |\n",
        "| networkx                 | 3.4.2          | pypi_0               | pypi         |\n",
        "| numpy                    | 1.26.0         | pypi_0               | pypi         |\n",
        "| openssl                  | 3.4.0          | hd471939_0           | conda-forge  |\n",
        "| packaging                | 24.2           | pyhd8ed1ab_0         | conda-forge  |\n",
        "| pandas                   | 2.2.3          | pypi_0               | pypi         |\n",
        "| parso                    | 0.8.4          | pyhd8ed1ab_0         | conda-forge  |\n",
        "| pexpect                  | 4.9.0          | pyhd8ed1ab_0         | conda-forge  |\n",
        "| pickleshare              | 0.7.5          | py_1003              | conda-forge  |\n",
        "| pillow                   | 11.0.0         | pypi_0               | pypi         |\n",
        "| pip                      | 24.2           | py311hecd8cb5_0      |              |\n",
        "| platformdirs             | 4.3.6          | pyhd8ed1ab_0         | conda-forge  |\n",
        "| prompt-toolkit           | 3.0.48         | pyha770c72_0         | conda-forge  |\n",
        "| psutil                   | 6.1.0          | py311h1314207_0      | conda-forge  |\n",
        "| ptyprocess               | 0.7.0          | pyhd3deb0d_0         | conda-forge  |\n",
        "| pure_eval                | 0.2.3          | pyhd8ed1ab_0         | conda-forge  |\n",
        "| pygments                 | 2.18.0         | pyhd8ed1ab_0         | conda-forge  |\n",
        "| pyparsing                | 3.2.0          | pypi_0               | pypi         |\n",
        "| python                   | 3.11.10        | h4d6d9e5_0           |              |\n",
        "| python-dateutil          | 2.9.0          | pyhd8ed1ab_0         | conda-forge  |\n",
        "| python_abi               | 3.11           | 2_cp311              | conda-forge  |\n",
        "| pytz                     | 2024.2         | pypi_0               | pypi         |\n",
        "| pyyaml                   | 6.0.2          | pypi_0               | pypi         |\n",
        "| pyzmq                    | 26.2.0         | py311h4d3da15_3      | conda-forge  |\n",
        "| readline                 | 8.2            | hca72f7f_0           |              |\n",
        "| regex                    | 2024.11.6      | pypi_0               | pypi         |\n",
        "| requests                 | 2.32.3         | pypi_0               | pypi         |\n",
        "| safetensors              | 0.4.5          | pypi_0               | pypi         |\n",
        "| scikit-learn             | 1.5.2          | pypi_0               | pypi         |\n",
        "| scipy                    | 1.14.1         | pypi_0               | pypi         |\n",
        "| sentence-transformers    | 3.3.0          | pypi_0               | pypi         |\n",
        "| setuptools               | 75.1.0         | py311hecd8cb5_0      |              |\n",
        "| six                      | 1.16.0         | pyh6c4a22f_0         | conda-forge  |\n",
        "| sqlite                   | 3.45.3         | h6c40b1e_0           |              |\n",
        "| stack_data               | 0.6.2          | pyhd8ed1ab_0         | conda-forge  |\n",
        "| sympy                    | 1.13.3         | pypi_0               | pypi         |\n",
        "| threadpoolctl            | 3.5.0          | pypi_0               | pypi         |\n",
        "| tk                       | 8.6.14         | h4d00af              |              |\n",
        "| tokenizers               | 0.20.3         | pypi_0               | pypi         |\n",
        "| torch                    | 2.2.2          | pypi_0               | pypi         |\n",
        "| tornado                  | 6.4.1          | py311h3336109_1      | conda-forge  |\n",
        "| tqdm                     | 4.67.0         | pypi_0               | pypi         |\n",
        "| traitlets                | 5.14.3         | pyhd8ed1ab_0         | conda-forge  |\n",
        "| transformers             | 4.46.2         | pypi_0               | pypi         |\n",
        "| typing_extensions        | 4.12.2         | pyha770c72_0         | conda-forge  |\n",
        "| tzdata                   | 2024.2         | pypi_0               | pypi         |\n",
        "| urllib3                  | 2.2.3          | pypi_0               | pypi         |\n",
        "| wcwidth                  | 0.2.13         | pyhd8ed1ab_0         | conda-forge  |\n",
        "| wheel                    | 0.44.0         | py311hecd8cb5_0      |              |\n",
        "| xz                       | 5.4.6          | h6c40b1e_1           |              |\n",
        "| zeromq                   | 4.3.5          | h7130eaa_7           | conda-forge  |\n",
        "| zipp                     | 3.21.0         | pyhd8ed1ab_0         | conda-forge  |\n",
        "| zlib                     | 1.2.13         | h4b97444_1           |              |\n",
        "\n",
        "\n",
        "\n",
        "---\n",
        "\n",
        "\n",
        "\n",
        "The necesary installs will be dependent on what is present in your environment, however, these installs will be necessary if you are running on a fresh environment:\n",
        "\n",
        "`!pip install transformers`\n",
        "\n",
        "`!pip install torch`\n",
        "\n",
        "`!pip install -U sentence-transformers`\n",
        "\n",
        "`!pip install matplotlib`\n",
        "\n",
        "`!pip install numpy==1.26`\n",
        "Note: Numpy versions above 2 cause issues with the notebook\n",
        "\n",
        "`!pip install pandas`\n",
        "\n",
        "`!pip install llm2vec`\n",
        "Note: This is only required if you intend on using LLM2Vec for embeddings."
      ]
    },
    {
      "cell_type": "code",
      "execution_count": 2,
      "metadata": {
        "id": "Jp7j_bG7zX0w",
        "colab": {
          "base_uri": "https://localhost:8080/"
        },
        "outputId": "2e9d9f20-b7e0-4993-fe93-7368d11df0d2"
      },
      "outputs": [
        {
          "output_type": "stream",
          "name": "stderr",
          "text": [
            "/usr/local/lib/python3.10/dist-packages/sentence_transformers/cross_encoder/CrossEncoder.py:13: TqdmExperimentalWarning: Using `tqdm.autonotebook.tqdm` in notebook mode. Use `tqdm.tqdm` instead to force console mode (e.g. in jupyter console)\n",
            "  from tqdm.autonotebook import tqdm, trange\n"
          ]
        },
        {
          "output_type": "stream",
          "name": "stdout",
          "text": [
            "SHELL=/bin/bash\n",
            "NV_LIBCUBLAS_VERSION=12.2.5.6-1\n",
            "NVIDIA_VISIBLE_DEVICES=all\n",
            "COLAB_JUPYTER_TRANSPORT=ipc\n",
            "NV_NVML_DEV_VERSION=12.2.140-1\n",
            "NV_CUDNN_PACKAGE_NAME=libcudnn8\n",
            "CGROUP_MEMORY_EVENTS=/sys/fs/cgroup/memory.events /var/colab/cgroup/jupyter-children/memory.events\n",
            "NV_LIBNCCL_DEV_PACKAGE=libnccl-dev=2.19.3-1+cuda12.2\n",
            "NV_LIBNCCL_DEV_PACKAGE_VERSION=2.19.3-1\n",
            "VM_GCE_METADATA_HOST=169.254.169.253\n",
            "HOSTNAME=0f8d4dfe029f\n",
            "LANGUAGE=en_US\n",
            "TBE_RUNTIME_ADDR=172.28.0.1:8011\n",
            "COLAB_TPU_1VM=\n",
            "GCE_METADATA_TIMEOUT=3\n",
            "NVIDIA_REQUIRE_CUDA=cuda>=12.2 brand=tesla,driver>=470,driver<471 brand=unknown,driver>=470,driver<471 brand=nvidia,driver>=470,driver<471 brand=nvidiartx,driver>=470,driver<471 brand=geforce,driver>=470,driver<471 brand=geforcertx,driver>=470,driver<471 brand=quadro,driver>=470,driver<471 brand=quadrortx,driver>=470,driver<471 brand=titan,driver>=470,driver<471 brand=titanrtx,driver>=470,driver<471 brand=tesla,driver>=525,driver<526 brand=unknown,driver>=525,driver<526 brand=nvidia,driver>=525,driver<526 brand=nvidiartx,driver>=525,driver<526 brand=geforce,driver>=525,driver<526 brand=geforcertx,driver>=525,driver<526 brand=quadro,driver>=525,driver<526 brand=quadrortx,driver>=525,driver<526 brand=titan,driver>=525,driver<526 brand=titanrtx,driver>=525,driver<526\n",
            "NV_LIBCUBLAS_DEV_PACKAGE=libcublas-dev-12-2=12.2.5.6-1\n",
            "NV_NVTX_VERSION=12.2.140-1\n",
            "TF_CPP_MIN_LOG_LEVEL=1\n",
            "COLAB_JUPYTER_IP=172.28.0.12\n",
            "NV_CUDA_CUDART_DEV_VERSION=12.2.140-1\n",
            "NV_LIBCUSPARSE_VERSION=12.1.2.141-1\n",
            "COLAB_LANGUAGE_SERVER_PROXY_ROOT_URL=http://172.28.0.1:8013/\n",
            "NV_LIBNPP_VERSION=12.2.1.4-1\n",
            "NCCL_VERSION=2.19.3-1\n",
            "KMP_LISTEN_PORT=6000\n",
            "TF_FORCE_GPU_ALLOW_GROWTH=true\n",
            "ENV=/root/.bashrc\n",
            "PWD=/content\n",
            "TBE_EPHEM_CREDS_ADDR=172.28.0.1:8009\n",
            "COLAB_LANGUAGE_SERVER_PROXY_REQUEST_TIMEOUT=30s\n",
            "TBE_CREDS_ADDR=172.28.0.1:8008\n",
            "NV_CUDNN_PACKAGE=libcudnn8=8.9.6.50-1+cuda12.2\n",
            "NVIDIA_DRIVER_CAPABILITIES=compute,utility\n",
            "COLAB_JUPYTER_TOKEN=\n",
            "LAST_FORCED_REBUILD=20241028\n",
            "NV_NVPROF_DEV_PACKAGE=cuda-nvprof-12-2=12.2.142-1\n",
            "NV_LIBNPP_PACKAGE=libnpp-12-2=12.2.1.4-1\n",
            "NV_LIBNCCL_DEV_PACKAGE_NAME=libnccl-dev\n",
            "TCLLIBPATH=/usr/share/tcltk/tcllib1.20\n",
            "NV_LIBCUBLAS_DEV_VERSION=12.2.5.6-1\n",
            "COLAB_KERNEL_MANAGER_PROXY_HOST=172.28.0.12\n",
            "NVIDIA_PRODUCT_NAME=CUDA\n",
            "NV_LIBCUBLAS_DEV_PACKAGE_NAME=libcublas-dev-12-2\n",
            "USE_AUTH_EPHEM=1\n",
            "NV_CUDA_CUDART_VERSION=12.2.140-1\n",
            "COLAB_WARMUP_DEFAULTS=1\n",
            "HOME=/root\n",
            "LANG=en_US.UTF-8\n",
            "COLUMNS=100\n",
            "CUDA_VERSION=12.2.2\n",
            "CLOUDSDK_CONFIG=/content/.config\n",
            "NV_LIBCUBLAS_PACKAGE=libcublas-12-2=12.2.5.6-1\n",
            "NV_CUDA_NSIGHT_COMPUTE_DEV_PACKAGE=cuda-nsight-compute-12-2=12.2.2-1\n",
            "COLAB_RELEASE_TAG=release-colab_20241118-060136_RC00\n",
            "PYDEVD_USE_FRAME_EVAL=NO\n",
            "KMP_TARGET_PORT=9000\n",
            "CLICOLOR=1\n",
            "KMP_EXTRA_ARGS=--logtostderr --listen_host=172.28.0.12 --target_host=172.28.0.12 --tunnel_background_save_url=https://colab.research.google.com/tun/m/cc48301118ce562b961b3c22d803539adc1e0c19/gpu-t4-s-2yed0j95i1iyj --tunnel_background_save_delay=10s --tunnel_periodic_background_save_frequency=30m0s --enable_output_coalescing=true --output_coalescing_required=true\n",
            "NV_LIBNPP_DEV_PACKAGE=libnpp-dev-12-2=12.2.1.4-1\n",
            "COLAB_LANGUAGE_SERVER_PROXY_LSP_DIRS=/datalab/web/pyright/typeshed-fallback/stdlib,/usr/local/lib/python3.10/dist-packages\n",
            "NV_LIBCUBLAS_PACKAGE_NAME=libcublas-12-2\n",
            "COLAB_KERNEL_MANAGER_PROXY_PORT=6000\n",
            "CLOUDSDK_PYTHON=python3\n",
            "TF_USE_LEGACY_KERAS=1\n",
            "NV_LIBNPP_DEV_VERSION=12.2.1.4-1\n",
            "ENABLE_DIRECTORYPREFETCHER=1\n",
            "NO_GCE_CHECK=False\n",
            "JPY_PARENT_PID=113\n",
            "KMP_DUPLICATE_LIB_OK=True\n",
            "KMP_INIT_AT_FORK=FALSE\n",
            "PYTHONPATH=/env/python\n",
            "TERM=xterm-color\n",
            "NV_LIBCUSPARSE_DEV_VERSION=12.1.2.141-1\n",
            "GIT_PAGER=cat\n",
            "LIBRARY_PATH=/usr/local/cuda/lib64/stubs\n",
            "NV_CUDNN_VERSION=8.9.6.50\n",
            "TPU_ML_PLATFORM=Tensorflow\n",
            "SHLVL=0\n",
            "PAGER=cat\n",
            "COLAB_LANGUAGE_SERVER_PROXY=/usr/colab/bin/language_service\n",
            "NV_CUDA_LIB_VERSION=12.2.2-1\n",
            "NVARCH=x86_64\n",
            "TPU_ML_PLATFORM_VERSION=2.17.1\n",
            "NV_CUDNN_PACKAGE_DEV=libcudnn8-dev=8.9.6.50-1+cuda12.2\n",
            "NV_CUDA_COMPAT_PACKAGE=cuda-compat-12-2\n",
            "MPLBACKEND=module://ipykernel.pylab.backend_inline\n",
            "NV_LIBNCCL_PACKAGE=libnccl2=2.19.3-1+cuda12.2\n",
            "LD_LIBRARY_PATH=/usr/lib64-nvidia\n",
            "COLAB_GPU=1\n",
            "GCS_READ_CACHE_BLOCK_SIZE_MB=16\n",
            "NV_CUDA_NSIGHT_COMPUTE_VERSION=12.2.2-1\n",
            "NV_NVPROF_VERSION=12.2.142-1\n",
            "LC_ALL=en_US.UTF-8\n",
            "COLAB_FILE_HANDLER_ADDR=localhost:3453\n",
            "TF2_BEHAVIOR=1\n",
            "PATH=/opt/bin:/usr/local/nvidia/bin:/usr/local/cuda/bin:/usr/local/sbin:/usr/local/bin:/usr/sbin:/usr/bin:/sbin:/bin:/tools/node/bin:/tools/google-cloud-sdk/bin\n",
            "NV_LIBNCCL_PACKAGE_NAME=libnccl2\n",
            "COLAB_DEBUG_ADAPTER_MUX_PATH=/usr/local/bin/dap_multiplexer\n",
            "NV_LIBNCCL_PACKAGE_VERSION=2.19.3-1\n",
            "PYTHONWARNINGS=ignore:::pip._internal.cli.base_command\n",
            "DEBIAN_FRONTEND=noninteractive\n",
            "COLAB_BACKEND_VERSION=next\n",
            "OLDPWD=/\n",
            "_=/usr/bin/env\n",
            "PYTORCH_CUDA_ALLOC_CONF=expandable_segments:True\n"
          ]
        }
      ],
      "source": [
        "import matplotlib.pyplot as plt\n",
        "import numpy as np\n",
        "import pandas as pd\n",
        "from sentence_transformers import SentenceTransformer, util\n",
        "from sklearn.cluster import KMeans\n",
        "from sklearn.decomposition import PCA\n",
        "from sklearn.feature_selection import SelectFromModel\n",
        "from sklearn.metrics import accuracy_score\n",
        "from sklearn.metrics import silhouette_score\n",
        "from sklearn.model_selection import train_test_split\n",
        "from sklearn.preprocessing import StandardScaler\n",
        "from sklearn.tree import DecisionTreeClassifier\n",
        "\n",
        "!env PYTORCH_CUDA_ALLOC_CONF=expandable_segments:True # Allow torch to allocate memory more effectively"
      ]
    },
    {
      "cell_type": "markdown",
      "source": [
        "Note: There are some addition installs and imports that are only required if you intend on using LLM2Vec. The prerequisite to this is creating a HuggingFace account and [access token](https://huggingface.co/settings/tokens) (read-level token should suffice). In addition, you need to request gated repo access to the following:\n",
        "- [Mistral-7B-Instruct-v0.2](https://huggingface.co/mistralai/Mistral-7B-Instruct-v0.2)"
      ],
      "metadata": {
        "id": "6RE8IqATgahv"
      }
    },
    {
      "cell_type": "code",
      "source": [
        "if method == \"llm2vec\":\n",
        "  !pip install llm2vec -q\n",
        "  !huggingface-cli login\n",
        "\n",
        "  from llm2vec import LLM2Vec\n",
        "  import torch\n",
        "  from transformers import AutoTokenizer, AutoModel, AutoConfig\n",
        "  from peft import PeftModel"
      ],
      "metadata": {
        "id": "kMfFKOrNf6U0"
      },
      "execution_count": 3,
      "outputs": []
    },
    {
      "cell_type": "code",
      "source": [
        "# Uncomment if running from Colab\n",
        "from google.colab import files\n",
        "uploaded = files.upload() # Choose the desired dataset to upload"
      ],
      "metadata": {
        "colab": {
          "base_uri": "https://localhost:8080/",
          "height": 74
        },
        "id": "ABlyPw1AbC4R",
        "outputId": "8e0e9654-7657-4b27-d7b7-d118b0c46224"
      },
      "execution_count": 4,
      "outputs": [
        {
          "output_type": "display_data",
          "data": {
            "text/plain": [
              "<IPython.core.display.HTML object>"
            ],
            "text/html": [
              "\n",
              "     <input type=\"file\" id=\"files-f0750890-c42d-4f03-a318-15dc964daef0\" name=\"files[]\" multiple disabled\n",
              "        style=\"border:none\" />\n",
              "     <output id=\"result-f0750890-c42d-4f03-a318-15dc964daef0\">\n",
              "      Upload widget is only available when the cell has been executed in the\n",
              "      current browser session. Please rerun this cell to enable.\n",
              "      </output>\n",
              "      <script>// Copyright 2017 Google LLC\n",
              "//\n",
              "// Licensed under the Apache License, Version 2.0 (the \"License\");\n",
              "// you may not use this file except in compliance with the License.\n",
              "// You may obtain a copy of the License at\n",
              "//\n",
              "//      http://www.apache.org/licenses/LICENSE-2.0\n",
              "//\n",
              "// Unless required by applicable law or agreed to in writing, software\n",
              "// distributed under the License is distributed on an \"AS IS\" BASIS,\n",
              "// WITHOUT WARRANTIES OR CONDITIONS OF ANY KIND, either express or implied.\n",
              "// See the License for the specific language governing permissions and\n",
              "// limitations under the License.\n",
              "\n",
              "/**\n",
              " * @fileoverview Helpers for google.colab Python module.\n",
              " */\n",
              "(function(scope) {\n",
              "function span(text, styleAttributes = {}) {\n",
              "  const element = document.createElement('span');\n",
              "  element.textContent = text;\n",
              "  for (const key of Object.keys(styleAttributes)) {\n",
              "    element.style[key] = styleAttributes[key];\n",
              "  }\n",
              "  return element;\n",
              "}\n",
              "\n",
              "// Max number of bytes which will be uploaded at a time.\n",
              "const MAX_PAYLOAD_SIZE = 100 * 1024;\n",
              "\n",
              "function _uploadFiles(inputId, outputId) {\n",
              "  const steps = uploadFilesStep(inputId, outputId);\n",
              "  const outputElement = document.getElementById(outputId);\n",
              "  // Cache steps on the outputElement to make it available for the next call\n",
              "  // to uploadFilesContinue from Python.\n",
              "  outputElement.steps = steps;\n",
              "\n",
              "  return _uploadFilesContinue(outputId);\n",
              "}\n",
              "\n",
              "// This is roughly an async generator (not supported in the browser yet),\n",
              "// where there are multiple asynchronous steps and the Python side is going\n",
              "// to poll for completion of each step.\n",
              "// This uses a Promise to block the python side on completion of each step,\n",
              "// then passes the result of the previous step as the input to the next step.\n",
              "function _uploadFilesContinue(outputId) {\n",
              "  const outputElement = document.getElementById(outputId);\n",
              "  const steps = outputElement.steps;\n",
              "\n",
              "  const next = steps.next(outputElement.lastPromiseValue);\n",
              "  return Promise.resolve(next.value.promise).then((value) => {\n",
              "    // Cache the last promise value to make it available to the next\n",
              "    // step of the generator.\n",
              "    outputElement.lastPromiseValue = value;\n",
              "    return next.value.response;\n",
              "  });\n",
              "}\n",
              "\n",
              "/**\n",
              " * Generator function which is called between each async step of the upload\n",
              " * process.\n",
              " * @param {string} inputId Element ID of the input file picker element.\n",
              " * @param {string} outputId Element ID of the output display.\n",
              " * @return {!Iterable<!Object>} Iterable of next steps.\n",
              " */\n",
              "function* uploadFilesStep(inputId, outputId) {\n",
              "  const inputElement = document.getElementById(inputId);\n",
              "  inputElement.disabled = false;\n",
              "\n",
              "  const outputElement = document.getElementById(outputId);\n",
              "  outputElement.innerHTML = '';\n",
              "\n",
              "  const pickedPromise = new Promise((resolve) => {\n",
              "    inputElement.addEventListener('change', (e) => {\n",
              "      resolve(e.target.files);\n",
              "    });\n",
              "  });\n",
              "\n",
              "  const cancel = document.createElement('button');\n",
              "  inputElement.parentElement.appendChild(cancel);\n",
              "  cancel.textContent = 'Cancel upload';\n",
              "  const cancelPromise = new Promise((resolve) => {\n",
              "    cancel.onclick = () => {\n",
              "      resolve(null);\n",
              "    };\n",
              "  });\n",
              "\n",
              "  // Wait for the user to pick the files.\n",
              "  const files = yield {\n",
              "    promise: Promise.race([pickedPromise, cancelPromise]),\n",
              "    response: {\n",
              "      action: 'starting',\n",
              "    }\n",
              "  };\n",
              "\n",
              "  cancel.remove();\n",
              "\n",
              "  // Disable the input element since further picks are not allowed.\n",
              "  inputElement.disabled = true;\n",
              "\n",
              "  if (!files) {\n",
              "    return {\n",
              "      response: {\n",
              "        action: 'complete',\n",
              "      }\n",
              "    };\n",
              "  }\n",
              "\n",
              "  for (const file of files) {\n",
              "    const li = document.createElement('li');\n",
              "    li.append(span(file.name, {fontWeight: 'bold'}));\n",
              "    li.append(span(\n",
              "        `(${file.type || 'n/a'}) - ${file.size} bytes, ` +\n",
              "        `last modified: ${\n",
              "            file.lastModifiedDate ? file.lastModifiedDate.toLocaleDateString() :\n",
              "                                    'n/a'} - `));\n",
              "    const percent = span('0% done');\n",
              "    li.appendChild(percent);\n",
              "\n",
              "    outputElement.appendChild(li);\n",
              "\n",
              "    const fileDataPromise = new Promise((resolve) => {\n",
              "      const reader = new FileReader();\n",
              "      reader.onload = (e) => {\n",
              "        resolve(e.target.result);\n",
              "      };\n",
              "      reader.readAsArrayBuffer(file);\n",
              "    });\n",
              "    // Wait for the data to be ready.\n",
              "    let fileData = yield {\n",
              "      promise: fileDataPromise,\n",
              "      response: {\n",
              "        action: 'continue',\n",
              "      }\n",
              "    };\n",
              "\n",
              "    // Use a chunked sending to avoid message size limits. See b/62115660.\n",
              "    let position = 0;\n",
              "    do {\n",
              "      const length = Math.min(fileData.byteLength - position, MAX_PAYLOAD_SIZE);\n",
              "      const chunk = new Uint8Array(fileData, position, length);\n",
              "      position += length;\n",
              "\n",
              "      const base64 = btoa(String.fromCharCode.apply(null, chunk));\n",
              "      yield {\n",
              "        response: {\n",
              "          action: 'append',\n",
              "          file: file.name,\n",
              "          data: base64,\n",
              "        },\n",
              "      };\n",
              "\n",
              "      let percentDone = fileData.byteLength === 0 ?\n",
              "          100 :\n",
              "          Math.round((position / fileData.byteLength) * 100);\n",
              "      percent.textContent = `${percentDone}% done`;\n",
              "\n",
              "    } while (position < fileData.byteLength);\n",
              "  }\n",
              "\n",
              "  // All done.\n",
              "  yield {\n",
              "    response: {\n",
              "      action: 'complete',\n",
              "    }\n",
              "  };\n",
              "}\n",
              "\n",
              "scope.google = scope.google || {};\n",
              "scope.google.colab = scope.google.colab || {};\n",
              "scope.google.colab._files = {\n",
              "  _uploadFiles,\n",
              "  _uploadFilesContinue,\n",
              "};\n",
              "})(self);\n",
              "</script> "
            ]
          },
          "metadata": {}
        },
        {
          "output_type": "stream",
          "name": "stdout",
          "text": [
            "Saving Synthetic_Customer_Data.csv to Synthetic_Customer_Data (2).csv\n"
          ]
        }
      ]
    },
    {
      "cell_type": "code",
      "execution_count": 5,
      "metadata": {
        "id": "eKhn6hNN4nsj"
      },
      "outputs": [],
      "source": [
        "# Read dataset --------------------------------------------------------------\n",
        "df = pd.read_csv(dataset)\n",
        "df = df.sample(frac=0.05)\n",
        "text = df[text_col]"
      ]
    },
    {
      "cell_type": "code",
      "source": [
        "# Calculate embeddings ------------------------------------------------------\n",
        "# Note: this is a time-consuming step (~7 min)\n",
        "if method == \"s_bert\":\n",
        "  embedding_model = SentenceTransformer(\"all-MiniLM-L6-v2\")\n",
        "  embeddings = embedding_model.encode(text.tolist(), convert_to_tensor=False)\n",
        "elif method == \"llm2vec\":\n",
        "  # Following code adapted from https://huggingface.co/McGill-NLP/LLM2Vec-Mistral-7B-Instruct-v2-mntp-supervised\n",
        "  tokenizer = AutoTokenizer.from_pretrained(\n",
        "      \"McGill-NLP/LLM2Vec-Mistral-7B-Instruct-v2-mntp\"\n",
        "  )\n",
        "  config = AutoConfig.from_pretrained(\n",
        "      \"McGill-NLP/LLM2Vec-Mistral-7B-Instruct-v2-mntp\", trust_remote_code=True\n",
        "  )\n",
        "  model = AutoModel.from_pretrained(\n",
        "      \"McGill-NLP/LLM2Vec-Mistral-7B-Instruct-v2-mntp\",\n",
        "      trust_remote_code=True,\n",
        "      config=config,\n",
        "      torch_dtype=torch.bfloat16,\n",
        "      device_map=\"cuda\" if torch.cuda.is_available() else \"cpu\",\n",
        "  )\n",
        "  model = PeftModel.from_pretrained(\n",
        "      model,\n",
        "      \"McGill-NLP/LLM2Vec-Mistral-7B-Instruct-v2-mntp\",\n",
        "  )\n",
        "  model = model.merge_and_unload()  # This can take several minutes on CPU\n",
        "\n",
        "  # Loading supervised model. This loads the trained LoRA weights on top of MNTP model. Hence the final weights are -- Base model + MNTP (LoRA) + supervised (LoRA).\n",
        "  model = PeftModel.from_pretrained(\n",
        "      model, \"McGill-NLP/LLM2Vec-Mistral-7B-Instruct-v2-mntp-supervised\"\n",
        "  )\n",
        "\n",
        "  # Wrapper for encoding and pooling operations\n",
        "  l2v = LLM2Vec(model, tokenizer, pooling_mode=\"mean\", max_length=512)\n",
        "\n",
        "  embeddings = l2v.encode(text.tolist())"
      ],
      "metadata": {
        "colab": {
          "base_uri": "https://localhost:8080/"
        },
        "id": "sx3lshCYbv3N",
        "outputId": "2f813d59-631f-4d4a-8927-dd2cbaf47523"
      },
      "execution_count": 6,
      "outputs": [
        {
          "output_type": "stream",
          "name": "stderr",
          "text": [
            "/usr/local/lib/python3.10/dist-packages/huggingface_hub/utils/_auth.py:94: UserWarning: \n",
            "The secret `HF_TOKEN` does not exist in your Colab secrets.\n",
            "To authenticate with the Hugging Face Hub, create a token in your settings tab (https://huggingface.co/settings/tokens), set it as secret in your Google Colab and restart your session.\n",
            "You will be able to reuse this secret in all of your notebooks.\n",
            "Please note that authentication is recommended but still optional to access public models or datasets.\n",
            "  warnings.warn(\n"
          ]
        }
      ]
    },
    {
      "cell_type": "code",
      "execution_count": 7,
      "metadata": {
        "id": "Wm-yNKJKEO3_"
      },
      "outputs": [],
      "source": [
        "# Dimensionality Reduction (PCA) --------------------------------------------\n",
        "if pca:\n",
        "  pca_model = PCA(n_components=2)\n",
        "  embeddings = pca_model.fit_transform(embeddings)"
      ]
    },
    {
      "cell_type": "markdown",
      "metadata": {
        "id": "vlbm-B23IqrV"
      },
      "source": [
        "## Incorporate feature selection using decision trees\n",
        "\n",
        "\"Shrink\" or drop the non-important features with respect to the output class, and \"expand\" the features that are more important to determining the output class."
      ]
    },
    {
      "cell_type": "code",
      "execution_count": 8,
      "metadata": {
        "id": "gnU_M7U9GxWC"
      },
      "outputs": [],
      "source": [
        "# Feature Selection (Decision Trees) ----------------------------------------\n",
        "if decision_trees:\n",
        "  X_train, X_test, y_train, y_test = train_test_split(embeddings, df[label_col], random_state = 8, test_size = 0.3)\n",
        "\n",
        "  # Fit the decision tree model\n",
        "  decision_tree_model = DecisionTreeClassifier()\n",
        "  decision_tree_model.fit(X_train, y_train)\n",
        "\n",
        "  # Access feature importances\n",
        "  feature_importances = decision_tree_model.feature_importances_\n",
        "\n",
        "  # Delete low-importance features\n",
        "  low_importance_indices = np.where(feature_importances < 0.025)[0] # random sampling prob. -- 1/384 = 0.0026\n",
        "  embeddings_small = np.delete(embeddings, low_importance_indices, axis=1)\n",
        "  X_train_reduced = np.delete(X_train, low_importance_indices, axis=1)\n",
        "  X_test_reduced = np.delete(X_test, low_importance_indices, axis=1)\n",
        "  print(f\"Embeddings went from size {len(X_train[0])} to {len(X_train_reduced[0])}\")\n",
        "else:\n",
        "  embeddings_small = embeddings # because regardless of whether feature selection is performed the next section uses embeddings_small"
      ]
    },
    {
      "cell_type": "markdown",
      "metadata": {
        "id": "8Xih5Bg6JZ6e"
      },
      "source": [
        "## K-means clustering"
      ]
    },
    {
      "cell_type": "markdown",
      "metadata": {
        "id": "qOy6eAZGa-Hg"
      },
      "source": [
        "First determine optimal number of clusters through either WCSS elbow point selection or silhouette score maximization."
      ]
    },
    {
      "cell_type": "code",
      "execution_count": 9,
      "metadata": {
        "colab": {
          "base_uri": "https://localhost:8080/",
          "height": 927
        },
        "id": "ZfPRMn_4Jc3F",
        "outputId": "82f32482-9009-4fa6-af8a-956cc58c3247"
      },
      "outputs": [
        {
          "output_type": "display_data",
          "data": {
            "text/plain": [
              "<Figure size 640x480 with 1 Axes>"
            ],
            "image/png": "[encoded data removed]"
          },
          "metadata": {}
        },
        {
          "output_type": "display_data",
          "data": {
            "text/plain": [
              "<Figure size 640x480 with 1 Axes>"
            ],
            "image/png": "[encoded data removed]"
          },
          "metadata": {}
        }
      ],
      "source": [
        "wcss_list = []  # within-cluster sum of squares\n",
        "silhouette_scores_list = []\n",
        "\n",
        "# Calculate WCSS for each K\n",
        "upper_bound_k = 50\n",
        "for k in range(2, min(upper_bound_k, embeddings_small.shape[0])):  # Choosing range from 1 to 50 for demonstration\n",
        "    # wcss\n",
        "    kmeans_experiment = KMeans(n_clusters=k, random_state=0)\n",
        "    kmeans_experiment.fit(embeddings_small)\n",
        "    wcss_list.append(kmeans_experiment.inertia_)\n",
        "\n",
        "    labels = kmeans_experiment.fit_predict(embeddings_small)\n",
        "    score = silhouette_score(embeddings_small, labels)\n",
        "    silhouette_scores_list.append(score)\n",
        "\n",
        "# Plot the WCSS values\n",
        "plt.plot(range(2, min(upper_bound_k, embeddings_small.shape[0])), wcss_list, marker='o')\n",
        "plt.title('Elbow Method for Optimal K')\n",
        "plt.xlabel('Number of clusters (K)')\n",
        "plt.ylabel('WCSS')\n",
        "plt.show()\n",
        "\n",
        "# Plot silhouette scores to find optimal K\n",
        "plt.plot(range(2, min(upper_bound_k, embeddings_small.shape[0])), silhouette_scores_list, marker='o')\n",
        "plt.title('Silhouette Score vs. Number of Clusters (K)')\n",
        "plt.xlabel('Number of clusters (K)')\n",
        "plt.ylabel('Silhouette Score')\n",
        "plt.show()"
      ]
    },
    {
      "cell_type": "markdown",
      "metadata": {
        "id": "tZWiync3a-Hg"
      },
      "source": [
        "Determine optimal k. Either maximize Silhouette Score or estimate elbow point of WCSS chart."
      ]
    },
    {
      "cell_type": "code",
      "execution_count": 10,
      "metadata": {
        "colab": {
          "base_uri": "https://localhost:8080/"
        },
        "id": "GuDYb2v9a-Hh",
        "outputId": "3b1a8b6f-780a-4c01-c07c-0b6bcbadf565"
      },
      "outputs": [
        {
          "output_type": "stream",
          "name": "stdout",
          "text": [
            "Chosen number of clusters: 7\n",
            "cluster_count_method: WCSS Elbow\n",
            "Within-Cluster Sum of Squares: 0.06249118968844414\n"
          ]
        }
      ],
      "source": [
        "if cluster_count_method == \"Silhouette Score\":\n",
        "    max_index = np.argmax(silhouette_scores_list)\n",
        "    num_clusters = max_index + 2 # index 0 corresponds to 2 clusters\n",
        "elif cluster_count_method == \"WCSS Elbow\":\n",
        "    # elbow point occurs when the difference of slopes of a point to its two neighbors is maximized\n",
        "    neighbor_range = 3 # how many counts out to determine slopes\n",
        "    neighbor_slope_difference = [abs(abs(wcss_list[i]-wcss_list[i+neighbor_range]) - abs(wcss_list[i-neighbor_range]-wcss_list[i]))\n",
        "                                 for i in range(neighbor_range,len(wcss_list)-neighbor_range)]\n",
        "    max_index = np.argmax(silhouette_scores_list)\n",
        "    num_clusters = max_index + neighbor_range + 1 # index 0 corresponds to neighbor_range + 1 clusters\n",
        "\n",
        "\n",
        "\n",
        "else:\n",
        "    if isinstance(cluster_count_method, int):\n",
        "        num_clusters = cluster_count_method\n",
        "    else:\n",
        "        print(\"ERROR: must choose valid cluster_count_method\")\n",
        "\n",
        "\n",
        "# Perform K-means clustering\n",
        "# num_clusters = 5  # Define the number of clusters you want\n",
        "print(f\"Chosen number of clusters: {num_clusters}\\ncluster_count_method: {cluster_count_method}\")\n",
        "kmeans = KMeans(n_clusters=num_clusters, random_state=42)\n",
        "df['cluster'] = kmeans.fit_predict(embeddings_small)\n",
        "\n",
        "# Print WCCS (within-cluster sum of squares) metric\n",
        "wcss = kmeans.inertia_\n",
        "print(\"Within-Cluster Sum of Squares:\", wcss)"
      ]
    },
    {
      "cell_type": "markdown",
      "metadata": {
        "id": "qbm667AsM6_r"
      },
      "source": [
        "## Find closest examples to cluster centroids\n",
        "\n",
        "Currently, we are using cosine similarity to find the data point closest to the cluster centroids as a proxy for explaining or representing that cluster. We can also explore other ways (e.g. using LLMs) to explain clusters."
      ]
    },
    {
      "cell_type": "code",
      "execution_count": 11,
      "metadata": {
        "colab": {
          "base_uri": "https://localhost:8080/"
        },
        "id": "OhEiFZGRzX06",
        "outputId": "a3486114-d91c-4250-f733-156155b661ca"
      },
      "outputs": [
        {
          "output_type": "stream",
          "name": "stdout",
          "text": [
            "Centroid of cluster 0:\n",
            "-----\n",
            "bot: Hi Jonathan, Welcome to PureStream! How can I assist you today? ::: customer: Hey, my videos are buffering constantly even tho I have high-speed internet. It's super frustrating and I'm thinking about canceling my subscription. ::: bot: I'm really sorry to hear about the buffering issues, Jonathan. Let's see if we can fix this. Can you please tell me if this is happening on all devices or just one? ::: customer: It's on all my devices. My laptop, TV, and phone. ::: bot: I understand. Can you try restarting your router and modem? This can sometimes help resolve buffering issues. ::: customer: I already did that. It didn't help. ::: bot: Thank you for letting me know. Can you also ensure that PureStream is the only application using the internet while you're streaming? Sometimes other apps can consume bandwidth. ::: customer: Yeah, I made sure nothing else is using the internet. ::: bot: Okay, let's try adjusting the video quality settings in the PureStream app. Can you set it to a lower resolution temporarily and see if that helps? ::: customer: I did that too, still buffering. ::: bot: I'm truly sorry for the trouble, Jonathan. Let's try one more thing. Please clear the cache and cookies on your PureStream app or browser. ::: customer: Cleared the cache, still no improvement. ::: bot: I apologize for the ongoing issues, Jonathan. I will escalate this to our technical team for a more in-depth analysis. They will get back to you within 24 hours. ::: customer: Fine, I'll wait for their response but I'm not happy with this. ::: bot: I'm sorry to hear that, Jonathan. We're doing everything we can to resolve this issue quickly. Thank you for your patience.\n",
            "-----\n",
            "\n",
            "\n",
            "Centroid of cluster 1:\n",
            "-----\n",
            "bot: Hi Emily, Welcome to GreenGrocer. How can I help you today? ::: customer: hi I got my grocries but some items are missing ::: bot: I'm sorry to hear that some items are missing from your delivery. Can you please provide your order number? ::: customer: sure its #534762 ::: bot: Thank you. Let me look into this for you. ::: customer: ok ::: bot: It appears that there was an issue with your order. I will need to transfer you to an agent to assist further. ::: agent: Hi Emily, I'm really sorry for the inconvenience. Can you please list the items that were missing from your order? ::: customer: yeah i didnt get my 2 oranges and a loaf of bread ::: agent: Thank you for that information. I will be issuing a refund for the missing items. Would you prefer a direct refund to your payment method or store credit? ::: customer: a refund to my card pls ::: agent: I have processed the refund to your card, and you should see it reflected within 3-5 business days. Is there anything else I can assist you with? ::: customer: no thats all ::: agent: Great! I'm sorry again for the inconvenience. Have a wonderful day! ::: customer: thanks, you too\n",
            "-----\n",
            "\n",
            "\n",
            "Centroid of cluster 2:\n",
            "-----\n",
            "bot: Hi Samantha, welcome to EcoEnergy Solutions. How can I assist you today? ::: customer: Hi, my recent bill is much higher than usual, even tho Ive used the same amount of energy. What's going on? ::: bot: I’m sorry to hear about the unexpected charge. Let me look into your billing statement. Can you please provide your account number? ::: customer: Sure, it's 12345678. ::: bot: Thank you. Please hold on for a moment while I retrieve the details. ::: bot: Thank you for waiting. I’ve reviewed your bill. The increased charge is due to a recent rate change that took effect last month. ::: customer: But I didn't get any notice about this rate change. ::: bot: I apologize for any inconvenience. The notice was sent via email and also included in last month’s bill statement. ::: customer: I must've missed that. Is there any way to lower this bill? ::: bot: Unfortunately, the new rates apply to all customers. However, I can assist you with setting up a payment plan if needed. ::: customer: This is really frustrating. I just want my bill to go back to what it was. ::: bot: I understand your frustration, Samantha. While we can’t change the rate, I can help review your energy usage for any possible savings on your next bill. Would you like that? ::: customer: Fine, but this doesn't really solve my problem now. ::: bot: I apologize for the inconvenience. I will note your feedback regarding the notification process. Is there anything else I can assist you with today? ::: customer: No, that's it. Thanks. ::: bot: Thank you for contacting EcoEnergy Solutions. Have a good day.\n",
            "-----\n",
            "\n",
            "\n",
            "Centroid of cluster 3:\n",
            "-----\n",
            "bot: Hi Alice, Welcome to UltraConnect. How can I assist you today? ::: customer: Hi, my internet speed is way slower than advertised. I've called customer service multiple times, and it's still not fixed. ::: bot: I'm really sorry to hear that, Alice. Let's get this sorted out for you right away. Can you please provide me with your account number or the phone number associated with your account? ::: customer: Sure, it's 123-456-7890. ::: bot: Thank you, Alice. I'm checking into your account details now. ::: customer: Okay. ::: bot: I've reviewed your account and can see the issue. I'll run a diagnostic check on your connection. This will only take a moment. ::: customer: Alright, please. ::: bot: The diagnostic check is complete. It appears there is an issue with your modem configuration. I will reset your modem from my end, which should take about 2 minutes. ::: customer: Thanks, I appreciate that. ::: bot: The modem reset is in progress. Please hold on. ::: customer: Okay, I'm waiting. ::: bot: The reset is complete. Please check your internet speed now and let me know if you notice any improvement. ::: customer: Wow, it's much faster now. Thanks a lot! ::: bot: I'm glad to hear that, Alice! Is there anything else I can help you with today? ::: customer: No, that's all. Thanks for the quick help. ::: bot: You're welcome! Have a great day, Alice!\n",
            "-----\n",
            "\n",
            "\n",
            "Centroid of cluster 4:\n",
            "-----\n",
            "bot: Hi Jessica, Welcome to FreshTech Appliances. How can I help you today? ::: customer: Hi, the refrigerator I bought a month ago has stopped cooling and the technician who visited could not fix the issue. ::: bot: I'm very sorry to hear that, Jessica. Let me assist you with this. Could you please provide me with your order number? ::: customer: Sure, it's #FT12345. ::: bot: Thank you. I see your order. For immediate assistance, I'd like to schedule a new technician visit for you. Does tomorrow at 10 AM work for you? ::: customer: Yes, tomorrow at 10 AM works. Thanks. ::: bot: Great! I've scheduled a technician to visit tomorrow at 10 AM. In the meantime, please ensure the refrigerator is plugged in and the power supply is stable. ::: customer: Will do. Is there anything else I should check? ::: bot: Please check if the temperature settings are correctly set. Sometimes, resetting them can help. ::: customer: Already checked that, still no cooling. ::: bot: I understand. The technician will perform a thorough check tomorrow. If the issue persists, we will look into a replacement unit for you. ::: customer: Thank you! Appreciate the quick help. ::: bot: You're welcome, Jessica! We’re here to help. Have a great day! ::: customer: You too!\n",
            "-----\n",
            "\n",
            "\n",
            "Centroid of cluster 5:\n",
            "-----\n",
            "bot: Hi Alex, welcome to BrightUtilities. How can I assist you today? ::: customer: Hey, my electricity bill is way too high this month and i haven't changed my usage. ::: bot: I understand your concern. Let me check into this for you. Can you provide your account number? ::: customer: Sure, it's 123456. ::: bot: Thank you, Alex. I'll need to escalate this to our support agent for further assistance. One moment, please. ::: agent: Hi Alex, this is Lisa. I see that you're experiencing an issue with a high electricity bill. Let's look into this. ::: customer: Yeah, it's super high and I don't get why. ::: agent: I apologize for any inconvenience. First, let's ensure there are no errors with the meter reading. Please provide the current meter reading from your electricity meter. ::: customer: Ok, it says 68532. ::: agent: Thank you. I can see that the meter reading is consistent with our records. I'll double-check for any unusual spikes in your usage. One moment, please. ::: customer: Fine, thx for looking into it. ::: agent: Alex, I’ve reviewed your usage and noticed a significant spike on three separate days. This could be due to a faulty appliance or a temporary increase in consumption. Have you noticed any appliances functioning abnormally? ::: customer: Hmm, I did notice my fridge was making strange noises last week. ::: agent: That could be the cause. I recommend getting the fridge checked by a technician. In the meantime, I'll apply a temporary credit to your account to offset the unexpected increase. ::: customer: Oh, that's helpful. Thanks! ::: agent: You’re welcome! Is there anything else I can assist you with today? ::: customer: No, that's all for now. Thanks again! ::: agent: Great, have a nice day, Alex!\n",
            "-----\n",
            "\n",
            "\n",
            "Centroid of cluster 6:\n",
            "-----\n",
            "bot: Hi Jessica, welcome to GreenGroceryDirect! How can I assist you today? ::: customer: Hi, the produce I got was damaged and past expiration! ::: bot: I'm really sorry to hear that. Could you please provide me with your order number? ::: customer: Sure, it's #GGD123456. ::: bot: Thank you. Let me check that for you. ::: bot: I see that your order was delivered yesterday. I apologize for the inconvenience. We can offer a replacement or a refund. Which would you prefer? ::: customer: A refund please. ::: bot: Alright, I've initiated a refund for your order #GGD123456. You should see the amount credited to your account within 5-7 business days. Is there anything else I can help you with? ::: customer: This process is so slow! Why does it take so long? ::: bot: I apologize for the inconvenience. Refund processing times are determined by your bank. We try to expedite this as much as possible. ::: customer: Well, guess I'll wait then. ::: bot: Again, I apologize for the trouble. Is there anything else I can assist you with today? ::: customer: No, that's all I guess. ::: bot: Thank you for reaching out to GreenGroceryDirect. Have a great day!\n",
            "-----\n",
            "\n",
            "\n"
          ]
        }
      ],
      "source": [
        "# For each cluster centroid, print the closest data point\n",
        "corpus = list(df[text_col])\n",
        "centroid_embeddings = kmeans.cluster_centers_\n",
        "for i, centroid_vec in enumerate(centroid_embeddings):\n",
        "    similarity_scores = util.cos_sim(centroid_vec, embeddings_small)\n",
        "    closest_data_point = corpus[int(similarity_scores.argmax())]\n",
        "    print(f\"Centroid of cluster {i}:\\n-----\\n{closest_data_point}\\n-----\\n\\n\")"
      ]
    },
    {
      "cell_type": "code",
      "execution_count": 12,
      "metadata": {
        "colab": {
          "base_uri": "https://localhost:8080/"
        },
        "id": "gEyDHnjvUoa_",
        "outputId": "ed47aa8d-fc4f-4eb0-ba44-658079f6f50d"
      },
      "outputs": [
        {
          "output_type": "stream",
          "name": "stdout",
          "text": [
            "\n",
            "\n",
            "\n",
            "Cluster 0:\n",
            "--\n",
            "bot: Hi Jane, Welcome to SnapStream support. How can I assist you today? ::: customer: hi I have a problem with frequent buffering and poor video quality even tho I have high-speed internet ::: bot: I'm sorry to hear about the buffering issues, Jane. Let me gather some details. Are you experiencing this issue with all videos or just specific content? ::: customer: it's with all videos not just specific ones ::: bot: Thank you for that information. I'll escalate this to our technical support team for further assistance. Please hold on for a moment. ::: agent: Hi Jane, I'm here to help. I understand you're facing buffering and video quality issues. Let's troubleshoot this together. Can you try restarting your streaming device and router, then check if the issue persists? ::: customer: ok I restarted both still having the same problem ::: agent: Thank you for trying that, Jane. Let's check your internet speed next. Please run a speed test on your device and let me know the download speed you are getting. ::: customer: I did the speed test I'm getting 100 Mbps download ::: agent: That's a good speed. It seems there might be another issue. Can you ensure your streaming device has the latest version of our app installed? ::: customer: yes the app is up to date ::: agent: Great. Let's try adjusting the streaming quality settings. Go to the settings menu in the SnapStream app and select a lower video quality. Let me know if this improves the playback. ::: customer: I did that and it seems to be working better now thanks ::: agent: I'm glad to hear that! If the issue reoccurs, please reach out to us immediately. Is there anything else I can assist you with today? ::: customer: no thats it thanks for the help ::: agent: You're welcome, Jane! Have a wonderful day.\n",
            "--\n",
            "bot: Hi Alex, Welcome to GreenStream support. How can I assist you today? ::: customer: Hi, my streaming quality keeps dropping to low res even thogh I have a high-speed internet. ::: bot: I'm sorry to hear that you're experiencing issues with the streaming quality. Let's try a few troubleshooting steps. Can you please confirm if you have tried restarting your router? ::: customer: yes, I restarted it a few times but the problem persists. ::: bot: Thank you for confirming. Next, could you please ensure that no other devices are consuming a large amount of bandwidth while you're streaming? ::: customer: I've already checked that. Nothing else is using significant bandwidth. ::: bot: Thanks for the info, Alex. I am escalating your issue to one of our agents for further assistance. ::: agent: Hi Alex, I'm here to help you with your streaming quality issue. Can you please go to the settings of the GreenStream app and check if the video quality is set to Auto or a specific resolution? ::: customer: It's on auto. ::: agent: Please try changing the video quality setting to the highest resolution available, and confirm if the issue persists. ::: customer: Ok, I set it to highest but the quality still drops after a few minutes. ::: agent: Thank you for trying that, Alex. Let's proceed with clearing the app cache. Go to your device settings, find the GreenStream app, and select the option to clear cache. ::: customer: I cleared the cache but still having the same problem. ::: agent: I apologize for the inconvenience. As a final step, please uninstall and reinstall the GreenStream app to ensure it's updated to the latest version. ::: customer: Alright, I reinstalled the app. It seems to be working fine now. ::: agent: I'm glad to hear that, Alex. Is there anything else I can help you with? ::: customer: No, that’s all. Thanks. ::: agent: You're welcome! Have a great day!\n",
            "--\n",
            "bot: Hi Lisa, Welcome to QuickStream support. How can I help you today? ::: customer: Hi. My streaming keeps buffering and sometimes even freezes especially during peak hours ::: bot: I'm sorry to hear that, Lisa. Let's see if we can fix this. Can you please confirm if you are using a wired or wireless connection? ::: customer: I'm using wireless ::: bot: Thanks for confirming. Sometimes wireless connections can be less stable. Could you try moving closer to your router or, if possible, connecting your device directly to the router with an Ethernet cable? ::: customer: I tried moving closer but it still freezes sometimes. I can't use an Ethernet cable :: bot: Understood. Can you please check if there are any other devices on the same network that might be using a lot of bandwidth? ::: customer: Yes, there are a few other devices. Should I turn them off? ::: bot: If possible, reducing the number of devices using the network might help. Also, streaming during peak hours when many users are online can cause slowdowns. ::: customer: Ok, I will try to limit other devices. ::: bot: Great. Additionally, I recommend restarting your router and modem. This can sometimes improve your connection. ::: customer: Ok, I'll try that too. Hold on ::: bot: Sure thing, take your time. Please let me know if the issue persists after restarting the router and modem. ::: customer: I've restarted them and it seems a bit better but still not perfect during peak times ::: bot: I'm glad to hear there's some improvement. To further enhance your experience, you can try lowering the video quality in your QuickStream settings. ::: customer: That's not really a solution though. I want to enjoy HD quality ::: bot: Completely understand. If the issue continues, it might be worth contacting your Internet Service Provider to see if they can offer a more stable connection during peak times. ::: customer: Ok, I'll check with them. Thanks for the help, I guess. ::: bot: You're welcome, Lisa. I'm sorry for the inconvenience and thank you for your understanding. If you have any other questions or need further assistance, we're here to help.\n",
            "--\n",
            "bot: Hi Jonathan, Welcome to PureStream! How can I assist you today? ::: customer: Hey, my videos are buffering constantly even tho I have high-speed internet. It's super frustrating and I'm thinking about canceling my subscription. ::: bot: I'm really sorry to hear about the buffering issues, Jonathan. Let's see if we can fix this. Can you please tell me if this is happening on all devices or just one? ::: customer: It's on all my devices. My laptop, TV, and phone. ::: bot: I understand. Can you try restarting your router and modem? This can sometimes help resolve buffering issues. ::: customer: I already did that. It didn't help. ::: bot: Thank you for letting me know. Can you also ensure that PureStream is the only application using the internet while you're streaming? Sometimes other apps can consume bandwidth. ::: customer: Yeah, I made sure nothing else is using the internet. ::: bot: Okay, let's try adjusting the video quality settings in the PureStream app. Can you set it to a lower resolution temporarily and see if that helps? ::: customer: I did that too, still buffering. ::: bot: I'm truly sorry for the trouble, Jonathan. Let's try one more thing. Please clear the cache and cookies on your PureStream app or browser. ::: customer: Cleared the cache, still no improvement. ::: bot: I apologize for the ongoing issues, Jonathan. I will escalate this to our technical team for a more in-depth analysis. They will get back to you within 24 hours. ::: customer: Fine, I'll wait for their response but I'm not happy with this. ::: bot: I'm sorry to hear that, Jonathan. We're doing everything we can to resolve this issue quickly. Thank you for your patience.\n",
            "--\n",
            "bot: Hi Michael, Welcome to LuminaStreaming support! How can I assist you today? ::: customer: Hey, my service keeps buffering and stopping even tho I have high-speed internet. ::: bot: I'm sorry to hear that, Michael. Let's try to fix this. Could you please tell me which device you are using to stream? ::: customer: I'm using a Smart TV. ::: bot: Thank you. Have you tried restarting your Smart TV and your internet router? Sometimes a restart can resolve buffering issues. ::: customer: Yeah, I've done that a couple of times already. ::: bot: Understood. Let's move on to the next step. Can you check if there are any firmware updates available for your Smart TV and update it if necessary? ::: customer: I checked that recently and it's up-to-date. ::: bot: Great! Can you please ensure that no other devices are using a large amount of your internet bandwidth while you're streaming? ::: customer: I already made sure of that. It's only the TV using internet when I stream. ::: bot: Thank you for confirming. Could you try lowering the streaming quality in your LuminaStreaming app settings and see if the buffering issue persists? ::: customer: Ok, I just switched it to a lower quality. ::: bot: Please try watching a video for a few moments and let me know if the buffering issue continues. ::: customer: It seems to be a bit better, but it still buffers sometimes. ::: bot: Thanks for letting me know. Another step we can take is clearing the cache of the LuminaStreaming app on your Smart TV. Would you be able to do that? ::: customer: How do I clear the cache? ::: bot: To clear the cache, go to the settings of your Smart TV, find the \"Applications\" or \"Apps\" section, select LuminaStreaming, and then choose the option to clear cache. ::: customer: Alright, I did that. ::: bot: Excellent. Please try streaming again and see if there is any improvement. ::: customer: It's still buffering occasionally, but not as bad as before. ::: bot: I'm glad to hear there's some improvement, though it's not completely fixed. If the problem persists, it could be helpful to check if there's any interference with your Wi-Fi signal. You might want to try a wired connection if possible. ::: customer: I'll try that later. Thanks for the help. ::: bot: You're welcome, Michael! I'm here if you need further assistance. Have a great day!\n",
            "--\n",
            "\n",
            "\n",
            "\n",
            "Cluster 1:\n",
            "--\n",
            "bot: Hi Jane, Welcome to FreshGrocer. How can I assist you today? ::: customer: Hi, i received expired products in my last delivery. I want a refund. ::: bot: I'm so sorry to hear that, Jane. Let me look into this for you. ::: customer: Thank you. ::: bot: Please hold for a moment while I check the details of your recent order. ::: customer: ok ::: bot: I see the order with expired products. Unfortunately, I'm unable to process refunds. I'll connect you to an agent who can help. ::: agent: Hi Jane, I'm here to assist you with the issue. I apologize for the inconvenience caused by the expired products. ::: customer: Thanks. I want a refund as soon as possible. ::: agent: Certainly. I will process the refund for the expired products. Can you please confirm the items that were expired and their quantity? ::: customer: Sure, 2 packs of milk and a bag of spinach. ::: agent: Got it. I have initiated the refund for 2 packs of milk and a bag of spinach. You should see the refund reflected in your account within 3-5 business days. ::: customer: ok thx ::: agent: Is there anything else I can assist you with? ::: customer: No, that's all. ::: agent: Thank you for your patience and understanding. Have a wonderful day, Jane! ::: customer: You too, bye!\n",
            "--\n",
            "bot: Hi Sarah, welcome to FreshGroove support. How can I assist you today? ::: customer: Hi, I got my delivery today but some items are missing ::: bot: I'm sorry to hear that. Can you please provide me with your order number to look into this? ::: customer: sure, its FG123456 ::: bot: Thank you. Let me check that for you... ::: customer: ok ::: bot: I see your order here. It appears there were some items left out. I apologize for this inconvenience. I will need to escalate this to an agent to resolve it for you. ::: bot: Please hold while I transfer you to an agent. ::: agent: Hi Sarah, thanks for waiting. I understand some items were missing from your order. Can you list the missing items for me? ::: customer: yes, I didn't get the apples and the milk ::: agent: Thank you for that information. I will process a replacement delivery for these items immediately. You should receive them by end of day tomorrow. ::: customer: okay, thank you. ::: agent: You're welcome. Is there anything else I can assist you with today? ::: customer: no, that's all.::: agent: Great, have a wonderful day! Thanks for shopping with FreshGroove.\n",
            "--\n",
            "bot: Hi Sarah, welcome to FreshNDeliver support. How can I assist you today? ::: customer: My grocery order was missing several items, and the delivery was two hours late. ::: bot: I'm sorry to hear about that, Sarah. Let me check your order details. Please hold for a moment. ::: customer: This is really frustrating. ::: bot: Thank you for your patience. I see the issues with your order. I will escalate this to an agent who can assist you further. ::: agent: Hi Sarah, I'm deeply sorry for the inconvenience. I will help you resolve this issue. Can you please confirm the missing items in your order? ::: customer: Sure, it was the bread, milk, and eggs. ::: agent: Thank you for confirming. I will arrange for these items to be delivered as soon as possible. You should receive them within the next 3 hours. ::: customer: 3 hours?? That's too long. ::: agent: I apologize for the delay, Sarah. We are expediting your delivery as much as we can. I will also ensure a discount is applied to your next order. ::: customer: Fine, just make sure it doesn't happen again. ::: agent: Absolutely, we will take measures to prevent this in the future. Is there anything else I can help you with? ::: customer: No, just get the items delivered. ::: agent: Understood. Thank you for your patience, Sarah. Have a good day.\n",
            "--\n",
            "bot: Hi Sarah, welcome to FreshFarms. How can I assist you today? ::: customer: Hi, my grocery delivery was missing some items, including perishables, really upset. ::: bot: I'm very sorry to hear that, Sarah. Could you please provide your order number so I can look into this for you? ::: customer: Sure, it's FF123456. ::: bot: Thank you, Sarah. I see that several items are missing from your order. I will initiate a redelivery for the missing items immediately, including the perishables. Does that work for you? ::: customer: Yes, plz. They are important for tonight's dinner. ::: bot: Absolutely, Sarah. We prioritize these cases. Your missing items will be redelivered within the next 2 hours. Is there anything else I can assist you with? ::: customer: No, that's all. Thanks a lot. ::: bot: You're welcome, Sarah. We apologize for any inconvenience caused and appreciate your understanding. Have a great day!\n",
            "--\n",
            "bot: Hello Emily, welcome to FreshGrocer's customer support. How can I assist you today? ::: customer: Hi i got the wrong items in my last delivery, what happened? ::: bot: I'm sorry to hear that, let me help you with it. Could you please provide me with your order number? ::: customer: Sure, it's FG12345678. ::: bot: Thank you, Emily. I will look up your order details. One moment, please. ::: bot: It appears that there was a mix-up with your order. I apologize for the inconvenience. I will need to transfer you to an agent who can help resolve this issue. ::: agent: Hi Emily, I'm here to help you. I see that there was an issue with your order FG12345678. Can you please tell me which items you received incorrectly? ::: customer: I got apples instead of oranges, and i didn't get the milk i ordered. ::: agent: Thank you for the information. I apologize for the inconvenience caused. I will arrange for the correct items to be sent to you as soon as possible. You should receive them within 24 hours. ::: customer: Thanks, and what about the wrong items i got? ::: agent: You can keep the apples as a gesture of goodwill for the inconvenience. ::: customer: Oh that's nice, thanks a lot! ::: agent: You're welcome, Emily. Is there anything else I can assist you with today? ::: customer: No, that's all. Thanks for the quick help. ::: agent: Happy to help! Have a great day!\n",
            "--\n",
            "\n",
            "\n",
            "\n",
            "Cluster 2:\n",
            "--\n",
            "bot: Hi Alex, welcome to EcoFlow Utilities. How can I assist you today? ::: customer: Hi, I think I was overcharged on my latest electric bill. I'm on a fixed-rate plan, so I don't understand why this happened. ::: bot: I apologize for the inconvenience, Alex. Let me check your account details and recent billing information. One moment, please. ::: customer: Ok, thanks. ::: bot: Thank you for waiting, Alex. I see there was an error in our system causing the overcharge. I will correct this and adjust your bill to reflect the fixed rate. ::: customer: That sounds good. How long will it take for the adjustment to show up? ::: bot: The adjustment should reflect on your account within the next 24 hours. You will receive a confirmation email once it is complete. ::: customer: Great, thanks for your help. ::: bot: You're welcome, Alex. I'm glad I could help resolve this for you. Is there anything else I can assist you with today? ::: customer: No, that's all. Thanks again! ::: bot: My pleasure! Have a great day, Alex. If you need further assistance in the future, feel free to reach out to us at EcoFlow Utilities.\n",
            "--\n",
            "bot: Hi Samantha, welcome to EcoEnergy Solutions. How can I assist you today? ::: customer: Hi, my recent bill is much higher than usual, even tho Ive used the same amount of energy. What's going on? ::: bot: I’m sorry to hear about the unexpected charge. Let me look into your billing statement. Can you please provide your account number? ::: customer: Sure, it's 12345678. ::: bot: Thank you. Please hold on for a moment while I retrieve the details. ::: bot: Thank you for waiting. I’ve reviewed your bill. The increased charge is due to a recent rate change that took effect last month. ::: customer: But I didn't get any notice about this rate change. ::: bot: I apologize for any inconvenience. The notice was sent via email and also included in last month’s bill statement. ::: customer: I must've missed that. Is there any way to lower this bill? ::: bot: Unfortunately, the new rates apply to all customers. However, I can assist you with setting up a payment plan if needed. ::: customer: This is really frustrating. I just want my bill to go back to what it was. ::: bot: I understand your frustration, Samantha. While we can’t change the rate, I can help review your energy usage for any possible savings on your next bill. Would you like that? ::: customer: Fine, but this doesn't really solve my problem now. ::: bot: I apologize for the inconvenience. I will note your feedback regarding the notification process. Is there anything else I can assist you with today? ::: customer: No, that's it. Thanks. ::: bot: Thank you for contacting EcoEnergy Solutions. Have a good day.\n",
            "--\n",
            "bot: Hi Jane, welcome to BrightUtilities! How can I assist you today? ::: customer: Hi, I was overcharged on my latest bill but I'm on a fixed-rate plan. ::: bot: I'm so sorry to hear that, Jane. Let me quickly take a look at your account. Can you please provide your account number? ::: customer: Sure, it's 123456789. ::: bot: Thank you. Please hold for a moment while I pull up your account information. ::: customer: Ok. ::: bot: I see that there was an error in the billing system that caused the overcharge. I apologize for the inconvenience. I will correct this right away and ensure you are billed at your fixed rate. ::: customer: Oh, that's a relief. ::: bot: I've adjusted your account, and you should see the corrected bill within the next 24 hours. Is there anything else I can help you with? ::: customer: No, that's all. Thanks. ::: bot: You're welcome, Jane. Thank you for your patience. Have a great day!\n",
            "--\n",
            "\n",
            "\n",
            "\n",
            "Cluster 3:\n",
            "--\n",
            "bot: Hi Alice, Welcome to UltraConnect. How can I assist you today? ::: customer: Hi, my internet speed is way slower than advertised. I've called customer service multiple times, and it's still not fixed. ::: bot: I'm really sorry to hear that, Alice. Let's get this sorted out for you right away. Can you please provide me with your account number or the phone number associated with your account? ::: customer: Sure, it's 123-456-7890. ::: bot: Thank you, Alice. I'm checking into your account details now. ::: customer: Okay. ::: bot: I've reviewed your account and can see the issue. I'll run a diagnostic check on your connection. This will only take a moment. ::: customer: Alright, please. ::: bot: The diagnostic check is complete. It appears there is an issue with your modem configuration. I will reset your modem from my end, which should take about 2 minutes. ::: customer: Thanks, I appreciate that. ::: bot: The modem reset is in progress. Please hold on. ::: customer: Okay, I'm waiting. ::: bot: The reset is complete. Please check your internet speed now and let me know if you notice any improvement. ::: customer: Wow, it's much faster now. Thanks a lot! ::: bot: I'm glad to hear that, Alice! Is there anything else I can help you with today? ::: customer: No, that's all. Thanks for the quick help. ::: bot: You're welcome! Have a great day, Alice!\n",
            "--\n",
            "bot: Hi Jane, Welcome to ClearView Security. How can I help you today? ::: customer: Hi. One of my cameras stoped working and nobody answered my previous messages. Its been days now. ::: bot: I apologize for the inconvenience, Jane. Let's see if we can resolve this for you. Have you tried restarting the camera? ::: customer: Yes, I have restarted it but it still doesn't work. ::: bot: Thank you for letting me know. Can you please check if the camera has a solid green light on the front? ::: customer: No, there's no light at all. ::: bot: It sounds like the camera might not be receiving power. Can you check the power connection and make sure the outlet is working? ::: customer: I've already checked that. It's plugged in and the outlet works fine. ::: bot: I'm sorry to hear that. Can you please disconnect and reconnect the power cable to ensure a secure connection? ::: customer: I've done that too, still no light. ::: bot: Understood, Jane. It might help to reset the camera to its default settings. There's a reset button at the back of the camera. Hold it down for 15 seconds and then release. ::: customer: Ok, I pressed the reset button, but nothing's happening. ::: bot: Thank you for trying that. It seems like there might be a hardware issue with the camera. I will escalate this to our technical team, and they will get back to you within 48 hours. ::: customer: 48 hours? Are you serious? I've already been waiting for days! ::: bot: I apologize for the delay, Jane. We are currently experiencing a high volume of requests. We appreciate your patience. ::: customer: This is really frustrating. I expected better service from ClearView. ::: bot: I completely understand your frustration. We are doing our best to resolve this as quickly as possible. Please bear with us. ::: customer: Fine, but this is really disappointing. I'll be waiting for your team's response. ::: bot: Thank you for your understanding, Jane. We will be in touch soon.\n",
            "--\n",
            "\n",
            "\n",
            "\n",
            "Cluster 4:\n",
            "--\n",
            "bot: Hi Jessica, Welcome to FreshTech Appliances. How can I help you today? ::: customer: Hi, the refrigerator I bought a month ago has stopped cooling and the technician who visited could not fix the issue. ::: bot: I'm very sorry to hear that, Jessica. Let me assist you with this. Could you please provide me with your order number? ::: customer: Sure, it's #FT12345. ::: bot: Thank you. I see your order. For immediate assistance, I'd like to schedule a new technician visit for you. Does tomorrow at 10 AM work for you? ::: customer: Yes, tomorrow at 10 AM works. Thanks. ::: bot: Great! I've scheduled a technician to visit tomorrow at 10 AM. In the meantime, please ensure the refrigerator is plugged in and the power supply is stable. ::: customer: Will do. Is there anything else I should check? ::: bot: Please check if the temperature settings are correctly set. Sometimes, resetting them can help. ::: customer: Already checked that, still no cooling. ::: bot: I understand. The technician will perform a thorough check tomorrow. If the issue persists, we will look into a replacement unit for you. ::: customer: Thank you! Appreciate the quick help. ::: bot: You're welcome, Jessica! We’re here to help. Have a great day! ::: customer: You too!\n",
            "--\n",
            "\n",
            "\n",
            "\n",
            "Cluster 5:\n",
            "--\n",
            "bot: Hi Alice, Welcome to EcoWave Energy support. How can I assist you today? ::: customer: Hi, I got a really high electricity bill, there's gotta be a mistake or the meter's broken. ::: bot: I'm sorry to hear about your high bill, Alice. Let’s look into it and see what might have gone wrong. Could you please provide your account number? ::: customer: Sure, it's 12345678. ::: bot: Thank you. Let me pull up your account details. ::: bot: I see that your last bill was quite higher than usual. Can you confirm if there were any significant changes in your household's electricity usage recently? ::: customer: No, everything’s the same as usual. No new appliances or anything. ::: bot: Thank you for confirming. I’ll now check for any irregularities in your meter readings. One moment please. ::: bot: Upon reviewing the data, I noticed that there’s a spike in the readings. This could indicate a potential meter malfunction. I’ll arrange for a technician to check your meter. ::: customer: That’s good to hear. But what about this bill? ::: bot: I understand your concern. Let’s proceed by putting a hold on the disputed amount while the technician investigates. You’ll only need to pay your normal average bill amount for now. ::: customer: That’s a relief, thank you. When will the technician come? ::: bot: The technician will be scheduled to come within the next 48 hours. You’ll receive a confirmation message with the exact time. ::: customer: Alright, thanks a lot for the help. ::: bot: You’re welcome, Alice. We’re here to help anytime. Have a great day!\n",
            "--\n",
            "bot: Hi Emily, Welcome to PowerVault Solutions. How can I assist you today? ::: customer: Hi, I got a really high electricity bill this month. Nothing's changed in my usage. Why is it so high? ::: bot: I'm sorry to hear that. Let me check your account details. One moment please. ::: bot: I see that your bill is indeed higher than usual. For further assistance, I will transfer you to an agent. ::: agent: Hi Emily, I'm here to help you with your high electricity bill. Could you please confirm if there were any new appliances or devices used this month? ::: customer: No, nothing new. Everything is the same as before. ::: agent: Thank you for confirming. Sometimes, external factors can cause spikes. Have you checked if there's a possibility of any malfunctioning appliances? ::: customer: I haven't checked. But still, this seems too high. ::: agent: Understood. We'll have to run a detailed meter check. Meanwhile, I recommend turning off all appliances and checking your meter to see if it's still running quickly. ::: customer: Okay, I can do that. How long will it take to get this sorted? ::: agent: If the meter is still running quickly, there might be a fault. I'll schedule a technician visit within the next 48 hours. Will that work for you? ::: customer: 48 hours seems long, but okay. Is there any other way to fix this faster? ::: agent: I apologize for the delay, Emily. Unfortunately, technician availability is limited. Rest assured, once the check is done, if there's a fault on our part, we'll adjust your bill accordingly. ::: customer: Fine. I hope this gets resolved soon. ::: agent: I understand your concern. Please monitor your meter and we'll be in touch soon. Is there anything else I can assist you with right now? ::: customer: No, that's it. Thanks. ::: agent: Thank you for your patience, Emily. Have a good day!\n",
            "\n",
            "\n",
            "--\n",
            "bot: Hi Emily, welcome to GreenPowerSolutions. How can I assist you today? ::: customer: Hi, I see some unexplained charges in my latest bill. Can you help me understand them? ::: bot: I'm sorry to hear that you're seeing unexplained charges. Could you please provide your account number so I can look into this for you? ::: customer: Sure, it's 123456789. ::: bot: Thank you, Emily. Let me pull up your account details. This will just take a moment. ::: customer: ok, thanks. ::: bot: I see that the extra charges are listed under \"Usage Charges.\" It looks like there was an increase in energy consumption this month. Could this be due to any new appliances or higher usage? ::: customer: No, we didn't add any new appliances. Everything has been same. ::: bot: I understand. Sometimes seasonal changes can cause fluctuations in energy consumption. Would you like me to provide a detailed breakdown of your usage? ::: customer: Yes, please. That would be helpful. ::: bot: I've generated the detailed breakdown. It shows higher usage during peak hours. Could you be running something extra during peak times? ::: customer: Not really. I don't think so. Is there any way to get a discount or adjust the bill? ::: bot: I'm sorry, Emily, but adjustments for usage usually cannot be applied. However, we can set up alerts to help you monitor your usage more closely next month. Would you like to do that? ::: customer: I guess that'll help. Thanks. ::: bot: You're welcome. I've set up the alerts for you. You'll be notified of high usage next month. Is there anything else I can assist you with? ::: customer: No, that's it. Thanks. ::: bot: Thank you for contacting GreenPowerSolutions. Have a great day!\n",
            "--\n",
            "bot: Hi Alex, welcome to BrightUtilities. How can I assist you today? ::: customer: Hey, my electricity bill is way too high this month and i haven't changed my usage. ::: bot: I understand your concern. Let me check into this for you. Can you provide your account number? ::: customer: Sure, it's 123456. ::: bot: Thank you, Alex. I'll need to escalate this to our support agent for further assistance. One moment, please. ::: agent: Hi Alex, this is Lisa. I see that you're experiencing an issue with a high electricity bill. Let's look into this. ::: customer: Yeah, it's super high and I don't get why. ::: agent: I apologize for any inconvenience. First, let's ensure there are no errors with the meter reading. Please provide the current meter reading from your electricity meter. ::: customer: Ok, it says 68532. ::: agent: Thank you. I can see that the meter reading is consistent with our records. I'll double-check for any unusual spikes in your usage. One moment, please. ::: customer: Fine, thx for looking into it. ::: agent: Alex, I’ve reviewed your usage and noticed a significant spike on three separate days. This could be due to a faulty appliance or a temporary increase in consumption. Have you noticed any appliances functioning abnormally? ::: customer: Hmm, I did notice my fridge was making strange noises last week. ::: agent: That could be the cause. I recommend getting the fridge checked by a technician. In the meantime, I'll apply a temporary credit to your account to offset the unexpected increase. ::: customer: Oh, that's helpful. Thanks! ::: agent: You’re welcome! Is there anything else I can assist you with today? ::: customer: No, that's all for now. Thanks again! ::: agent: Great, have a nice day, Alex!\n",
            "--\n",
            "\n",
            "\n",
            "\n",
            "Cluster 6:\n",
            "--\n",
            "bot: Hi Jessica, welcome to GreenGroceryDirect! How can I assist you today? ::: customer: Hi, the produce I got was damaged and past expiration! ::: bot: I'm really sorry to hear that. Could you please provide me with your order number? ::: customer: Sure, it's #GGD123456. ::: bot: Thank you. Let me check that for you. ::: bot: I see that your order was delivered yesterday. I apologize for the inconvenience. We can offer a replacement or a refund. Which would you prefer? ::: customer: A refund please. ::: bot: Alright, I've initiated a refund for your order #GGD123456. You should see the amount credited to your account within 5-7 business days. Is there anything else I can help you with? ::: customer: This process is so slow! Why does it take so long? ::: bot: I apologize for the inconvenience. Refund processing times are determined by your bank. We try to expedite this as much as possible. ::: customer: Well, guess I'll wait then. ::: bot: Again, I apologize for the trouble. Is there anything else I can assist you with today? ::: customer: No, that's all I guess. ::: bot: Thank you for reaching out to GreenGroceryDirect. Have a great day!\n",
            "--\n"
          ]
        }
      ],
      "source": [
        "# Print a few data points from each cluster to also help with explainability\n",
        "for i in range(num_clusters):\n",
        "    print(f\"\\n\\n\\nCluster {i}:\")\n",
        "    samples = df[df['cluster'] == i][text_col].tolist()[:5]\n",
        "    for s in samples:\n",
        "        print(\"--\")\n",
        "        print(s)\n",
        "    print(\"--\")"
      ]
    }
  ],
  "metadata": {
    "colab": {
      "provenance": [],
      "gpuType": "T4"
    },
    "kernelspec": {
      "display_name": "Python 3",
      "name": "python3"
    },
    "language_info": {
      "codemirror_mode": {
        "name": "ipython",
        "version": 3
      },
      "file_extension": ".py",
      "mimetype": "text/x-python",
      "name": "python",
      "nbconvert_exporter": "python",
      "pygments_lexer": "ipython3",
      "version": "3.11.10"
    },
    "accelerator": "GPU"
  },
  "nbformat": 4,
  "nbformat_minor": 0
}